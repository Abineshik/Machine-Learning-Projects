{
 "cells": [
  {
   "cell_type": "code",
   "execution_count": 57,
   "metadata": {
    "colab": {},
    "colab_type": "code",
    "id": "XiWxInUSL4wA"
   },
   "outputs": [],
   "source": [
    "import pandas as pd\n",
    "import numpy as np\n",
    "import seaborn as sns\n",
    "import matplotlib.pyplot as plt\n",
    "%matplotlib inline"
   ]
  },
  {
   "cell_type": "code",
   "execution_count": 58,
   "metadata": {
    "colab": {
     "base_uri": "https://localhost:8080/",
     "height": 204
    },
    "colab_type": "code",
    "id": "rE3hJvE4L4wb",
    "outputId": "0dd55927-c1d0-43b0-95dc-738c93cd30ef"
   },
   "outputs": [
    {
     "data": {
      "text/html": [
       "<div>\n",
       "<style scoped>\n",
       "    .dataframe tbody tr th:only-of-type {\n",
       "        vertical-align: middle;\n",
       "    }\n",
       "\n",
       "    .dataframe tbody tr th {\n",
       "        vertical-align: top;\n",
       "    }\n",
       "\n",
       "    .dataframe thead th {\n",
       "        text-align: right;\n",
       "    }\n",
       "</style>\n",
       "<table border=\"1\" class=\"dataframe\">\n",
       "  <thead>\n",
       "    <tr style=\"text-align: right;\">\n",
       "      <th></th>\n",
       "      <th>pet_id</th>\n",
       "      <th>issue_date</th>\n",
       "      <th>listing_date</th>\n",
       "      <th>condition</th>\n",
       "      <th>color_type</th>\n",
       "      <th>length(m)</th>\n",
       "      <th>height(cm)</th>\n",
       "      <th>X1</th>\n",
       "      <th>X2</th>\n",
       "      <th>breed_category</th>\n",
       "      <th>pet_category</th>\n",
       "    </tr>\n",
       "  </thead>\n",
       "  <tbody>\n",
       "    <tr>\n",
       "      <td>0</td>\n",
       "      <td>ANSL_69903</td>\n",
       "      <td>2016-07-10 00:00:00</td>\n",
       "      <td>2016-09-21 16:25:00</td>\n",
       "      <td>2.0</td>\n",
       "      <td>Brown Tabby</td>\n",
       "      <td>0.80</td>\n",
       "      <td>7.78</td>\n",
       "      <td>13</td>\n",
       "      <td>9</td>\n",
       "      <td>0.0</td>\n",
       "      <td>1</td>\n",
       "    </tr>\n",
       "    <tr>\n",
       "      <td>1</td>\n",
       "      <td>ANSL_66892</td>\n",
       "      <td>2013-11-21 00:00:00</td>\n",
       "      <td>2018-12-27 17:47:00</td>\n",
       "      <td>1.0</td>\n",
       "      <td>White</td>\n",
       "      <td>0.72</td>\n",
       "      <td>14.19</td>\n",
       "      <td>13</td>\n",
       "      <td>9</td>\n",
       "      <td>0.0</td>\n",
       "      <td>2</td>\n",
       "    </tr>\n",
       "    <tr>\n",
       "      <td>2</td>\n",
       "      <td>ANSL_69750</td>\n",
       "      <td>2014-09-28 00:00:00</td>\n",
       "      <td>2016-10-19 08:24:00</td>\n",
       "      <td>NaN</td>\n",
       "      <td>Brown</td>\n",
       "      <td>0.15</td>\n",
       "      <td>40.90</td>\n",
       "      <td>15</td>\n",
       "      <td>4</td>\n",
       "      <td>2.0</td>\n",
       "      <td>4</td>\n",
       "    </tr>\n",
       "    <tr>\n",
       "      <td>3</td>\n",
       "      <td>ANSL_71623</td>\n",
       "      <td>2016-12-31 00:00:00</td>\n",
       "      <td>2019-01-25 18:30:00</td>\n",
       "      <td>1.0</td>\n",
       "      <td>White</td>\n",
       "      <td>0.62</td>\n",
       "      <td>17.82</td>\n",
       "      <td>0</td>\n",
       "      <td>1</td>\n",
       "      <td>0.0</td>\n",
       "      <td>2</td>\n",
       "    </tr>\n",
       "    <tr>\n",
       "      <td>4</td>\n",
       "      <td>ANSL_57969</td>\n",
       "      <td>2017-09-28 00:00:00</td>\n",
       "      <td>2017-11-19 09:38:00</td>\n",
       "      <td>2.0</td>\n",
       "      <td>Black</td>\n",
       "      <td>0.50</td>\n",
       "      <td>11.06</td>\n",
       "      <td>18</td>\n",
       "      <td>4</td>\n",
       "      <td>0.0</td>\n",
       "      <td>1</td>\n",
       "    </tr>\n",
       "  </tbody>\n",
       "</table>\n",
       "</div>"
      ],
      "text/plain": [
       "       pet_id           issue_date         listing_date  condition  \\\n",
       "0  ANSL_69903  2016-07-10 00:00:00  2016-09-21 16:25:00        2.0   \n",
       "1  ANSL_66892  2013-11-21 00:00:00  2018-12-27 17:47:00        1.0   \n",
       "2  ANSL_69750  2014-09-28 00:00:00  2016-10-19 08:24:00        NaN   \n",
       "3  ANSL_71623  2016-12-31 00:00:00  2019-01-25 18:30:00        1.0   \n",
       "4  ANSL_57969  2017-09-28 00:00:00  2017-11-19 09:38:00        2.0   \n",
       "\n",
       "    color_type  length(m)  height(cm)  X1  X2  breed_category  pet_category  \n",
       "0  Brown Tabby       0.80        7.78  13   9             0.0             1  \n",
       "1        White       0.72       14.19  13   9             0.0             2  \n",
       "2        Brown       0.15       40.90  15   4             2.0             4  \n",
       "3        White       0.62       17.82   0   1             0.0             2  \n",
       "4        Black       0.50       11.06  18   4             0.0             1  "
      ]
     },
     "execution_count": 58,
     "metadata": {},
     "output_type": "execute_result"
    }
   ],
   "source": [
    "x_train = pd.read_csv('dataset\\\\train.csv')\n",
    "train_id = x_train['pet_id']\n",
    "test = pd.read_csv('dataset//test.csv')\n",
    "test_id = test['pet_id']\n",
    "x_train.head()"
   ]
  },
  {
   "cell_type": "code",
   "execution_count": 59,
   "metadata": {
    "colab": {},
    "colab_type": "code",
    "id": "uBuTvgE9L4wo"
   },
   "outputs": [],
   "source": [
    "x_train.rename(columns = {'length(m)': 'length', 'height(cm)': 'height'}, inplace=True)\n",
    "test.rename(columns = {'length(m)': 'length', 'height(cm)': 'height'}, inplace=True)"
   ]
  },
  {
   "cell_type": "code",
   "execution_count": 60,
   "metadata": {
    "colab": {
     "base_uri": "https://localhost:8080/",
     "height": 297
    },
    "colab_type": "code",
    "id": "x_wdJq7RL4wv",
    "outputId": "aabcad1f-d071-4e21-d2e3-59703ff2cb55"
   },
   "outputs": [
    {
     "data": {
      "text/html": [
       "<div>\n",
       "<style scoped>\n",
       "    .dataframe tbody tr th:only-of-type {\n",
       "        vertical-align: middle;\n",
       "    }\n",
       "\n",
       "    .dataframe tbody tr th {\n",
       "        vertical-align: top;\n",
       "    }\n",
       "\n",
       "    .dataframe thead th {\n",
       "        text-align: right;\n",
       "    }\n",
       "</style>\n",
       "<table border=\"1\" class=\"dataframe\">\n",
       "  <thead>\n",
       "    <tr style=\"text-align: right;\">\n",
       "      <th></th>\n",
       "      <th>condition</th>\n",
       "      <th>length</th>\n",
       "      <th>height</th>\n",
       "      <th>X1</th>\n",
       "      <th>X2</th>\n",
       "      <th>breed_category</th>\n",
       "      <th>pet_category</th>\n",
       "    </tr>\n",
       "  </thead>\n",
       "  <tbody>\n",
       "    <tr>\n",
       "      <td>count</td>\n",
       "      <td>17357.000000</td>\n",
       "      <td>18834.000000</td>\n",
       "      <td>18834.000000</td>\n",
       "      <td>18834.000000</td>\n",
       "      <td>18834.000000</td>\n",
       "      <td>18834.000000</td>\n",
       "      <td>18834.000000</td>\n",
       "    </tr>\n",
       "    <tr>\n",
       "      <td>mean</td>\n",
       "      <td>0.883390</td>\n",
       "      <td>0.502636</td>\n",
       "      <td>27.448832</td>\n",
       "      <td>5.369598</td>\n",
       "      <td>4.577307</td>\n",
       "      <td>0.600563</td>\n",
       "      <td>1.709143</td>\n",
       "    </tr>\n",
       "    <tr>\n",
       "      <td>std</td>\n",
       "      <td>0.770434</td>\n",
       "      <td>0.288705</td>\n",
       "      <td>13.019781</td>\n",
       "      <td>6.572366</td>\n",
       "      <td>3.517763</td>\n",
       "      <td>0.629883</td>\n",
       "      <td>0.717919</td>\n",
       "    </tr>\n",
       "    <tr>\n",
       "      <td>min</td>\n",
       "      <td>0.000000</td>\n",
       "      <td>0.000000</td>\n",
       "      <td>5.000000</td>\n",
       "      <td>0.000000</td>\n",
       "      <td>0.000000</td>\n",
       "      <td>0.000000</td>\n",
       "      <td>0.000000</td>\n",
       "    </tr>\n",
       "    <tr>\n",
       "      <td>25%</td>\n",
       "      <td>0.000000</td>\n",
       "      <td>0.250000</td>\n",
       "      <td>16.172500</td>\n",
       "      <td>0.000000</td>\n",
       "      <td>1.000000</td>\n",
       "      <td>0.000000</td>\n",
       "      <td>1.000000</td>\n",
       "    </tr>\n",
       "    <tr>\n",
       "      <td>50%</td>\n",
       "      <td>1.000000</td>\n",
       "      <td>0.500000</td>\n",
       "      <td>27.340000</td>\n",
       "      <td>0.000000</td>\n",
       "      <td>4.000000</td>\n",
       "      <td>1.000000</td>\n",
       "      <td>2.000000</td>\n",
       "    </tr>\n",
       "    <tr>\n",
       "      <td>75%</td>\n",
       "      <td>1.000000</td>\n",
       "      <td>0.760000</td>\n",
       "      <td>38.890000</td>\n",
       "      <td>13.000000</td>\n",
       "      <td>9.000000</td>\n",
       "      <td>1.000000</td>\n",
       "      <td>2.000000</td>\n",
       "    </tr>\n",
       "    <tr>\n",
       "      <td>max</td>\n",
       "      <td>2.000000</td>\n",
       "      <td>1.000000</td>\n",
       "      <td>50.000000</td>\n",
       "      <td>19.000000</td>\n",
       "      <td>9.000000</td>\n",
       "      <td>2.000000</td>\n",
       "      <td>4.000000</td>\n",
       "    </tr>\n",
       "  </tbody>\n",
       "</table>\n",
       "</div>"
      ],
      "text/plain": [
       "          condition        length        height            X1            X2  \\\n",
       "count  17357.000000  18834.000000  18834.000000  18834.000000  18834.000000   \n",
       "mean       0.883390      0.502636     27.448832      5.369598      4.577307   \n",
       "std        0.770434      0.288705     13.019781      6.572366      3.517763   \n",
       "min        0.000000      0.000000      5.000000      0.000000      0.000000   \n",
       "25%        0.000000      0.250000     16.172500      0.000000      1.000000   \n",
       "50%        1.000000      0.500000     27.340000      0.000000      4.000000   \n",
       "75%        1.000000      0.760000     38.890000     13.000000      9.000000   \n",
       "max        2.000000      1.000000     50.000000     19.000000      9.000000   \n",
       "\n",
       "       breed_category  pet_category  \n",
       "count    18834.000000  18834.000000  \n",
       "mean         0.600563      1.709143  \n",
       "std          0.629883      0.717919  \n",
       "min          0.000000      0.000000  \n",
       "25%          0.000000      1.000000  \n",
       "50%          1.000000      2.000000  \n",
       "75%          1.000000      2.000000  \n",
       "max          2.000000      4.000000  "
      ]
     },
     "execution_count": 60,
     "metadata": {},
     "output_type": "execute_result"
    }
   ],
   "source": [
    "x_train.describe()"
   ]
  },
  {
   "cell_type": "code",
   "execution_count": 61,
   "metadata": {
    "colab": {
     "base_uri": "https://localhost:8080/",
     "height": 323
    },
    "colab_type": "code",
    "id": "zRggtqCZL4w2",
    "outputId": "50f2e515-7309-4311-8991-6cdd0cf4fd72"
   },
   "outputs": [
    {
     "name": "stdout",
     "output_type": "stream",
     "text": [
      "<class 'pandas.core.frame.DataFrame'>\n",
      "RangeIndex: 18834 entries, 0 to 18833\n",
      "Data columns (total 11 columns):\n",
      "pet_id            18834 non-null object\n",
      "issue_date        18834 non-null object\n",
      "listing_date      18834 non-null object\n",
      "condition         17357 non-null float64\n",
      "color_type        18834 non-null object\n",
      "length            18834 non-null float64\n",
      "height            18834 non-null float64\n",
      "X1                18834 non-null int64\n",
      "X2                18834 non-null int64\n",
      "breed_category    18834 non-null float64\n",
      "pet_category      18834 non-null int64\n",
      "dtypes: float64(4), int64(3), object(4)\n",
      "memory usage: 1.6+ MB\n"
     ]
    }
   ],
   "source": [
    "x_train.info()"
   ]
  },
  {
   "cell_type": "code",
   "execution_count": 62,
   "metadata": {
    "colab": {
     "base_uri": "https://localhost:8080/",
     "height": 85
    },
    "colab_type": "code",
    "id": "smtPpwUCL4xJ",
    "outputId": "b5d5504b-6ce1-45d7-907a-634251f4fcaf"
   },
   "outputs": [
    {
     "data": {
      "text/plain": [
       "1.0    6819\n",
       "0.0    6281\n",
       "2.0    4257\n",
       "Name: condition, dtype: int64"
      ]
     },
     "execution_count": 62,
     "metadata": {},
     "output_type": "execute_result"
    }
   ],
   "source": [
    "x_train['condition'].value_counts()"
   ]
  },
  {
   "cell_type": "code",
   "execution_count": 63,
   "metadata": {
    "colab": {},
    "colab_type": "code",
    "id": "XPk8FtEoL4xQ"
   },
   "outputs": [],
   "source": [
    "#pd.crosstab(x_train['color_type'], x_train['breed_category'])"
   ]
  },
  {
   "cell_type": "code",
   "execution_count": 64,
   "metadata": {
    "colab": {
     "base_uri": "https://localhost:8080/",
     "height": 173
    },
    "colab_type": "code",
    "id": "6Eb2GR2hL4xe",
    "outputId": "ef898274-2b5e-4305-c13c-ae5e5b4cfa7b"
   },
   "outputs": [
    {
     "data": {
      "text/html": [
       "<div>\n",
       "<style scoped>\n",
       "    .dataframe tbody tr th:only-of-type {\n",
       "        vertical-align: middle;\n",
       "    }\n",
       "\n",
       "    .dataframe tbody tr th {\n",
       "        vertical-align: top;\n",
       "    }\n",
       "\n",
       "    .dataframe thead th {\n",
       "        text-align: right;\n",
       "    }\n",
       "</style>\n",
       "<table border=\"1\" class=\"dataframe\">\n",
       "  <thead>\n",
       "    <tr style=\"text-align: right;\">\n",
       "      <th>pet_category</th>\n",
       "      <th>0</th>\n",
       "      <th>1</th>\n",
       "      <th>2</th>\n",
       "      <th>4</th>\n",
       "    </tr>\n",
       "    <tr>\n",
       "      <th>condition</th>\n",
       "      <th></th>\n",
       "      <th></th>\n",
       "      <th></th>\n",
       "      <th></th>\n",
       "    </tr>\n",
       "  </thead>\n",
       "  <tbody>\n",
       "    <tr>\n",
       "      <td>0.0</td>\n",
       "      <td>0</td>\n",
       "      <td>2376</td>\n",
       "      <td>3875</td>\n",
       "      <td>30</td>\n",
       "    </tr>\n",
       "    <tr>\n",
       "      <td>1.0</td>\n",
       "      <td>0</td>\n",
       "      <td>2218</td>\n",
       "      <td>4576</td>\n",
       "      <td>25</td>\n",
       "    </tr>\n",
       "    <tr>\n",
       "      <td>2.0</td>\n",
       "      <td>37</td>\n",
       "      <td>2007</td>\n",
       "      <td>2110</td>\n",
       "      <td>103</td>\n",
       "    </tr>\n",
       "  </tbody>\n",
       "</table>\n",
       "</div>"
      ],
      "text/plain": [
       "pet_category   0     1     2    4\n",
       "condition                        \n",
       "0.0            0  2376  3875   30\n",
       "1.0            0  2218  4576   25\n",
       "2.0           37  2007  2110  103"
      ]
     },
     "execution_count": 64,
     "metadata": {},
     "output_type": "execute_result"
    }
   ],
   "source": [
    "pd.crosstab(x_train['condition'], x_train['pet_category'])"
   ]
  },
  {
   "cell_type": "code",
   "execution_count": 65,
   "metadata": {
    "colab": {
     "base_uri": "https://localhost:8080/",
     "height": 85
    },
    "colab_type": "code",
    "id": "ewxeHOmdL4xl",
    "outputId": "cfb6aea2-1ec1-4ddd-f863-f04ed93afa65"
   },
   "outputs": [
    {
     "data": {
      "text/plain": [
       "0.0    9000\n",
       "1.0    8357\n",
       "2.0    1477\n",
       "Name: breed_category, dtype: int64"
      ]
     },
     "execution_count": 65,
     "metadata": {},
     "output_type": "execute_result"
    }
   ],
   "source": [
    "x_train['breed_category'].value_counts()"
   ]
  },
  {
   "cell_type": "code",
   "execution_count": 66,
   "metadata": {
    "colab": {
     "base_uri": "https://localhost:8080/",
     "height": 102
    },
    "colab_type": "code",
    "id": "3mZ6sH39L4xs",
    "outputId": "2897f30d-cec8-43d8-a64a-9cad1c554f7e"
   },
   "outputs": [
    {
     "data": {
      "text/plain": [
       "2    10621\n",
       "1     7184\n",
       "4      941\n",
       "0       88\n",
       "Name: pet_category, dtype: int64"
      ]
     },
     "execution_count": 66,
     "metadata": {},
     "output_type": "execute_result"
    }
   ],
   "source": [
    "x_train['pet_category'].value_counts()"
   ]
  },
  {
   "cell_type": "code",
   "execution_count": null,
   "metadata": {
    "colab": {},
    "colab_type": "code",
    "id": "8DhcOvrfL4x1"
   },
   "outputs": [],
   "source": []
  },
  {
   "cell_type": "code",
   "execution_count": null,
   "metadata": {
    "colab": {},
    "colab_type": "code",
    "id": "wKu73OCtL4x7"
   },
   "outputs": [],
   "source": []
  },
  {
   "cell_type": "code",
   "execution_count": 67,
   "metadata": {
    "colab": {},
    "colab_type": "code",
    "id": "2a9f52N-L4yE"
   },
   "outputs": [],
   "source": [
    "#sns.pairplot(train)"
   ]
  },
  {
   "cell_type": "code",
   "execution_count": 68,
   "metadata": {
    "colab": {
     "base_uri": "https://localhost:8080/",
     "height": 297
    },
    "colab_type": "code",
    "id": "23F0l6fqL4yL",
    "outputId": "052c850f-3147-4d97-ac60-007c6d03c781"
   },
   "outputs": [
    {
     "data": {
      "text/plain": [
       "<matplotlib.axes._subplots.AxesSubplot at 0x22095d1a7c8>"
      ]
     },
     "execution_count": 68,
     "metadata": {},
     "output_type": "execute_result"
    },
    {
     "data": {
      "image/png": "[encoded data removed]",
      "text/plain": [
       "<Figure size 432x288 with 2 Axes>"
      ]
     },
     "metadata": {
      "needs_background": "light"
     },
     "output_type": "display_data"
    }
   ],
   "source": [
    "fig, ax = plt.subplots(nrows=1, ncols=2)\n",
    "ax = ax.flatten()\n",
    "sns.boxplot(x='pet_category', y='length', data=x_train, ax=ax[0])\n",
    "sns.boxplot(x='breed_category', y='height', data=x_train, ax=ax[1])"
   ]
  },
  {
   "cell_type": "code",
   "execution_count": 69,
   "metadata": {
    "colab": {
     "base_uri": "https://localhost:8080/",
     "height": 296
    },
    "colab_type": "code",
    "id": "KFibTFKLL4yS",
    "outputId": "29fa9067-faef-4763-a5b5-6cf91f24fcfd"
   },
   "outputs": [
    {
     "data": {
      "text/plain": [
       "<matplotlib.axes._subplots.AxesSubplot at 0x22095622dc8>"
      ]
     },
     "execution_count": 69,
     "metadata": {},
     "output_type": "execute_result"
    },
    {
     "data": {
      "image/png": "[encoded data removed]",
      "text/plain": [
       "<Figure size 432x288 with 1 Axes>"
      ]
     },
     "metadata": {
      "needs_background": "light"
     },
     "output_type": "display_data"
    }
   ],
   "source": [
    "sns.distplot(x_train['height'])"
   ]
  },
  {
   "cell_type": "code",
   "execution_count": 70,
   "metadata": {
    "colab": {},
    "colab_type": "code",
    "id": "qvTNlbqxRUHF"
   },
   "outputs": [],
   "source": [
    "y_train_1 = x_train['breed_category']\n",
    "y_train_2 = x_train['pet_category']\n",
    "train = x_train.drop(['breed_category', 'pet_category'], axis=1)"
   ]
  },
  {
   "cell_type": "code",
   "execution_count": 71,
   "metadata": {
    "colab": {},
    "colab_type": "code",
    "id": "xc88xrVXL4yk"
   },
   "outputs": [],
   "source": [
    "df = [train, test]\n",
    "for df in [train, test]:    \n",
    "    duration = pd.to_datetime(df['listing_date'])-pd.to_datetime(df['issue_date'])\n",
    "    duration = duration.dt.days\n",
    "    df['duration'] =  duration\n",
    "    size = df['length']*df['height']\n",
    "    df['size'] = size\n",
    "    df[['color_type','X1', 'X2', 'condition']] = df[['color_type','X1', 'X2', 'condition']].astype('category')\n",
    "    df.drop(['pet_id', 'issue_date', 'listing_date'], axis =1, inplace=True)"
   ]
  },
  {
   "cell_type": "code",
   "execution_count": 72,
   "metadata": {
    "scrolled": true
   },
   "outputs": [
    {
     "data": {
      "text/plain": [
       "<matplotlib.axes._subplots.AxesSubplot at 0x22095af7208>"
      ]
     },
     "execution_count": 72,
     "metadata": {},
     "output_type": "execute_result"
    },
    {
     "data": {
      "image/png": "[encoded data removed]",
      "text/plain": [
       "<Figure size 432x288 with 1 Axes>"
      ]
     },
     "metadata": {
      "needs_background": "light"
     },
     "output_type": "display_data"
    }
   ],
   "source": [
    "sns.distplot(train['duration'], bins=50)"
   ]
  },
  {
   "cell_type": "code",
   "execution_count": 73,
   "metadata": {},
   "outputs": [
    {
     "data": {
      "text/html": [
       "<div>\n",
       "<style scoped>\n",
       "    .dataframe tbody tr th:only-of-type {\n",
       "        vertical-align: middle;\n",
       "    }\n",
       "\n",
       "    .dataframe tbody tr th {\n",
       "        vertical-align: top;\n",
       "    }\n",
       "\n",
       "    .dataframe thead th {\n",
       "        text-align: right;\n",
       "    }\n",
       "</style>\n",
       "<table border=\"1\" class=\"dataframe\">\n",
       "  <thead>\n",
       "    <tr style=\"text-align: right;\">\n",
       "      <th></th>\n",
       "      <th>length</th>\n",
       "      <th>height</th>\n",
       "      <th>duration</th>\n",
       "      <th>size</th>\n",
       "    </tr>\n",
       "  </thead>\n",
       "  <tbody>\n",
       "    <tr>\n",
       "      <td>count</td>\n",
       "      <td>18834.000000</td>\n",
       "      <td>18834.000000</td>\n",
       "      <td>18834.000000</td>\n",
       "      <td>18834.000000</td>\n",
       "    </tr>\n",
       "    <tr>\n",
       "      <td>mean</td>\n",
       "      <td>0.502636</td>\n",
       "      <td>27.448832</td>\n",
       "      <td>855.306786</td>\n",
       "      <td>13.779984</td>\n",
       "    </tr>\n",
       "    <tr>\n",
       "      <td>std</td>\n",
       "      <td>0.288705</td>\n",
       "      <td>13.019781</td>\n",
       "      <td>1096.674990</td>\n",
       "      <td>10.940373</td>\n",
       "    </tr>\n",
       "    <tr>\n",
       "      <td>min</td>\n",
       "      <td>0.000000</td>\n",
       "      <td>5.000000</td>\n",
       "      <td>-76.000000</td>\n",
       "      <td>0.000000</td>\n",
       "    </tr>\n",
       "    <tr>\n",
       "      <td>25%</td>\n",
       "      <td>0.250000</td>\n",
       "      <td>16.172500</td>\n",
       "      <td>119.000000</td>\n",
       "      <td>4.944725</td>\n",
       "    </tr>\n",
       "    <tr>\n",
       "      <td>50%</td>\n",
       "      <td>0.500000</td>\n",
       "      <td>27.340000</td>\n",
       "      <td>392.000000</td>\n",
       "      <td>10.942500</td>\n",
       "    </tr>\n",
       "    <tr>\n",
       "      <td>75%</td>\n",
       "      <td>0.760000</td>\n",
       "      <td>38.890000</td>\n",
       "      <td>1117.000000</td>\n",
       "      <td>20.483575</td>\n",
       "    </tr>\n",
       "    <tr>\n",
       "      <td>max</td>\n",
       "      <td>1.000000</td>\n",
       "      <td>50.000000</td>\n",
       "      <td>8056.000000</td>\n",
       "      <td>49.780000</td>\n",
       "    </tr>\n",
       "  </tbody>\n",
       "</table>\n",
       "</div>"
      ],
      "text/plain": [
       "             length        height      duration          size\n",
       "count  18834.000000  18834.000000  18834.000000  18834.000000\n",
       "mean       0.502636     27.448832    855.306786     13.779984\n",
       "std        0.288705     13.019781   1096.674990     10.940373\n",
       "min        0.000000      5.000000    -76.000000      0.000000\n",
       "25%        0.250000     16.172500    119.000000      4.944725\n",
       "50%        0.500000     27.340000    392.000000     10.942500\n",
       "75%        0.760000     38.890000   1117.000000     20.483575\n",
       "max        1.000000     50.000000   8056.000000     49.780000"
      ]
     },
     "execution_count": 73,
     "metadata": {},
     "output_type": "execute_result"
    }
   ],
   "source": [
    "train.describe()"
   ]
  },
  {
   "cell_type": "code",
   "execution_count": 74,
   "metadata": {},
   "outputs": [
    {
     "data": {
      "text/plain": [
       "<matplotlib.axes._subplots.AxesSubplot at 0x22095d72bc8>"
      ]
     },
     "execution_count": 74,
     "metadata": {},
     "output_type": "execute_result"
    },
    {
     "data": {
      "image/png": "[encoded data removed]",
      "text/plain": [
       "<Figure size 432x288 with 1 Axes>"
      ]
     },
     "metadata": {
      "needs_background": "light"
     },
     "output_type": "display_data"
    }
   ],
   "source": [
    "sns.lineplot(y=train['duration'], x=x_train['pet_category'].astype('category'))"
   ]
  },
  {
   "cell_type": "code",
   "execution_count": null,
   "metadata": {},
   "outputs": [],
   "source": []
  },
  {
   "cell_type": "code",
   "execution_count": 75,
   "metadata": {},
   "outputs": [],
   "source": [
    "from sklearn.impute import SimpleImputer\n",
    "\n",
    "imp = SimpleImputer(strategy='constant', fill_value=2)\n",
    "train['condition'] = imp.fit_transform(np.array(train['condition']).reshape(-1,1))\n",
    "test['condition'] = imp.transform(np.array(test['condition']).reshape(-1,1))"
   ]
  },
  {
   "cell_type": "code",
   "execution_count": 76,
   "metadata": {
    "colab": {
     "base_uri": "https://localhost:8080/",
     "height": 204
    },
    "colab_type": "code",
    "id": "nFxESlEIQuvL",
    "outputId": "c156eee2-8281-4607-d58b-e51534cb67fe"
   },
   "outputs": [
    {
     "data": {
      "text/html": [
       "<div>\n",
       "<style scoped>\n",
       "    .dataframe tbody tr th:only-of-type {\n",
       "        vertical-align: middle;\n",
       "    }\n",
       "\n",
       "    .dataframe tbody tr th {\n",
       "        vertical-align: top;\n",
       "    }\n",
       "\n",
       "    .dataframe thead th {\n",
       "        text-align: right;\n",
       "    }\n",
       "</style>\n",
       "<table border=\"1\" class=\"dataframe\">\n",
       "  <thead>\n",
       "    <tr style=\"text-align: right;\">\n",
       "      <th></th>\n",
       "      <th>condition</th>\n",
       "      <th>color_type</th>\n",
       "      <th>length</th>\n",
       "      <th>height</th>\n",
       "      <th>X1</th>\n",
       "      <th>X2</th>\n",
       "      <th>duration</th>\n",
       "      <th>size</th>\n",
       "    </tr>\n",
       "  </thead>\n",
       "  <tbody>\n",
       "    <tr>\n",
       "      <td>0</td>\n",
       "      <td>0.0</td>\n",
       "      <td>Black</td>\n",
       "      <td>0.87</td>\n",
       "      <td>42.73</td>\n",
       "      <td>0</td>\n",
       "      <td>7</td>\n",
       "      <td>4404</td>\n",
       "      <td>37.1751</td>\n",
       "    </tr>\n",
       "    <tr>\n",
       "      <td>1</td>\n",
       "      <td>1.0</td>\n",
       "      <td>Orange Tabby</td>\n",
       "      <td>0.06</td>\n",
       "      <td>6.71</td>\n",
       "      <td>0</td>\n",
       "      <td>1</td>\n",
       "      <td>174</td>\n",
       "      <td>0.4026</td>\n",
       "    </tr>\n",
       "    <tr>\n",
       "      <td>2</td>\n",
       "      <td>1.0</td>\n",
       "      <td>Black</td>\n",
       "      <td>0.24</td>\n",
       "      <td>41.21</td>\n",
       "      <td>0</td>\n",
       "      <td>7</td>\n",
       "      <td>1999</td>\n",
       "      <td>9.8904</td>\n",
       "    </tr>\n",
       "    <tr>\n",
       "      <td>3</td>\n",
       "      <td>1.0</td>\n",
       "      <td>Black</td>\n",
       "      <td>0.29</td>\n",
       "      <td>8.46</td>\n",
       "      <td>7</td>\n",
       "      <td>1</td>\n",
       "      <td>1148</td>\n",
       "      <td>2.4534</td>\n",
       "    </tr>\n",
       "    <tr>\n",
       "      <td>4</td>\n",
       "      <td>1.0</td>\n",
       "      <td>Brown</td>\n",
       "      <td>0.71</td>\n",
       "      <td>30.92</td>\n",
       "      <td>0</td>\n",
       "      <td>7</td>\n",
       "      <td>463</td>\n",
       "      <td>21.9532</td>\n",
       "    </tr>\n",
       "  </tbody>\n",
       "</table>\n",
       "</div>"
      ],
      "text/plain": [
       "   condition    color_type  length  height X1 X2  duration     size\n",
       "0        0.0         Black    0.87   42.73  0  7      4404  37.1751\n",
       "1        1.0  Orange Tabby    0.06    6.71  0  1       174   0.4026\n",
       "2        1.0         Black    0.24   41.21  0  7      1999   9.8904\n",
       "3        1.0         Black    0.29    8.46  7  1      1148   2.4534\n",
       "4        1.0         Brown    0.71   30.92  0  7       463  21.9532"
      ]
     },
     "execution_count": 76,
     "metadata": {},
     "output_type": "execute_result"
    }
   ],
   "source": [
    "test.head()"
   ]
  },
  {
   "cell_type": "code",
   "execution_count": null,
   "metadata": {
    "colab": {
     "base_uri": "https://localhost:8080/",
     "height": 204
    },
    "colab_type": "code",
    "id": "u4UObpuYQ0ro",
    "outputId": "f5cb521c-54d2-4a71-e3a4-a55fc01515f4"
   },
   "outputs": [],
   "source": []
  },
  {
   "cell_type": "code",
   "execution_count": 77,
   "metadata": {
    "colab": {
     "base_uri": "https://localhost:8080/",
     "height": 272
    },
    "colab_type": "code",
    "id": "yufe3WzGL4yq",
    "outputId": "5ca41483-55df-4ddc-ce23-e6a780e5f2db"
   },
   "outputs": [
    {
     "name": "stdout",
     "output_type": "stream",
     "text": [
      "<class 'pandas.core.frame.DataFrame'>\n",
      "RangeIndex: 18834 entries, 0 to 18833\n",
      "Data columns (total 8 columns):\n",
      "condition     18834 non-null float64\n",
      "color_type    18834 non-null category\n",
      "length        18834 non-null float64\n",
      "height        18834 non-null float64\n",
      "X1            18834 non-null category\n",
      "X2            18834 non-null category\n",
      "duration      18834 non-null int64\n",
      "size          18834 non-null float64\n",
      "dtypes: category(3), float64(4), int64(1)\n",
      "memory usage: 795.1 KB\n"
     ]
    }
   ],
   "source": [
    "train.info()"
   ]
  },
  {
   "cell_type": "code",
   "execution_count": 78,
   "metadata": {
    "colab": {},
    "colab_type": "code",
    "id": "WkOXcpzSQ7eq"
   },
   "outputs": [
    {
     "data": {
      "text/html": [
       "<div>\n",
       "<style scoped>\n",
       "    .dataframe tbody tr th:only-of-type {\n",
       "        vertical-align: middle;\n",
       "    }\n",
       "\n",
       "    .dataframe tbody tr th {\n",
       "        vertical-align: top;\n",
       "    }\n",
       "\n",
       "    .dataframe thead th {\n",
       "        text-align: right;\n",
       "    }\n",
       "</style>\n",
       "<table border=\"1\" class=\"dataframe\">\n",
       "  <thead>\n",
       "    <tr style=\"text-align: right;\">\n",
       "      <th></th>\n",
       "      <th>condition</th>\n",
       "      <th>color_type</th>\n",
       "      <th>length</th>\n",
       "      <th>height</th>\n",
       "      <th>X1</th>\n",
       "      <th>X2</th>\n",
       "      <th>duration</th>\n",
       "      <th>size</th>\n",
       "    </tr>\n",
       "  </thead>\n",
       "  <tbody>\n",
       "    <tr>\n",
       "      <td>0</td>\n",
       "      <td>0.0</td>\n",
       "      <td>Black</td>\n",
       "      <td>0.87</td>\n",
       "      <td>42.73</td>\n",
       "      <td>0</td>\n",
       "      <td>7</td>\n",
       "      <td>4404</td>\n",
       "      <td>37.1751</td>\n",
       "    </tr>\n",
       "    <tr>\n",
       "      <td>1</td>\n",
       "      <td>1.0</td>\n",
       "      <td>Orange Tabby</td>\n",
       "      <td>0.06</td>\n",
       "      <td>6.71</td>\n",
       "      <td>0</td>\n",
       "      <td>1</td>\n",
       "      <td>174</td>\n",
       "      <td>0.4026</td>\n",
       "    </tr>\n",
       "    <tr>\n",
       "      <td>2</td>\n",
       "      <td>1.0</td>\n",
       "      <td>Black</td>\n",
       "      <td>0.24</td>\n",
       "      <td>41.21</td>\n",
       "      <td>0</td>\n",
       "      <td>7</td>\n",
       "      <td>1999</td>\n",
       "      <td>9.8904</td>\n",
       "    </tr>\n",
       "    <tr>\n",
       "      <td>3</td>\n",
       "      <td>1.0</td>\n",
       "      <td>Black</td>\n",
       "      <td>0.29</td>\n",
       "      <td>8.46</td>\n",
       "      <td>7</td>\n",
       "      <td>1</td>\n",
       "      <td>1148</td>\n",
       "      <td>2.4534</td>\n",
       "    </tr>\n",
       "    <tr>\n",
       "      <td>4</td>\n",
       "      <td>1.0</td>\n",
       "      <td>Brown</td>\n",
       "      <td>0.71</td>\n",
       "      <td>30.92</td>\n",
       "      <td>0</td>\n",
       "      <td>7</td>\n",
       "      <td>463</td>\n",
       "      <td>21.9532</td>\n",
       "    </tr>\n",
       "  </tbody>\n",
       "</table>\n",
       "</div>"
      ],
      "text/plain": [
       "   condition    color_type  length  height X1 X2  duration     size\n",
       "0        0.0         Black    0.87   42.73  0  7      4404  37.1751\n",
       "1        1.0  Orange Tabby    0.06    6.71  0  1       174   0.4026\n",
       "2        1.0         Black    0.24   41.21  0  7      1999   9.8904\n",
       "3        1.0         Black    0.29    8.46  7  1      1148   2.4534\n",
       "4        1.0         Brown    0.71   30.92  0  7       463  21.9532"
      ]
     },
     "execution_count": 78,
     "metadata": {},
     "output_type": "execute_result"
    }
   ],
   "source": [
    "test.head()"
   ]
  },
  {
   "cell_type": "code",
   "execution_count": 79,
   "metadata": {
    "colab": {},
    "colab_type": "code",
    "id": "Uhcq9p7QRJD8"
   },
   "outputs": [
    {
     "data": {
      "text/html": [
       "<div>\n",
       "<style scoped>\n",
       "    .dataframe tbody tr th:only-of-type {\n",
       "        vertical-align: middle;\n",
       "    }\n",
       "\n",
       "    .dataframe tbody tr th {\n",
       "        vertical-align: top;\n",
       "    }\n",
       "\n",
       "    .dataframe thead th {\n",
       "        text-align: right;\n",
       "    }\n",
       "</style>\n",
       "<table border=\"1\" class=\"dataframe\">\n",
       "  <thead>\n",
       "    <tr style=\"text-align: right;\">\n",
       "      <th></th>\n",
       "      <th>condition</th>\n",
       "      <th>color_type</th>\n",
       "      <th>length</th>\n",
       "      <th>height</th>\n",
       "      <th>X1</th>\n",
       "      <th>X2</th>\n",
       "      <th>duration</th>\n",
       "      <th>size</th>\n",
       "    </tr>\n",
       "  </thead>\n",
       "  <tbody>\n",
       "    <tr>\n",
       "      <td>0</td>\n",
       "      <td>2.0</td>\n",
       "      <td>Brown Tabby</td>\n",
       "      <td>0.80</td>\n",
       "      <td>7.78</td>\n",
       "      <td>13</td>\n",
       "      <td>9</td>\n",
       "      <td>73</td>\n",
       "      <td>6.2240</td>\n",
       "    </tr>\n",
       "    <tr>\n",
       "      <td>1</td>\n",
       "      <td>1.0</td>\n",
       "      <td>White</td>\n",
       "      <td>0.72</td>\n",
       "      <td>14.19</td>\n",
       "      <td>13</td>\n",
       "      <td>9</td>\n",
       "      <td>1862</td>\n",
       "      <td>10.2168</td>\n",
       "    </tr>\n",
       "    <tr>\n",
       "      <td>2</td>\n",
       "      <td>2.0</td>\n",
       "      <td>Brown</td>\n",
       "      <td>0.15</td>\n",
       "      <td>40.90</td>\n",
       "      <td>15</td>\n",
       "      <td>4</td>\n",
       "      <td>752</td>\n",
       "      <td>6.1350</td>\n",
       "    </tr>\n",
       "    <tr>\n",
       "      <td>3</td>\n",
       "      <td>1.0</td>\n",
       "      <td>White</td>\n",
       "      <td>0.62</td>\n",
       "      <td>17.82</td>\n",
       "      <td>0</td>\n",
       "      <td>1</td>\n",
       "      <td>755</td>\n",
       "      <td>11.0484</td>\n",
       "    </tr>\n",
       "    <tr>\n",
       "      <td>4</td>\n",
       "      <td>2.0</td>\n",
       "      <td>Black</td>\n",
       "      <td>0.50</td>\n",
       "      <td>11.06</td>\n",
       "      <td>18</td>\n",
       "      <td>4</td>\n",
       "      <td>52</td>\n",
       "      <td>5.5300</td>\n",
       "    </tr>\n",
       "  </tbody>\n",
       "</table>\n",
       "</div>"
      ],
      "text/plain": [
       "   condition   color_type  length  height  X1 X2  duration     size\n",
       "0        2.0  Brown Tabby    0.80    7.78  13  9        73   6.2240\n",
       "1        1.0        White    0.72   14.19  13  9      1862  10.2168\n",
       "2        2.0        Brown    0.15   40.90  15  4       752   6.1350\n",
       "3        1.0        White    0.62   17.82   0  1       755  11.0484\n",
       "4        2.0        Black    0.50   11.06  18  4        52   5.5300"
      ]
     },
     "execution_count": 79,
     "metadata": {},
     "output_type": "execute_result"
    }
   ],
   "source": [
    "train.head()"
   ]
  },
  {
   "cell_type": "code",
   "execution_count": 81,
   "metadata": {},
   "outputs": [],
   "source": [
    "from sklearn.compose import ColumnTransformer\n",
    "from sklearn.preprocessing import StandardScaler, KBinsDiscretizer\n",
    "from sklearn.preprocessing import OneHotEncoder\n",
    "col = ColumnTransformer([\n",
    "    ('scale', StandardScaler(), ['length', 'height',  'size', 'duration']),\n",
    "    ('encoding', OneHotEncoder(handle_unknown='ignore', sparse=False), ['condition', 'color_type', 'X1', 'X2'])\n",
    "    #('to_cate', KBinsDiscretizer(n_bins=50, strategy='uniform'), ['duration'])\n",
    "])"
   ]
  },
  {
   "cell_type": "code",
   "execution_count": 82,
   "metadata": {},
   "outputs": [],
   "source": [
    "train = col.fit_transform(train)\n",
    "test = col.transform(test)"
   ]
  },
  {
   "cell_type": "code",
   "execution_count": 83,
   "metadata": {},
   "outputs": [
    {
     "data": {
      "text/plain": [
       "(18834, 93)"
      ]
     },
     "execution_count": 83,
     "metadata": {},
     "output_type": "execute_result"
    }
   ],
   "source": [
    "train.shape"
   ]
  },
  {
   "cell_type": "code",
   "execution_count": 27,
   "metadata": {},
   "outputs": [],
   "source": [
    "from sklearn.decomposition import PCA\n",
    "\n",
    "pca = PCA(n_components=0.95)\n",
    "train = pca.fit_transform(train)\n",
    "test = pca.transform(test)"
   ]
  },
  {
   "cell_type": "code",
   "execution_count": 84,
   "metadata": {},
   "outputs": [
    {
     "data": {
      "text/plain": [
       "(8072, 93)"
      ]
     },
     "execution_count": 84,
     "metadata": {},
     "output_type": "execute_result"
    }
   ],
   "source": [
    "test.shape"
   ]
  },
  {
   "cell_type": "raw",
   "metadata": {
    "colab": {},
    "colab_type": "code",
    "id": "VthPgIPwL4yx"
   },
   "source": [
    "\n",
    "sc = StandardScaler()\n",
    "train['length'] = sc.fit_transform(np.array(train['length']).reshape(-1,1))\n",
    "test['length'] = sc.transform(np.array(test['length']).reshape(-1,1))\n",
    "train['height'] = sc.fit_transform(np.array(train['height']).reshape(-1,1))\n",
    "test['height'] = sc.transform(np.array(test['height']).reshape(-1,1))\n",
    "train['duration'] = sc.fit_transform(np.array(train['duration']).reshape(-1,1))\n",
    "test['duration'] = sc.transform(np.array(test['duration']).reshape(-1,1))\n",
    "train['size'] = sc.fit_transform(np.array(train['size']).reshape(-1,1))\n",
    "test['size'] = sc.transform(np.array(test['size']).reshape(-1,1))\n"
   ]
  },
  {
   "cell_type": "raw",
   "metadata": {
    "colab": {
     "base_uri": "https://localhost:8080/",
     "height": 391
    },
    "colab_type": "code",
    "id": "37-obHUOL4y-",
    "outputId": "6c9cc4af-f8a9-43b5-f681-e3398da379e7"
   },
   "source": [
    "#oh = OneHotEncoder(handle_unknown='ignore', sparse=False)\n",
    "#train = oh.fit_transform(train)\n",
    "#test = oh.transform(test)\n",
    "#train = pd.get_dummies(train, columns=['color_type', 'X1', 'X2', 'condition'])\n",
    "#test = pd.get_dummies(test, columns=['color_type', 'X1', 'X2', 'condition'])"
   ]
  },
  {
   "cell_type": "code",
   "execution_count": 85,
   "metadata": {
    "colab": {},
    "colab_type": "code",
    "id": "UojR70dSL4zM",
    "outputId": "7a044b9b-fa4d-4f75-8275-503132f10493"
   },
   "outputs": [
    {
     "name": "stdout",
     "output_type": "stream",
     "text": [
      "0.8831368801104386\n",
      "0.8695437542760656\n",
      "[0.86647199 0.87337404 0.87496682 0.87629413 0.85661179]\n",
      "0.907773176170755\n",
      "0.8894020676808594\n",
      "[0.88611627 0.89116007 0.89248739 0.88930183 0.88794477]\n"
     ]
    }
   ],
   "source": [
    "from sklearn.ensemble import RandomForestClassifier, GradientBoostingClassifier, AdaBoostClassifier\n",
    "from sklearn.model_selection import cross_val_score, RandomizedSearchCV\n",
    "\n",
    "forest = GradientBoostingClassifier(validation_fraction=0.3,  n_iter_no_change=50,random_state=3)\n",
    "params = {\n",
    "     'n_estimators' : np.arange(200, 1000, 50),\n",
    "    'learning_rate': [0.1, 0.01],\n",
    "    'subsample' : [0.5,0.6,0.7,0.8,0.9],\n",
    "    'max_depth' : [3,4,5,6],\n",
    "    'max_features' : [0.5,0.6,0.7,0.8,0.9]\n",
    "    #ccp_alpha \n",
    "}\n",
    "tune_1 = RandomizedSearchCV(forest, params, scoring='f1_micro', cv=5)\n",
    "tune_1.fit(train, y_train_1)\n",
    "print(tune_1.score(train, y_train_1))\n",
    "val1 = cross_val_score(tune_1.best_estimator_, X=train, y=y_train_1, cv=5)\n",
    "print(val1.mean())\n",
    "print(val1)\n",
    "forest1 = GradientBoostingClassifier(validation_fraction=0.3,  n_iter_no_change=50,random_state=3)\n",
    "params1 = {\n",
    "     'n_estimators' : np.arange(200, 1000, 50),\n",
    "    'learning_rate': [0.1, 0.01],\n",
    "    'subsample' : [0.5,0.6,0.7,0.8,0.9],\n",
    "    'max_depth' : [3,4,5,6],\n",
    "    'max_features' : [0.5,0.6,0.7,0.8,0.9]\n",
    "}\n",
    "tune_2 = RandomizedSearchCV(forest1, params1, scoring='f1_micro', cv=5)\n",
    "tune_2.fit(train, y_train_2)\n",
    "print(tune_2.score(train, y_train_2))\n",
    "val2 = cross_val_score(tune_1.best_estimator_, X=train, y=y_train_2, cv=5)\n",
    "print(val2.mean())\n",
    "print(val2)"
   ]
  },
  {
   "cell_type": "code",
   "execution_count": 101,
   "metadata": {
    "colab": {
     "base_uri": "https://localhost:8080/",
     "height": 119
    },
    "colab_type": "code",
    "id": "4uRVeNGsL4za",
    "outputId": "a466a741-e695-426c-fa7c-d27bb4b96c74"
   },
   "outputs": [
    {
     "name": "stdout",
     "output_type": "stream",
     "text": [
      "0.8794201975151322\n",
      "0.8724108699792662\n",
      "[0.86779931 0.8765596  0.88319618 0.87576321 0.85873606]\n",
      "0.9071360305829882\n",
      "0.8981097128669028\n",
      "[0.89540749 0.90337138 0.89885851 0.89646934 0.89644185]\n"
     ]
    }
   ],
   "source": [
    "from sklearn.ensemble import RandomForestClassifier, GradientBoostingClassifier, AdaBoostClassifier\n",
    "from sklearn.model_selection import cross_val_score, RandomizedSearchCV\n",
    "from xgboost import XGBClassifier\n",
    "\n",
    "forest = XGBClassifier(eval_metric='auc',random_state=3, n_jobs=-1)\n",
    "params = {\n",
    "    'learning_rate' : [0.1, 0.2, 0.3, 0.4],\n",
    "    'min_split_loss' : [1,2,3,4,5],\n",
    "    'max_depth' : [3,4,5,6],\n",
    "    'subsample' : [0.5,0.6,0.7,0.8,0.9]\n",
    "}\n",
    "tune_1 = RandomizedSearchCV(forest, params, scoring='f1_micro', cv=5)\n",
    "tune_1.fit(train, y_train_1)\n",
    "print(tune_1.score(train, y_train_1))\n",
    "val1 = cross_val_score(tune_1.best_estimator_, X=train, y=y_train_1, cv=5)\n",
    "print(val1.mean())\n",
    "print(val1)\n",
    "forest1 = XGBClassifier(eval_metric='auc',random_state=3, n_jobs=-1)\n",
    "params1 = {\n",
    "    'learning_rate' : [0.1, 0.2, 0.3, 0.4],\n",
    "    'min_split_loss' : [1,2,3,4,5],\n",
    "    'max_depth' : [3,4,5,6],\n",
    "    'subsample' : [0.5,0.6,0.7,0.8,0.9]\n",
    "}\n",
    "tune_2 = RandomizedSearchCV(forest1, params1, scoring='f1_micro', cv=5)\n",
    "tune_2.fit(train, y_train_2)\n",
    "print(tune_2.score(train, y_train_2))\n",
    "val2 = cross_val_score(tune_2.best_estimator_, X=train, y=y_train_2, cv=5)\n",
    "print(val2.mean())\n",
    "print(val2)"
   ]
  },
  {
   "cell_type": "code",
   "execution_count": 188,
   "metadata": {},
   "outputs": [
    {
     "name": "stdout",
     "output_type": "stream",
     "text": [
      "0.9999469045343528\n"
     ]
    },
    {
     "ename": "KeyboardInterrupt",
     "evalue": "",
     "output_type": "error",
     "traceback": [
      "\u001b[1;31m---------------------------------------------------------------------------\u001b[0m",
      "\u001b[1;31mKeyboardInterrupt\u001b[0m                         Traceback (most recent call last)",
      "\u001b[1;32m<ipython-input-188-1cf5bbd33684>\u001b[0m in \u001b[0;36m<module>\u001b[1;34m\u001b[0m\n\u001b[0;32m     10\u001b[0m \u001b[0mknn\u001b[0m\u001b[1;33m.\u001b[0m\u001b[0mfit\u001b[0m\u001b[1;33m(\u001b[0m\u001b[0mtrain\u001b[0m\u001b[1;33m,\u001b[0m \u001b[0my_train_1\u001b[0m\u001b[1;33m)\u001b[0m\u001b[1;33m\u001b[0m\u001b[1;33m\u001b[0m\u001b[0m\n\u001b[0;32m     11\u001b[0m \u001b[0mprint\u001b[0m\u001b[1;33m(\u001b[0m\u001b[0mknn\u001b[0m\u001b[1;33m.\u001b[0m\u001b[0mscore\u001b[0m\u001b[1;33m(\u001b[0m\u001b[0mtrain\u001b[0m\u001b[1;33m,\u001b[0m \u001b[0my_train_1\u001b[0m\u001b[1;33m)\u001b[0m\u001b[1;33m)\u001b[0m\u001b[1;33m\u001b[0m\u001b[1;33m\u001b[0m\u001b[0m\n\u001b[1;32m---> 12\u001b[1;33m \u001b[0mval1\u001b[0m \u001b[1;33m=\u001b[0m \u001b[0mcross_val_score\u001b[0m\u001b[1;33m(\u001b[0m\u001b[0mknn\u001b[0m\u001b[1;33m,\u001b[0m \u001b[0mX\u001b[0m\u001b[1;33m=\u001b[0m\u001b[0mtrain\u001b[0m\u001b[1;33m,\u001b[0m \u001b[0my\u001b[0m\u001b[1;33m=\u001b[0m\u001b[0my_train_1\u001b[0m\u001b[1;33m,\u001b[0m \u001b[0mcv\u001b[0m\u001b[1;33m=\u001b[0m\u001b[1;36m5\u001b[0m\u001b[1;33m)\u001b[0m\u001b[1;33m\u001b[0m\u001b[1;33m\u001b[0m\u001b[0m\n\u001b[0m\u001b[0;32m     13\u001b[0m \u001b[0mprint\u001b[0m\u001b[1;33m(\u001b[0m\u001b[0mval1\u001b[0m\u001b[1;33m.\u001b[0m\u001b[0mmean\u001b[0m\u001b[1;33m(\u001b[0m\u001b[1;33m)\u001b[0m\u001b[1;33m)\u001b[0m\u001b[1;33m\u001b[0m\u001b[1;33m\u001b[0m\u001b[0m\n\u001b[0;32m     14\u001b[0m \u001b[0mprint\u001b[0m\u001b[1;33m(\u001b[0m\u001b[0mval1\u001b[0m\u001b[1;33m)\u001b[0m\u001b[1;33m\u001b[0m\u001b[1;33m\u001b[0m\u001b[0m\n",
      "\u001b[1;32m~\\Anaconda3\\lib\\site-packages\\sklearn\\utils\\validation.py\u001b[0m in \u001b[0;36minner_f\u001b[1;34m(*args, **kwargs)\u001b[0m\n\u001b[0;32m     71\u001b[0m                           FutureWarning)\n\u001b[0;32m     72\u001b[0m         \u001b[0mkwargs\u001b[0m\u001b[1;33m.\u001b[0m\u001b[0mupdate\u001b[0m\u001b[1;33m(\u001b[0m\u001b[1;33m{\u001b[0m\u001b[0mk\u001b[0m\u001b[1;33m:\u001b[0m \u001b[0marg\u001b[0m \u001b[1;32mfor\u001b[0m \u001b[0mk\u001b[0m\u001b[1;33m,\u001b[0m \u001b[0marg\u001b[0m \u001b[1;32min\u001b[0m \u001b[0mzip\u001b[0m\u001b[1;33m(\u001b[0m\u001b[0msig\u001b[0m\u001b[1;33m.\u001b[0m\u001b[0mparameters\u001b[0m\u001b[1;33m,\u001b[0m \u001b[0margs\u001b[0m\u001b[1;33m)\u001b[0m\u001b[1;33m}\u001b[0m\u001b[1;33m)\u001b[0m\u001b[1;33m\u001b[0m\u001b[1;33m\u001b[0m\u001b[0m\n\u001b[1;32m---> 73\u001b[1;33m         \u001b[1;32mreturn\u001b[0m \u001b[0mf\u001b[0m\u001b[1;33m(\u001b[0m\u001b[1;33m**\u001b[0m\u001b[0mkwargs\u001b[0m\u001b[1;33m)\u001b[0m\u001b[1;33m\u001b[0m\u001b[1;33m\u001b[0m\u001b[0m\n\u001b[0m\u001b[0;32m     74\u001b[0m     \u001b[1;32mreturn\u001b[0m \u001b[0minner_f\u001b[0m\u001b[1;33m\u001b[0m\u001b[1;33m\u001b[0m\u001b[0m\n\u001b[0;32m     75\u001b[0m \u001b[1;33m\u001b[0m\u001b[0m\n",
      "\u001b[1;32m~\\Anaconda3\\lib\\site-packages\\sklearn\\model_selection\\_validation.py\u001b[0m in \u001b[0;36mcross_val_score\u001b[1;34m(estimator, X, y, groups, scoring, cv, n_jobs, verbose, fit_params, pre_dispatch, error_score)\u001b[0m\n\u001b[0;32m    404\u001b[0m                                 \u001b[0mfit_params\u001b[0m\u001b[1;33m=\u001b[0m\u001b[0mfit_params\u001b[0m\u001b[1;33m,\u001b[0m\u001b[1;33m\u001b[0m\u001b[1;33m\u001b[0m\u001b[0m\n\u001b[0;32m    405\u001b[0m                                 \u001b[0mpre_dispatch\u001b[0m\u001b[1;33m=\u001b[0m\u001b[0mpre_dispatch\u001b[0m\u001b[1;33m,\u001b[0m\u001b[1;33m\u001b[0m\u001b[1;33m\u001b[0m\u001b[0m\n\u001b[1;32m--> 406\u001b[1;33m                                 error_score=error_score)\n\u001b[0m\u001b[0;32m    407\u001b[0m     \u001b[1;32mreturn\u001b[0m \u001b[0mcv_results\u001b[0m\u001b[1;33m[\u001b[0m\u001b[1;34m'test_score'\u001b[0m\u001b[1;33m]\u001b[0m\u001b[1;33m\u001b[0m\u001b[1;33m\u001b[0m\u001b[0m\n\u001b[0;32m    408\u001b[0m \u001b[1;33m\u001b[0m\u001b[0m\n",
      "\u001b[1;32m~\\Anaconda3\\lib\\site-packages\\sklearn\\utils\\validation.py\u001b[0m in \u001b[0;36minner_f\u001b[1;34m(*args, **kwargs)\u001b[0m\n\u001b[0;32m     71\u001b[0m                           FutureWarning)\n\u001b[0;32m     72\u001b[0m         \u001b[0mkwargs\u001b[0m\u001b[1;33m.\u001b[0m\u001b[0mupdate\u001b[0m\u001b[1;33m(\u001b[0m\u001b[1;33m{\u001b[0m\u001b[0mk\u001b[0m\u001b[1;33m:\u001b[0m \u001b[0marg\u001b[0m \u001b[1;32mfor\u001b[0m \u001b[0mk\u001b[0m\u001b[1;33m,\u001b[0m \u001b[0marg\u001b[0m \u001b[1;32min\u001b[0m \u001b[0mzip\u001b[0m\u001b[1;33m(\u001b[0m\u001b[0msig\u001b[0m\u001b[1;33m.\u001b[0m\u001b[0mparameters\u001b[0m\u001b[1;33m,\u001b[0m \u001b[0margs\u001b[0m\u001b[1;33m)\u001b[0m\u001b[1;33m}\u001b[0m\u001b[1;33m)\u001b[0m\u001b[1;33m\u001b[0m\u001b[1;33m\u001b[0m\u001b[0m\n\u001b[1;32m---> 73\u001b[1;33m         \u001b[1;32mreturn\u001b[0m \u001b[0mf\u001b[0m\u001b[1;33m(\u001b[0m\u001b[1;33m**\u001b[0m\u001b[0mkwargs\u001b[0m\u001b[1;33m)\u001b[0m\u001b[1;33m\u001b[0m\u001b[1;33m\u001b[0m\u001b[0m\n\u001b[0m\u001b[0;32m     74\u001b[0m     \u001b[1;32mreturn\u001b[0m \u001b[0minner_f\u001b[0m\u001b[1;33m\u001b[0m\u001b[1;33m\u001b[0m\u001b[0m\n\u001b[0;32m     75\u001b[0m \u001b[1;33m\u001b[0m\u001b[0m\n",
      "\u001b[1;32m~\\Anaconda3\\lib\\site-packages\\sklearn\\model_selection\\_validation.py\u001b[0m in \u001b[0;36mcross_validate\u001b[1;34m(estimator, X, y, groups, scoring, cv, n_jobs, verbose, fit_params, pre_dispatch, return_train_score, return_estimator, error_score)\u001b[0m\n\u001b[0;32m    246\u001b[0m             \u001b[0mreturn_times\u001b[0m\u001b[1;33m=\u001b[0m\u001b[1;32mTrue\u001b[0m\u001b[1;33m,\u001b[0m \u001b[0mreturn_estimator\u001b[0m\u001b[1;33m=\u001b[0m\u001b[0mreturn_estimator\u001b[0m\u001b[1;33m,\u001b[0m\u001b[1;33m\u001b[0m\u001b[1;33m\u001b[0m\u001b[0m\n\u001b[0;32m    247\u001b[0m             error_score=error_score)\n\u001b[1;32m--> 248\u001b[1;33m         for train, test in cv.split(X, y, groups))\n\u001b[0m\u001b[0;32m    249\u001b[0m \u001b[1;33m\u001b[0m\u001b[0m\n\u001b[0;32m    250\u001b[0m     \u001b[0mzipped_scores\u001b[0m \u001b[1;33m=\u001b[0m \u001b[0mlist\u001b[0m\u001b[1;33m(\u001b[0m\u001b[0mzip\u001b[0m\u001b[1;33m(\u001b[0m\u001b[1;33m*\u001b[0m\u001b[0mscores\u001b[0m\u001b[1;33m)\u001b[0m\u001b[1;33m)\u001b[0m\u001b[1;33m\u001b[0m\u001b[1;33m\u001b[0m\u001b[0m\n",
      "\u001b[1;32m~\\Anaconda3\\lib\\site-packages\\joblib\\parallel.py\u001b[0m in \u001b[0;36m__call__\u001b[1;34m(self, iterable)\u001b[0m\n\u001b[0;32m    922\u001b[0m                 \u001b[0mself\u001b[0m\u001b[1;33m.\u001b[0m\u001b[0m_iterating\u001b[0m \u001b[1;33m=\u001b[0m \u001b[0mself\u001b[0m\u001b[1;33m.\u001b[0m\u001b[0m_original_iterator\u001b[0m \u001b[1;32mis\u001b[0m \u001b[1;32mnot\u001b[0m \u001b[1;32mNone\u001b[0m\u001b[1;33m\u001b[0m\u001b[1;33m\u001b[0m\u001b[0m\n\u001b[0;32m    923\u001b[0m \u001b[1;33m\u001b[0m\u001b[0m\n\u001b[1;32m--> 924\u001b[1;33m             \u001b[1;32mwhile\u001b[0m \u001b[0mself\u001b[0m\u001b[1;33m.\u001b[0m\u001b[0mdispatch_one_batch\u001b[0m\u001b[1;33m(\u001b[0m\u001b[0miterator\u001b[0m\u001b[1;33m)\u001b[0m\u001b[1;33m:\u001b[0m\u001b[1;33m\u001b[0m\u001b[1;33m\u001b[0m\u001b[0m\n\u001b[0m\u001b[0;32m    925\u001b[0m                 \u001b[1;32mpass\u001b[0m\u001b[1;33m\u001b[0m\u001b[1;33m\u001b[0m\u001b[0m\n\u001b[0;32m    926\u001b[0m \u001b[1;33m\u001b[0m\u001b[0m\n",
      "\u001b[1;32m~\\Anaconda3\\lib\\site-packages\\joblib\\parallel.py\u001b[0m in \u001b[0;36mdispatch_one_batch\u001b[1;34m(self, iterator)\u001b[0m\n\u001b[0;32m    757\u001b[0m                 \u001b[1;32mreturn\u001b[0m \u001b[1;32mFalse\u001b[0m\u001b[1;33m\u001b[0m\u001b[1;33m\u001b[0m\u001b[0m\n\u001b[0;32m    758\u001b[0m             \u001b[1;32melse\u001b[0m\u001b[1;33m:\u001b[0m\u001b[1;33m\u001b[0m\u001b[1;33m\u001b[0m\u001b[0m\n\u001b[1;32m--> 759\u001b[1;33m                 \u001b[0mself\u001b[0m\u001b[1;33m.\u001b[0m\u001b[0m_dispatch\u001b[0m\u001b[1;33m(\u001b[0m\u001b[0mtasks\u001b[0m\u001b[1;33m)\u001b[0m\u001b[1;33m\u001b[0m\u001b[1;33m\u001b[0m\u001b[0m\n\u001b[0m\u001b[0;32m    760\u001b[0m                 \u001b[1;32mreturn\u001b[0m \u001b[1;32mTrue\u001b[0m\u001b[1;33m\u001b[0m\u001b[1;33m\u001b[0m\u001b[0m\n\u001b[0;32m    761\u001b[0m \u001b[1;33m\u001b[0m\u001b[0m\n",
      "\u001b[1;32m~\\Anaconda3\\lib\\site-packages\\joblib\\parallel.py\u001b[0m in \u001b[0;36m_dispatch\u001b[1;34m(self, batch)\u001b[0m\n\u001b[0;32m    714\u001b[0m         \u001b[1;32mwith\u001b[0m \u001b[0mself\u001b[0m\u001b[1;33m.\u001b[0m\u001b[0m_lock\u001b[0m\u001b[1;33m:\u001b[0m\u001b[1;33m\u001b[0m\u001b[1;33m\u001b[0m\u001b[0m\n\u001b[0;32m    715\u001b[0m             \u001b[0mjob_idx\u001b[0m \u001b[1;33m=\u001b[0m \u001b[0mlen\u001b[0m\u001b[1;33m(\u001b[0m\u001b[0mself\u001b[0m\u001b[1;33m.\u001b[0m\u001b[0m_jobs\u001b[0m\u001b[1;33m)\u001b[0m\u001b[1;33m\u001b[0m\u001b[1;33m\u001b[0m\u001b[0m\n\u001b[1;32m--> 716\u001b[1;33m             \u001b[0mjob\u001b[0m \u001b[1;33m=\u001b[0m \u001b[0mself\u001b[0m\u001b[1;33m.\u001b[0m\u001b[0m_backend\u001b[0m\u001b[1;33m.\u001b[0m\u001b[0mapply_async\u001b[0m\u001b[1;33m(\u001b[0m\u001b[0mbatch\u001b[0m\u001b[1;33m,\u001b[0m \u001b[0mcallback\u001b[0m\u001b[1;33m=\u001b[0m\u001b[0mcb\u001b[0m\u001b[1;33m)\u001b[0m\u001b[1;33m\u001b[0m\u001b[1;33m\u001b[0m\u001b[0m\n\u001b[0m\u001b[0;32m    717\u001b[0m             \u001b[1;31m# A job can complete so quickly than its callback is\u001b[0m\u001b[1;33m\u001b[0m\u001b[1;33m\u001b[0m\u001b[1;33m\u001b[0m\u001b[0m\n\u001b[0;32m    718\u001b[0m             \u001b[1;31m# called before we get here, causing self._jobs to\u001b[0m\u001b[1;33m\u001b[0m\u001b[1;33m\u001b[0m\u001b[1;33m\u001b[0m\u001b[0m\n",
      "\u001b[1;32m~\\Anaconda3\\lib\\site-packages\\joblib\\_parallel_backends.py\u001b[0m in \u001b[0;36mapply_async\u001b[1;34m(self, func, callback)\u001b[0m\n\u001b[0;32m    180\u001b[0m     \u001b[1;32mdef\u001b[0m \u001b[0mapply_async\u001b[0m\u001b[1;33m(\u001b[0m\u001b[0mself\u001b[0m\u001b[1;33m,\u001b[0m \u001b[0mfunc\u001b[0m\u001b[1;33m,\u001b[0m \u001b[0mcallback\u001b[0m\u001b[1;33m=\u001b[0m\u001b[1;32mNone\u001b[0m\u001b[1;33m)\u001b[0m\u001b[1;33m:\u001b[0m\u001b[1;33m\u001b[0m\u001b[1;33m\u001b[0m\u001b[0m\n\u001b[0;32m    181\u001b[0m         \u001b[1;34m\"\"\"Schedule a func to be run\"\"\"\u001b[0m\u001b[1;33m\u001b[0m\u001b[1;33m\u001b[0m\u001b[0m\n\u001b[1;32m--> 182\u001b[1;33m         \u001b[0mresult\u001b[0m \u001b[1;33m=\u001b[0m \u001b[0mImmediateResult\u001b[0m\u001b[1;33m(\u001b[0m\u001b[0mfunc\u001b[0m\u001b[1;33m)\u001b[0m\u001b[1;33m\u001b[0m\u001b[1;33m\u001b[0m\u001b[0m\n\u001b[0m\u001b[0;32m    183\u001b[0m         \u001b[1;32mif\u001b[0m \u001b[0mcallback\u001b[0m\u001b[1;33m:\u001b[0m\u001b[1;33m\u001b[0m\u001b[1;33m\u001b[0m\u001b[0m\n\u001b[0;32m    184\u001b[0m             \u001b[0mcallback\u001b[0m\u001b[1;33m(\u001b[0m\u001b[0mresult\u001b[0m\u001b[1;33m)\u001b[0m\u001b[1;33m\u001b[0m\u001b[1;33m\u001b[0m\u001b[0m\n",
      "\u001b[1;32m~\\Anaconda3\\lib\\site-packages\\joblib\\_parallel_backends.py\u001b[0m in \u001b[0;36m__init__\u001b[1;34m(self, batch)\u001b[0m\n\u001b[0;32m    547\u001b[0m         \u001b[1;31m# Don't delay the application, to avoid keeping the input\u001b[0m\u001b[1;33m\u001b[0m\u001b[1;33m\u001b[0m\u001b[1;33m\u001b[0m\u001b[0m\n\u001b[0;32m    548\u001b[0m         \u001b[1;31m# arguments in memory\u001b[0m\u001b[1;33m\u001b[0m\u001b[1;33m\u001b[0m\u001b[1;33m\u001b[0m\u001b[0m\n\u001b[1;32m--> 549\u001b[1;33m         \u001b[0mself\u001b[0m\u001b[1;33m.\u001b[0m\u001b[0mresults\u001b[0m \u001b[1;33m=\u001b[0m \u001b[0mbatch\u001b[0m\u001b[1;33m(\u001b[0m\u001b[1;33m)\u001b[0m\u001b[1;33m\u001b[0m\u001b[1;33m\u001b[0m\u001b[0m\n\u001b[0m\u001b[0;32m    550\u001b[0m \u001b[1;33m\u001b[0m\u001b[0m\n\u001b[0;32m    551\u001b[0m     \u001b[1;32mdef\u001b[0m \u001b[0mget\u001b[0m\u001b[1;33m(\u001b[0m\u001b[0mself\u001b[0m\u001b[1;33m)\u001b[0m\u001b[1;33m:\u001b[0m\u001b[1;33m\u001b[0m\u001b[1;33m\u001b[0m\u001b[0m\n",
      "\u001b[1;32m~\\Anaconda3\\lib\\site-packages\\joblib\\parallel.py\u001b[0m in \u001b[0;36m__call__\u001b[1;34m(self)\u001b[0m\n\u001b[0;32m    223\u001b[0m         \u001b[1;32mwith\u001b[0m \u001b[0mparallel_backend\u001b[0m\u001b[1;33m(\u001b[0m\u001b[0mself\u001b[0m\u001b[1;33m.\u001b[0m\u001b[0m_backend\u001b[0m\u001b[1;33m,\u001b[0m \u001b[0mn_jobs\u001b[0m\u001b[1;33m=\u001b[0m\u001b[0mself\u001b[0m\u001b[1;33m.\u001b[0m\u001b[0m_n_jobs\u001b[0m\u001b[1;33m)\u001b[0m\u001b[1;33m:\u001b[0m\u001b[1;33m\u001b[0m\u001b[1;33m\u001b[0m\u001b[0m\n\u001b[0;32m    224\u001b[0m             return [func(*args, **kwargs)\n\u001b[1;32m--> 225\u001b[1;33m                     for func, args, kwargs in self.items]\n\u001b[0m\u001b[0;32m    226\u001b[0m \u001b[1;33m\u001b[0m\u001b[0m\n\u001b[0;32m    227\u001b[0m     \u001b[1;32mdef\u001b[0m \u001b[0m__len__\u001b[0m\u001b[1;33m(\u001b[0m\u001b[0mself\u001b[0m\u001b[1;33m)\u001b[0m\u001b[1;33m:\u001b[0m\u001b[1;33m\u001b[0m\u001b[1;33m\u001b[0m\u001b[0m\n",
      "\u001b[1;32m~\\Anaconda3\\lib\\site-packages\\joblib\\parallel.py\u001b[0m in \u001b[0;36m<listcomp>\u001b[1;34m(.0)\u001b[0m\n\u001b[0;32m    223\u001b[0m         \u001b[1;32mwith\u001b[0m \u001b[0mparallel_backend\u001b[0m\u001b[1;33m(\u001b[0m\u001b[0mself\u001b[0m\u001b[1;33m.\u001b[0m\u001b[0m_backend\u001b[0m\u001b[1;33m,\u001b[0m \u001b[0mn_jobs\u001b[0m\u001b[1;33m=\u001b[0m\u001b[0mself\u001b[0m\u001b[1;33m.\u001b[0m\u001b[0m_n_jobs\u001b[0m\u001b[1;33m)\u001b[0m\u001b[1;33m:\u001b[0m\u001b[1;33m\u001b[0m\u001b[1;33m\u001b[0m\u001b[0m\n\u001b[0;32m    224\u001b[0m             return [func(*args, **kwargs)\n\u001b[1;32m--> 225\u001b[1;33m                     for func, args, kwargs in self.items]\n\u001b[0m\u001b[0;32m    226\u001b[0m \u001b[1;33m\u001b[0m\u001b[0m\n\u001b[0;32m    227\u001b[0m     \u001b[1;32mdef\u001b[0m \u001b[0m__len__\u001b[0m\u001b[1;33m(\u001b[0m\u001b[0mself\u001b[0m\u001b[1;33m)\u001b[0m\u001b[1;33m:\u001b[0m\u001b[1;33m\u001b[0m\u001b[1;33m\u001b[0m\u001b[0m\n",
      "\u001b[1;32m~\\Anaconda3\\lib\\site-packages\\sklearn\\model_selection\\_validation.py\u001b[0m in \u001b[0;36m_fit_and_score\u001b[1;34m(estimator, X, y, scorer, train, test, verbose, parameters, fit_params, return_train_score, return_parameters, return_n_test_samples, return_times, return_estimator, error_score)\u001b[0m\n\u001b[0;32m    529\u001b[0m             \u001b[0mestimator\u001b[0m\u001b[1;33m.\u001b[0m\u001b[0mfit\u001b[0m\u001b[1;33m(\u001b[0m\u001b[0mX_train\u001b[0m\u001b[1;33m,\u001b[0m \u001b[1;33m**\u001b[0m\u001b[0mfit_params\u001b[0m\u001b[1;33m)\u001b[0m\u001b[1;33m\u001b[0m\u001b[1;33m\u001b[0m\u001b[0m\n\u001b[0;32m    530\u001b[0m         \u001b[1;32melse\u001b[0m\u001b[1;33m:\u001b[0m\u001b[1;33m\u001b[0m\u001b[1;33m\u001b[0m\u001b[0m\n\u001b[1;32m--> 531\u001b[1;33m             \u001b[0mestimator\u001b[0m\u001b[1;33m.\u001b[0m\u001b[0mfit\u001b[0m\u001b[1;33m(\u001b[0m\u001b[0mX_train\u001b[0m\u001b[1;33m,\u001b[0m \u001b[0my_train\u001b[0m\u001b[1;33m,\u001b[0m \u001b[1;33m**\u001b[0m\u001b[0mfit_params\u001b[0m\u001b[1;33m)\u001b[0m\u001b[1;33m\u001b[0m\u001b[1;33m\u001b[0m\u001b[0m\n\u001b[0m\u001b[0;32m    532\u001b[0m \u001b[1;33m\u001b[0m\u001b[0m\n\u001b[0;32m    533\u001b[0m     \u001b[1;32mexcept\u001b[0m \u001b[0mException\u001b[0m \u001b[1;32mas\u001b[0m \u001b[0me\u001b[0m\u001b[1;33m:\u001b[0m\u001b[1;33m\u001b[0m\u001b[1;33m\u001b[0m\u001b[0m\n",
      "\u001b[1;32m~\\Anaconda3\\lib\\site-packages\\sklearn\\ensemble\\_forest.py\u001b[0m in \u001b[0;36mfit\u001b[1;34m(self, X, y, sample_weight)\u001b[0m\n\u001b[0;32m    390\u001b[0m                     \u001b[0mverbose\u001b[0m\u001b[1;33m=\u001b[0m\u001b[0mself\u001b[0m\u001b[1;33m.\u001b[0m\u001b[0mverbose\u001b[0m\u001b[1;33m,\u001b[0m \u001b[0mclass_weight\u001b[0m\u001b[1;33m=\u001b[0m\u001b[0mself\u001b[0m\u001b[1;33m.\u001b[0m\u001b[0mclass_weight\u001b[0m\u001b[1;33m,\u001b[0m\u001b[1;33m\u001b[0m\u001b[1;33m\u001b[0m\u001b[0m\n\u001b[0;32m    391\u001b[0m                     n_samples_bootstrap=n_samples_bootstrap)\n\u001b[1;32m--> 392\u001b[1;33m                 for i, t in enumerate(trees))\n\u001b[0m\u001b[0;32m    393\u001b[0m \u001b[1;33m\u001b[0m\u001b[0m\n\u001b[0;32m    394\u001b[0m             \u001b[1;31m# Collect newly grown trees\u001b[0m\u001b[1;33m\u001b[0m\u001b[1;33m\u001b[0m\u001b[1;33m\u001b[0m\u001b[0m\n",
      "\u001b[1;32m~\\Anaconda3\\lib\\site-packages\\joblib\\parallel.py\u001b[0m in \u001b[0;36m__call__\u001b[1;34m(self, iterable)\u001b[0m\n\u001b[0;32m    922\u001b[0m                 \u001b[0mself\u001b[0m\u001b[1;33m.\u001b[0m\u001b[0m_iterating\u001b[0m \u001b[1;33m=\u001b[0m \u001b[0mself\u001b[0m\u001b[1;33m.\u001b[0m\u001b[0m_original_iterator\u001b[0m \u001b[1;32mis\u001b[0m \u001b[1;32mnot\u001b[0m \u001b[1;32mNone\u001b[0m\u001b[1;33m\u001b[0m\u001b[1;33m\u001b[0m\u001b[0m\n\u001b[0;32m    923\u001b[0m \u001b[1;33m\u001b[0m\u001b[0m\n\u001b[1;32m--> 924\u001b[1;33m             \u001b[1;32mwhile\u001b[0m \u001b[0mself\u001b[0m\u001b[1;33m.\u001b[0m\u001b[0mdispatch_one_batch\u001b[0m\u001b[1;33m(\u001b[0m\u001b[0miterator\u001b[0m\u001b[1;33m)\u001b[0m\u001b[1;33m:\u001b[0m\u001b[1;33m\u001b[0m\u001b[1;33m\u001b[0m\u001b[0m\n\u001b[0m\u001b[0;32m    925\u001b[0m                 \u001b[1;32mpass\u001b[0m\u001b[1;33m\u001b[0m\u001b[1;33m\u001b[0m\u001b[0m\n\u001b[0;32m    926\u001b[0m \u001b[1;33m\u001b[0m\u001b[0m\n",
      "\u001b[1;32m~\\Anaconda3\\lib\\site-packages\\joblib\\parallel.py\u001b[0m in \u001b[0;36mdispatch_one_batch\u001b[1;34m(self, iterator)\u001b[0m\n\u001b[0;32m    757\u001b[0m                 \u001b[1;32mreturn\u001b[0m \u001b[1;32mFalse\u001b[0m\u001b[1;33m\u001b[0m\u001b[1;33m\u001b[0m\u001b[0m\n\u001b[0;32m    758\u001b[0m             \u001b[1;32melse\u001b[0m\u001b[1;33m:\u001b[0m\u001b[1;33m\u001b[0m\u001b[1;33m\u001b[0m\u001b[0m\n\u001b[1;32m--> 759\u001b[1;33m                 \u001b[0mself\u001b[0m\u001b[1;33m.\u001b[0m\u001b[0m_dispatch\u001b[0m\u001b[1;33m(\u001b[0m\u001b[0mtasks\u001b[0m\u001b[1;33m)\u001b[0m\u001b[1;33m\u001b[0m\u001b[1;33m\u001b[0m\u001b[0m\n\u001b[0m\u001b[0;32m    760\u001b[0m                 \u001b[1;32mreturn\u001b[0m \u001b[1;32mTrue\u001b[0m\u001b[1;33m\u001b[0m\u001b[1;33m\u001b[0m\u001b[0m\n\u001b[0;32m    761\u001b[0m \u001b[1;33m\u001b[0m\u001b[0m\n",
      "\u001b[1;32m~\\Anaconda3\\lib\\site-packages\\joblib\\parallel.py\u001b[0m in \u001b[0;36m_dispatch\u001b[1;34m(self, batch)\u001b[0m\n\u001b[0;32m    714\u001b[0m         \u001b[1;32mwith\u001b[0m \u001b[0mself\u001b[0m\u001b[1;33m.\u001b[0m\u001b[0m_lock\u001b[0m\u001b[1;33m:\u001b[0m\u001b[1;33m\u001b[0m\u001b[1;33m\u001b[0m\u001b[0m\n\u001b[0;32m    715\u001b[0m             \u001b[0mjob_idx\u001b[0m \u001b[1;33m=\u001b[0m \u001b[0mlen\u001b[0m\u001b[1;33m(\u001b[0m\u001b[0mself\u001b[0m\u001b[1;33m.\u001b[0m\u001b[0m_jobs\u001b[0m\u001b[1;33m)\u001b[0m\u001b[1;33m\u001b[0m\u001b[1;33m\u001b[0m\u001b[0m\n\u001b[1;32m--> 716\u001b[1;33m             \u001b[0mjob\u001b[0m \u001b[1;33m=\u001b[0m \u001b[0mself\u001b[0m\u001b[1;33m.\u001b[0m\u001b[0m_backend\u001b[0m\u001b[1;33m.\u001b[0m\u001b[0mapply_async\u001b[0m\u001b[1;33m(\u001b[0m\u001b[0mbatch\u001b[0m\u001b[1;33m,\u001b[0m \u001b[0mcallback\u001b[0m\u001b[1;33m=\u001b[0m\u001b[0mcb\u001b[0m\u001b[1;33m)\u001b[0m\u001b[1;33m\u001b[0m\u001b[1;33m\u001b[0m\u001b[0m\n\u001b[0m\u001b[0;32m    717\u001b[0m             \u001b[1;31m# A job can complete so quickly than its callback is\u001b[0m\u001b[1;33m\u001b[0m\u001b[1;33m\u001b[0m\u001b[1;33m\u001b[0m\u001b[0m\n\u001b[0;32m    718\u001b[0m             \u001b[1;31m# called before we get here, causing self._jobs to\u001b[0m\u001b[1;33m\u001b[0m\u001b[1;33m\u001b[0m\u001b[1;33m\u001b[0m\u001b[0m\n",
      "\u001b[1;32m~\\Anaconda3\\lib\\site-packages\\joblib\\_parallel_backends.py\u001b[0m in \u001b[0;36mapply_async\u001b[1;34m(self, func, callback)\u001b[0m\n\u001b[0;32m    180\u001b[0m     \u001b[1;32mdef\u001b[0m \u001b[0mapply_async\u001b[0m\u001b[1;33m(\u001b[0m\u001b[0mself\u001b[0m\u001b[1;33m,\u001b[0m \u001b[0mfunc\u001b[0m\u001b[1;33m,\u001b[0m \u001b[0mcallback\u001b[0m\u001b[1;33m=\u001b[0m\u001b[1;32mNone\u001b[0m\u001b[1;33m)\u001b[0m\u001b[1;33m:\u001b[0m\u001b[1;33m\u001b[0m\u001b[1;33m\u001b[0m\u001b[0m\n\u001b[0;32m    181\u001b[0m         \u001b[1;34m\"\"\"Schedule a func to be run\"\"\"\u001b[0m\u001b[1;33m\u001b[0m\u001b[1;33m\u001b[0m\u001b[0m\n\u001b[1;32m--> 182\u001b[1;33m         \u001b[0mresult\u001b[0m \u001b[1;33m=\u001b[0m \u001b[0mImmediateResult\u001b[0m\u001b[1;33m(\u001b[0m\u001b[0mfunc\u001b[0m\u001b[1;33m)\u001b[0m\u001b[1;33m\u001b[0m\u001b[1;33m\u001b[0m\u001b[0m\n\u001b[0m\u001b[0;32m    183\u001b[0m         \u001b[1;32mif\u001b[0m \u001b[0mcallback\u001b[0m\u001b[1;33m:\u001b[0m\u001b[1;33m\u001b[0m\u001b[1;33m\u001b[0m\u001b[0m\n\u001b[0;32m    184\u001b[0m             \u001b[0mcallback\u001b[0m\u001b[1;33m(\u001b[0m\u001b[0mresult\u001b[0m\u001b[1;33m)\u001b[0m\u001b[1;33m\u001b[0m\u001b[1;33m\u001b[0m\u001b[0m\n",
      "\u001b[1;32m~\\Anaconda3\\lib\\site-packages\\joblib\\_parallel_backends.py\u001b[0m in \u001b[0;36m__init__\u001b[1;34m(self, batch)\u001b[0m\n\u001b[0;32m    547\u001b[0m         \u001b[1;31m# Don't delay the application, to avoid keeping the input\u001b[0m\u001b[1;33m\u001b[0m\u001b[1;33m\u001b[0m\u001b[1;33m\u001b[0m\u001b[0m\n\u001b[0;32m    548\u001b[0m         \u001b[1;31m# arguments in memory\u001b[0m\u001b[1;33m\u001b[0m\u001b[1;33m\u001b[0m\u001b[1;33m\u001b[0m\u001b[0m\n\u001b[1;32m--> 549\u001b[1;33m         \u001b[0mself\u001b[0m\u001b[1;33m.\u001b[0m\u001b[0mresults\u001b[0m \u001b[1;33m=\u001b[0m \u001b[0mbatch\u001b[0m\u001b[1;33m(\u001b[0m\u001b[1;33m)\u001b[0m\u001b[1;33m\u001b[0m\u001b[1;33m\u001b[0m\u001b[0m\n\u001b[0m\u001b[0;32m    550\u001b[0m \u001b[1;33m\u001b[0m\u001b[0m\n\u001b[0;32m    551\u001b[0m     \u001b[1;32mdef\u001b[0m \u001b[0mget\u001b[0m\u001b[1;33m(\u001b[0m\u001b[0mself\u001b[0m\u001b[1;33m)\u001b[0m\u001b[1;33m:\u001b[0m\u001b[1;33m\u001b[0m\u001b[1;33m\u001b[0m\u001b[0m\n",
      "\u001b[1;32m~\\Anaconda3\\lib\\site-packages\\joblib\\parallel.py\u001b[0m in \u001b[0;36m__call__\u001b[1;34m(self)\u001b[0m\n\u001b[0;32m    223\u001b[0m         \u001b[1;32mwith\u001b[0m \u001b[0mparallel_backend\u001b[0m\u001b[1;33m(\u001b[0m\u001b[0mself\u001b[0m\u001b[1;33m.\u001b[0m\u001b[0m_backend\u001b[0m\u001b[1;33m,\u001b[0m \u001b[0mn_jobs\u001b[0m\u001b[1;33m=\u001b[0m\u001b[0mself\u001b[0m\u001b[1;33m.\u001b[0m\u001b[0m_n_jobs\u001b[0m\u001b[1;33m)\u001b[0m\u001b[1;33m:\u001b[0m\u001b[1;33m\u001b[0m\u001b[1;33m\u001b[0m\u001b[0m\n\u001b[0;32m    224\u001b[0m             return [func(*args, **kwargs)\n\u001b[1;32m--> 225\u001b[1;33m                     for func, args, kwargs in self.items]\n\u001b[0m\u001b[0;32m    226\u001b[0m \u001b[1;33m\u001b[0m\u001b[0m\n\u001b[0;32m    227\u001b[0m     \u001b[1;32mdef\u001b[0m \u001b[0m__len__\u001b[0m\u001b[1;33m(\u001b[0m\u001b[0mself\u001b[0m\u001b[1;33m)\u001b[0m\u001b[1;33m:\u001b[0m\u001b[1;33m\u001b[0m\u001b[1;33m\u001b[0m\u001b[0m\n",
      "\u001b[1;32m~\\Anaconda3\\lib\\site-packages\\joblib\\parallel.py\u001b[0m in \u001b[0;36m<listcomp>\u001b[1;34m(.0)\u001b[0m\n\u001b[0;32m    223\u001b[0m         \u001b[1;32mwith\u001b[0m \u001b[0mparallel_backend\u001b[0m\u001b[1;33m(\u001b[0m\u001b[0mself\u001b[0m\u001b[1;33m.\u001b[0m\u001b[0m_backend\u001b[0m\u001b[1;33m,\u001b[0m \u001b[0mn_jobs\u001b[0m\u001b[1;33m=\u001b[0m\u001b[0mself\u001b[0m\u001b[1;33m.\u001b[0m\u001b[0m_n_jobs\u001b[0m\u001b[1;33m)\u001b[0m\u001b[1;33m:\u001b[0m\u001b[1;33m\u001b[0m\u001b[1;33m\u001b[0m\u001b[0m\n\u001b[0;32m    224\u001b[0m             return [func(*args, **kwargs)\n\u001b[1;32m--> 225\u001b[1;33m                     for func, args, kwargs in self.items]\n\u001b[0m\u001b[0;32m    226\u001b[0m \u001b[1;33m\u001b[0m\u001b[0m\n\u001b[0;32m    227\u001b[0m     \u001b[1;32mdef\u001b[0m \u001b[0m__len__\u001b[0m\u001b[1;33m(\u001b[0m\u001b[0mself\u001b[0m\u001b[1;33m)\u001b[0m\u001b[1;33m:\u001b[0m\u001b[1;33m\u001b[0m\u001b[1;33m\u001b[0m\u001b[0m\n",
      "\u001b[1;32m~\\Anaconda3\\lib\\site-packages\\sklearn\\ensemble\\_forest.py\u001b[0m in \u001b[0;36m_parallel_build_trees\u001b[1;34m(tree, forest, X, y, sample_weight, tree_idx, n_trees, verbose, class_weight, n_samples_bootstrap)\u001b[0m\n\u001b[0;32m    166\u001b[0m                                                         indices=indices)\n\u001b[0;32m    167\u001b[0m \u001b[1;33m\u001b[0m\u001b[0m\n\u001b[1;32m--> 168\u001b[1;33m         \u001b[0mtree\u001b[0m\u001b[1;33m.\u001b[0m\u001b[0mfit\u001b[0m\u001b[1;33m(\u001b[0m\u001b[0mX\u001b[0m\u001b[1;33m,\u001b[0m \u001b[0my\u001b[0m\u001b[1;33m,\u001b[0m \u001b[0msample_weight\u001b[0m\u001b[1;33m=\u001b[0m\u001b[0mcurr_sample_weight\u001b[0m\u001b[1;33m,\u001b[0m \u001b[0mcheck_input\u001b[0m\u001b[1;33m=\u001b[0m\u001b[1;32mFalse\u001b[0m\u001b[1;33m)\u001b[0m\u001b[1;33m\u001b[0m\u001b[1;33m\u001b[0m\u001b[0m\n\u001b[0m\u001b[0;32m    169\u001b[0m     \u001b[1;32melse\u001b[0m\u001b[1;33m:\u001b[0m\u001b[1;33m\u001b[0m\u001b[1;33m\u001b[0m\u001b[0m\n\u001b[0;32m    170\u001b[0m         \u001b[0mtree\u001b[0m\u001b[1;33m.\u001b[0m\u001b[0mfit\u001b[0m\u001b[1;33m(\u001b[0m\u001b[0mX\u001b[0m\u001b[1;33m,\u001b[0m \u001b[0my\u001b[0m\u001b[1;33m,\u001b[0m \u001b[0msample_weight\u001b[0m\u001b[1;33m=\u001b[0m\u001b[0msample_weight\u001b[0m\u001b[1;33m,\u001b[0m \u001b[0mcheck_input\u001b[0m\u001b[1;33m=\u001b[0m\u001b[1;32mFalse\u001b[0m\u001b[1;33m)\u001b[0m\u001b[1;33m\u001b[0m\u001b[1;33m\u001b[0m\u001b[0m\n",
      "\u001b[1;32m~\\Anaconda3\\lib\\site-packages\\sklearn\\tree\\_classes.py\u001b[0m in \u001b[0;36mfit\u001b[1;34m(self, X, y, sample_weight, check_input, X_idx_sorted)\u001b[0m\n\u001b[0;32m    892\u001b[0m             \u001b[0msample_weight\u001b[0m\u001b[1;33m=\u001b[0m\u001b[0msample_weight\u001b[0m\u001b[1;33m,\u001b[0m\u001b[1;33m\u001b[0m\u001b[1;33m\u001b[0m\u001b[0m\n\u001b[0;32m    893\u001b[0m             \u001b[0mcheck_input\u001b[0m\u001b[1;33m=\u001b[0m\u001b[0mcheck_input\u001b[0m\u001b[1;33m,\u001b[0m\u001b[1;33m\u001b[0m\u001b[1;33m\u001b[0m\u001b[0m\n\u001b[1;32m--> 894\u001b[1;33m             X_idx_sorted=X_idx_sorted)\n\u001b[0m\u001b[0;32m    895\u001b[0m         \u001b[1;32mreturn\u001b[0m \u001b[0mself\u001b[0m\u001b[1;33m\u001b[0m\u001b[1;33m\u001b[0m\u001b[0m\n\u001b[0;32m    896\u001b[0m \u001b[1;33m\u001b[0m\u001b[0m\n",
      "\u001b[1;32m~\\Anaconda3\\lib\\site-packages\\sklearn\\tree\\_classes.py\u001b[0m in \u001b[0;36mfit\u001b[1;34m(self, X, y, sample_weight, check_input, X_idx_sorted)\u001b[0m\n\u001b[0;32m    373\u001b[0m                                            min_impurity_split)\n\u001b[0;32m    374\u001b[0m \u001b[1;33m\u001b[0m\u001b[0m\n\u001b[1;32m--> 375\u001b[1;33m         \u001b[0mbuilder\u001b[0m\u001b[1;33m.\u001b[0m\u001b[0mbuild\u001b[0m\u001b[1;33m(\u001b[0m\u001b[0mself\u001b[0m\u001b[1;33m.\u001b[0m\u001b[0mtree_\u001b[0m\u001b[1;33m,\u001b[0m \u001b[0mX\u001b[0m\u001b[1;33m,\u001b[0m \u001b[0my\u001b[0m\u001b[1;33m,\u001b[0m \u001b[0msample_weight\u001b[0m\u001b[1;33m,\u001b[0m \u001b[0mX_idx_sorted\u001b[0m\u001b[1;33m)\u001b[0m\u001b[1;33m\u001b[0m\u001b[1;33m\u001b[0m\u001b[0m\n\u001b[0m\u001b[0;32m    376\u001b[0m \u001b[1;33m\u001b[0m\u001b[0m\n\u001b[0;32m    377\u001b[0m         \u001b[1;32mif\u001b[0m \u001b[0mself\u001b[0m\u001b[1;33m.\u001b[0m\u001b[0mn_outputs_\u001b[0m \u001b[1;33m==\u001b[0m \u001b[1;36m1\u001b[0m \u001b[1;32mand\u001b[0m \u001b[0mis_classifier\u001b[0m\u001b[1;33m(\u001b[0m\u001b[0mself\u001b[0m\u001b[1;33m)\u001b[0m\u001b[1;33m:\u001b[0m\u001b[1;33m\u001b[0m\u001b[1;33m\u001b[0m\u001b[0m\n",
      "\u001b[1;31mKeyboardInterrupt\u001b[0m: "
     ]
    }
   ],
   "source": [
    "#from sklearn.neighborsghbors import KNeighborsClassifier\n",
    "\n",
    "knn = RandomForestClassifier()\n",
    "params = {\n",
    "    'n_estimators' : np.arange(200, 1000, 50),\n",
    "    'mafeatures' : np.arange(0.4, 0.8,0.1)\n",
    "    #ccp_alpha \n",
    "}\n",
    "#tune_1 = RandomizedSearchCV(forest, params, scoring='accuracy', cv=5)\n",
    "knn.fit(train, y_train_1)\n",
    "print(knn.score(train, y_train_1))\n",
    "val1 = cross_val_score(knn, X=train, y=y_train_1, cv=5)\n",
    "print(val1.mean())\n",
    "print(val1)\n",
    "knn1 = RandomForestClassifier()\n",
    "params1 = {\n",
    "    'n_estimators' : np.arange(200, 1000, 50),\n",
    "    'mafeatures' : np.arange(0.4, 0.8,0.1)\n",
    "    #ccp_alpha \n",
    "}\n",
    "#tune_2 = RandomizedSearchCV(forest1, params1, scoring='accuracy', cv=5)\n",
    "knn1.fit(train, y_train_2)\n",
    "print(knn1.score(train, y_train_2))\n",
    "val2 = cross_val_score(knn1, X=train, y=y_train_2, cv=5)\n",
    "print(val2.mean())\n",
    "print(val2)"
   ]
  },
  {
   "cell_type": "code",
   "execution_count": 189,
   "metadata": {},
   "outputs": [
    {
     "data": {
      "text/plain": [
       "RandomForestClassifier()"
      ]
     },
     "execution_count": 189,
     "metadata": {},
     "output_type": "execute_result"
    }
   ],
   "source": [
    "knn = RandomForestClassifier()\n",
    "knn.fit(train, y_train_1)\n",
    "knn1 = RandomForestClassifier()\n",
    "knn1.fit(train, y_train_2)\n"
   ]
  },
  {
   "cell_type": "code",
   "execution_count": 87,
   "metadata": {},
   "outputs": [],
   "source": [
    "y_train_1_n = pd.get_dummies(y_train_1)\n",
    "y_train_2_n = pd.get_dummies(y_train_2)"
   ]
  },
  {
   "cell_type": "code",
   "execution_count": 89,
   "metadata": {},
   "outputs": [],
   "source": [
    "import tensorflow as tf\n",
    "from tensorflow.keras.layers import Dense, Dropout\n",
    "from tensorflow.keras import Sequential\n",
    "import kerastuner as kt\n",
    "from keras.callbacks import EarlyStopping\n",
    "\n",
    "def model_builder_1(hp):\n",
    "    model=Sequential()\n",
    "    model.add(Dense(units=hp.Int('units_1st_layer', 16, 128, 16), activation='relu', input_dim=train.shape[1]))\n",
    "    for i in range(hp.Int('no_layers',1,6,1)):\n",
    "        model.add(Dense(units=hp.Int('units_'+str(i), 16, 128, 16), activation='relu'))\n",
    "    model.add(Dense(units=3, activation='sigmoid'))\n",
    "    model.compile(optimizer=tf.keras.optimizers.Adam(learning_rate=hp.Choice('lr', values=[0.1, 0.01, 0.001])),\n",
    "                 loss='categorical_crossentropy', metrics='accuracy')\n",
    "    return model\n",
    "tuner_1 = kt.Hyperband(model_builder_1, objective='val_accuracy', max_epochs=6, directory='neural', project_name='minee')"
   ]
  },
  {
   "cell_type": "code",
   "execution_count": 90,
   "metadata": {},
   "outputs": [
    {
     "data": {
      "text/html": [
       "<span style=\"color:#4527A0\"><h1 style=\"font-size:18px\">Trial complete</h1></span>"
      ],
      "text/plain": [
       "<IPython.core.display.HTML object>"
      ]
     },
     "metadata": {},
     "output_type": "display_data"
    },
    {
     "data": {
      "text/html": [
       "<span style=\"color:#4527A0\"><h1 style=\"font-size:18px\">Trial summary</h1></span>"
      ],
      "text/plain": [
       "<IPython.core.display.HTML object>"
      ]
     },
     "metadata": {},
     "output_type": "display_data"
    },
    {
     "data": {
      "text/html": [
       "<span style=\"color:cyan\"> |-Trial ID: 619e19b56b5cba1dfa80130268bc0f25</span>"
      ],
      "text/plain": [
       "<IPython.core.display.HTML object>"
      ]
     },
     "metadata": {},
     "output_type": "display_data"
    },
    {
     "data": {
      "text/html": [
       "<span style=\"color:cyan\"> |-Score: 0.4708901047706604</span>"
      ],
      "text/plain": [
       "<IPython.core.display.HTML object>"
      ]
     },
     "metadata": {},
     "output_type": "display_data"
    },
    {
     "data": {
      "text/html": [
       "<span style=\"color:cyan\"> |-Best step: 0</span>"
      ],
      "text/plain": [
       "<IPython.core.display.HTML object>"
      ]
     },
     "metadata": {},
     "output_type": "display_data"
    },
    {
     "data": {
      "text/html": [
       "<span style=\"color:#7E57C2\"><h2 style=\"font-size:16px\">Hyperparameters:</h2></span>"
      ],
      "text/plain": [
       "<IPython.core.display.HTML object>"
      ]
     },
     "metadata": {},
     "output_type": "display_data"
    },
    {
     "data": {
      "text/html": [
       "<span style=\"color:cyan\"> |-lr: 0.1</span>"
      ],
      "text/plain": [
       "<IPython.core.display.HTML object>"
      ]
     },
     "metadata": {},
     "output_type": "display_data"
    },
    {
     "data": {
      "text/html": [
       "<span style=\"color:blue\"> |-no_layers: 4</span>"
      ],
      "text/plain": [
       "<IPython.core.display.HTML object>"
      ]
     },
     "metadata": {},
     "output_type": "display_data"
    },
    {
     "data": {
      "text/html": [
       "<span style=\"color:cyan\"> |-tuner/bracket: 0</span>"
      ],
      "text/plain": [
       "<IPython.core.display.HTML object>"
      ]
     },
     "metadata": {},
     "output_type": "display_data"
    },
    {
     "data": {
      "text/html": [
       "<span style=\"color:blue\"> |-tuner/epochs: 6</span>"
      ],
      "text/plain": [
       "<IPython.core.display.HTML object>"
      ]
     },
     "metadata": {},
     "output_type": "display_data"
    },
    {
     "data": {
      "text/html": [
       "<span style=\"color:cyan\"> |-tuner/initial_epoch: 0</span>"
      ],
      "text/plain": [
       "<IPython.core.display.HTML object>"
      ]
     },
     "metadata": {},
     "output_type": "display_data"
    },
    {
     "data": {
      "text/html": [
       "<span style=\"color:blue\"> |-tuner/round: 0</span>"
      ],
      "text/plain": [
       "<IPython.core.display.HTML object>"
      ]
     },
     "metadata": {},
     "output_type": "display_data"
    },
    {
     "data": {
      "text/html": [
       "<span style=\"color:cyan\"> |-units_0: 16</span>"
      ],
      "text/plain": [
       "<IPython.core.display.HTML object>"
      ]
     },
     "metadata": {},
     "output_type": "display_data"
    },
    {
     "data": {
      "text/html": [
       "<span style=\"color:blue\"> |-units_1: 32</span>"
      ],
      "text/plain": [
       "<IPython.core.display.HTML object>"
      ]
     },
     "metadata": {},
     "output_type": "display_data"
    },
    {
     "data": {
      "text/html": [
       "<span style=\"color:cyan\"> |-units_1st_layer: 32</span>"
      ],
      "text/plain": [
       "<IPython.core.display.HTML object>"
      ]
     },
     "metadata": {},
     "output_type": "display_data"
    },
    {
     "data": {
      "text/html": [
       "<span style=\"color:blue\"> |-units_2: 80</span>"
      ],
      "text/plain": [
       "<IPython.core.display.HTML object>"
      ]
     },
     "metadata": {},
     "output_type": "display_data"
    },
    {
     "data": {
      "text/html": [
       "<span style=\"color:cyan\"> |-units_3: 64</span>"
      ],
      "text/plain": [
       "<IPython.core.display.HTML object>"
      ]
     },
     "metadata": {},
     "output_type": "display_data"
    },
    {
     "data": {
      "text/html": [
       "<span style=\"color:blue\"> |-units_4: 16</span>"
      ],
      "text/plain": [
       "<IPython.core.display.HTML object>"
      ]
     },
     "metadata": {},
     "output_type": "display_data"
    },
    {
     "data": {
      "text/html": [
       "<span style=\"color:cyan\"> |-units_5: 80</span>"
      ],
      "text/plain": [
       "<IPython.core.display.HTML object>"
      ]
     },
     "metadata": {},
     "output_type": "display_data"
    },
    {
     "name": "stdout",
     "output_type": "stream",
     "text": [
      "INFO:tensorflow:Oracle triggered exit\n"
     ]
    }
   ],
   "source": [
    "import IPython\n",
    "import keras\n",
    "es = EarlyStopping(monitor='val_loss', mode='min', patience=50, verbose=1)\n",
    "class ClearOutput(keras.callbacks.Callback):\n",
    "    def on_train_end(*args, **kwargs):\n",
    "        IPython.display.clear_output(wait=True)\n",
    "tuner_1.search(train, y_train_1_n, validation_split=0.3, epochs=6, callbacks=[ClearOutput()])"
   ]
  },
  {
   "cell_type": "code",
   "execution_count": 91,
   "metadata": {},
   "outputs": [
    {
     "name": "stdout",
     "output_type": "stream",
     "text": [
      "Epoch 1/800\n",
      "412/412 [==============================] - ETA: 0s - loss: 1.0989 - accuracy: 0.34 - ETA: 1s - loss: 1.0586 - accuracy: 0.54 - ETA: 1s - loss: 1.0076 - accuracy: 0.57 - ETA: 1s - loss: 0.9547 - accuracy: 0.58 - ETA: 1s - loss: 0.8855 - accuracy: 0.63 - ETA: 0s - loss: 0.7783 - accuracy: 0.67 - ETA: 0s - loss: 0.7075 - accuracy: 0.70 - ETA: 0s - loss: 0.6551 - accuracy: 0.71 - ETA: 0s - loss: 0.6088 - accuracy: 0.73 - ETA: 0s - loss: 0.5775 - accuracy: 0.74 - ETA: 0s - loss: 0.5510 - accuracy: 0.75 - ETA: 0s - loss: 0.5347 - accuracy: 0.75 - ETA: 0s - loss: 0.5227 - accuracy: 0.76 - ETA: 0s - loss: 0.5067 - accuracy: 0.76 - ETA: 0s - loss: 0.4896 - accuracy: 0.77 - ETA: 0s - loss: 0.4747 - accuracy: 0.78 - ETA: 0s - loss: 0.4639 - accuracy: 0.78 - ETA: 0s - loss: 0.4523 - accuracy: 0.78 - ETA: 0s - loss: 0.4429 - accuracy: 0.79 - ETA: 0s - loss: 0.4366 - accuracy: 0.79 - ETA: 0s - loss: 0.4282 - accuracy: 0.79 - ETA: 0s - loss: 0.4211 - accuracy: 0.80 - ETA: 0s - loss: 0.4168 - accuracy: 0.80 - ETA: 0s - loss: 0.4120 - accuracy: 0.80 - ETA: 0s - loss: 0.4057 - accuracy: 0.80 - 2s 4ms/step - loss: 0.4022 - accuracy: 0.8094 - val_loss: 0.2796 - val_accuracy: 0.8482\n",
      "Epoch 2/800\n",
      "412/412 [==============================] - ETA: 0s - loss: 0.3265 - accuracy: 0.81 - ETA: 1s - loss: 0.2871 - accuracy: 0.85 - ETA: 1s - loss: 0.2700 - accuracy: 0.86 - ETA: 1s - loss: 0.2684 - accuracy: 0.86 - ETA: 1s - loss: 0.2683 - accuracy: 0.86 - ETA: 1s - loss: 0.2688 - accuracy: 0.86 - ETA: 1s - loss: 0.2672 - accuracy: 0.86 - ETA: 1s - loss: 0.2645 - accuracy: 0.86 - ETA: 1s - loss: 0.2634 - accuracy: 0.86 - ETA: 1s - loss: 0.2599 - accuracy: 0.86 - ETA: 1s - loss: 0.2604 - accuracy: 0.86 - ETA: 1s - loss: 0.2616 - accuracy: 0.86 - ETA: 1s - loss: 0.2603 - accuracy: 0.86 - ETA: 1s - loss: 0.2600 - accuracy: 0.86 - ETA: 0s - loss: 0.2610 - accuracy: 0.86 - ETA: 0s - loss: 0.2594 - accuracy: 0.86 - ETA: 0s - loss: 0.2580 - accuracy: 0.86 - ETA: 0s - loss: 0.2622 - accuracy: 0.86 - ETA: 0s - loss: 0.2632 - accuracy: 0.86 - ETA: 0s - loss: 0.2638 - accuracy: 0.86 - ETA: 0s - loss: 0.2626 - accuracy: 0.86 - ETA: 0s - loss: 0.2646 - accuracy: 0.86 - ETA: 0s - loss: 0.2650 - accuracy: 0.86 - ETA: 0s - loss: 0.2626 - accuracy: 0.86 - ETA: 0s - loss: 0.2624 - accuracy: 0.86 - ETA: 0s - loss: 0.2612 - accuracy: 0.86 - ETA: 0s - loss: 0.2607 - accuracy: 0.86 - ETA: 0s - loss: 0.2608 - accuracy: 0.86 - ETA: 0s - loss: 0.2624 - accuracy: 0.86 - ETA: 0s - loss: 0.2616 - accuracy: 0.86 - 2s 5ms/step - loss: 0.2620 - accuracy: 0.8628 - val_loss: 0.2713 - val_accuracy: 0.8524\n",
      "Epoch 3/800\n",
      "412/412 [==============================] - ETA: 0s - loss: 0.1744 - accuracy: 0.90 - ETA: 1s - loss: 0.2144 - accuracy: 0.89 - ETA: 1s - loss: 0.2367 - accuracy: 0.87 - ETA: 1s - loss: 0.2369 - accuracy: 0.87 - ETA: 1s - loss: 0.2354 - accuracy: 0.87 - ETA: 1s - loss: 0.2451 - accuracy: 0.86 - ETA: 1s - loss: 0.2525 - accuracy: 0.86 - ETA: 1s - loss: 0.2496 - accuracy: 0.86 - ETA: 1s - loss: 0.2500 - accuracy: 0.86 - ETA: 1s - loss: 0.2469 - accuracy: 0.86 - ETA: 1s - loss: 0.2462 - accuracy: 0.86 - ETA: 1s - loss: 0.2497 - accuracy: 0.86 - ETA: 0s - loss: 0.2487 - accuracy: 0.86 - ETA: 0s - loss: 0.2498 - accuracy: 0.86 - ETA: 0s - loss: 0.2483 - accuracy: 0.86 - ETA: 0s - loss: 0.2518 - accuracy: 0.86 - ETA: 0s - loss: 0.2532 - accuracy: 0.86 - ETA: 0s - loss: 0.2531 - accuracy: 0.86 - ETA: 0s - loss: 0.2547 - accuracy: 0.86 - ETA: 0s - loss: 0.2564 - accuracy: 0.86 - ETA: 0s - loss: 0.2565 - accuracy: 0.86 - ETA: 0s - loss: 0.2575 - accuracy: 0.86 - ETA: 0s - loss: 0.2582 - accuracy: 0.86 - ETA: 0s - loss: 0.2592 - accuracy: 0.86 - ETA: 0s - loss: 0.2586 - accuracy: 0.86 - ETA: 0s - loss: 0.2581 - accuracy: 0.86 - ETA: 0s - loss: 0.2589 - accuracy: 0.86 - ETA: 0s - loss: 0.2579 - accuracy: 0.86 - ETA: 0s - loss: 0.2570 - accuracy: 0.86 - ETA: 0s - loss: 0.2568 - accuracy: 0.86 - ETA: 0s - loss: 0.2565 - accuracy: 0.86 - ETA: 0s - loss: 0.2566 - accuracy: 0.86 - ETA: 0s - loss: 0.2575 - accuracy: 0.86 - ETA: 0s - loss: 0.2571 - accuracy: 0.86 - 2s 5ms/step - loss: 0.2568 - accuracy: 0.8665 - val_loss: 0.2669 - val_accuracy: 0.8579\n",
      "Epoch 4/800\n",
      "412/412 [==============================] - ETA: 0s - loss: 0.1130 - accuracy: 0.96 - ETA: 1s - loss: 0.2383 - accuracy: 0.87 - ETA: 1s - loss: 0.2417 - accuracy: 0.87 - ETA: 1s - loss: 0.2275 - accuracy: 0.88 - ETA: 1s - loss: 0.2271 - accuracy: 0.88 - ETA: 1s - loss: 0.2357 - accuracy: 0.88 - ETA: 1s - loss: 0.2402 - accuracy: 0.87 - ETA: 1s - loss: 0.2433 - accuracy: 0.87 - ETA: 1s - loss: 0.2433 - accuracy: 0.87 - ETA: 1s - loss: 0.2427 - accuracy: 0.87 - ETA: 0s - loss: 0.2433 - accuracy: 0.87 - ETA: 0s - loss: 0.2433 - accuracy: 0.87 - ETA: 0s - loss: 0.2425 - accuracy: 0.87 - ETA: 0s - loss: 0.2413 - accuracy: 0.87 - ETA: 0s - loss: 0.2401 - accuracy: 0.87 - ETA: 0s - loss: 0.2414 - accuracy: 0.87 - ETA: 0s - loss: 0.2431 - accuracy: 0.87 - ETA: 0s - loss: 0.2454 - accuracy: 0.87 - ETA: 0s - loss: 0.2448 - accuracy: 0.87 - ETA: 0s - loss: 0.2462 - accuracy: 0.87 - ETA: 0s - loss: 0.2487 - accuracy: 0.86 - ETA: 0s - loss: 0.2500 - accuracy: 0.86 - ETA: 0s - loss: 0.2498 - accuracy: 0.86 - ETA: 0s - loss: 0.2496 - accuracy: 0.86 - ETA: 0s - loss: 0.2499 - accuracy: 0.86 - ETA: 0s - loss: 0.2523 - accuracy: 0.86 - ETA: 0s - loss: 0.2524 - accuracy: 0.86 - ETA: 0s - loss: 0.2517 - accuracy: 0.86 - 2s 4ms/step - loss: 0.2522 - accuracy: 0.8671 - val_loss: 0.2670 - val_accuracy: 0.8577\n",
      "Epoch 5/800\n",
      "412/412 [==============================] - ETA: 0s - loss: 0.0828 - accuracy: 0.93 - ETA: 1s - loss: 0.2250 - accuracy: 0.87 - ETA: 1s - loss: 0.2245 - accuracy: 0.87 - ETA: 1s - loss: 0.2252 - accuracy: 0.87 - ETA: 1s - loss: 0.2314 - accuracy: 0.87 - ETA: 1s - loss: 0.2344 - accuracy: 0.87 - ETA: 1s - loss: 0.2402 - accuracy: 0.87 - ETA: 1s - loss: 0.2419 - accuracy: 0.87 - ETA: 1s - loss: 0.2443 - accuracy: 0.87 - ETA: 1s - loss: 0.2435 - accuracy: 0.87 - ETA: 0s - loss: 0.2484 - accuracy: 0.87 - ETA: 0s - loss: 0.2464 - accuracy: 0.87 - ETA: 0s - loss: 0.2460 - accuracy: 0.87 - ETA: 0s - loss: 0.2484 - accuracy: 0.86 - ETA: 0s - loss: 0.2486 - accuracy: 0.86 - ETA: 0s - loss: 0.2487 - accuracy: 0.86 - ETA: 0s - loss: 0.2486 - accuracy: 0.86 - ETA: 0s - loss: 0.2478 - accuracy: 0.86 - ETA: 0s - loss: 0.2466 - accuracy: 0.86 - ETA: 0s - loss: 0.2471 - accuracy: 0.86 - ETA: 0s - loss: 0.2457 - accuracy: 0.87 - ETA: 0s - loss: 0.2463 - accuracy: 0.87 - ETA: 0s - loss: 0.2451 - accuracy: 0.87 - ETA: 0s - loss: 0.2456 - accuracy: 0.87 - ETA: 0s - loss: 0.2454 - accuracy: 0.87 - ETA: 0s - loss: 0.2470 - accuracy: 0.87 - ETA: 0s - loss: 0.2475 - accuracy: 0.87 - ETA: 0s - loss: 0.2476 - accuracy: 0.87 - ETA: 0s - loss: 0.2479 - accuracy: 0.87 - 2s 5ms/step - loss: 0.2491 - accuracy: 0.8702 - val_loss: 0.2675 - val_accuracy: 0.8583\n",
      "Epoch 6/800\n",
      "412/412 [==============================] - ETA: 0s - loss: 0.3954 - accuracy: 0.75 - ETA: 1s - loss: 0.2671 - accuracy: 0.86 - ETA: 1s - loss: 0.2543 - accuracy: 0.87 - ETA: 1s - loss: 0.2548 - accuracy: 0.86 - ETA: 1s - loss: 0.2513 - accuracy: 0.86 - ETA: 1s - loss: 0.2480 - accuracy: 0.87 - ETA: 1s - loss: 0.2500 - accuracy: 0.86 - ETA: 1s - loss: 0.2532 - accuracy: 0.86 - ETA: 0s - loss: 0.2471 - accuracy: 0.87 - ETA: 0s - loss: 0.2510 - accuracy: 0.86 - ETA: 0s - loss: 0.2461 - accuracy: 0.87 - ETA: 0s - loss: 0.2443 - accuracy: 0.87 - ETA: 0s - loss: 0.2428 - accuracy: 0.87 - ETA: 0s - loss: 0.2432 - accuracy: 0.87 - ETA: 0s - loss: 0.2434 - accuracy: 0.87 - ETA: 0s - loss: 0.2448 - accuracy: 0.87 - ETA: 0s - loss: 0.2439 - accuracy: 0.87 - ETA: 0s - loss: 0.2459 - accuracy: 0.87 - ETA: 0s - loss: 0.2457 - accuracy: 0.87 - ETA: 0s - loss: 0.2460 - accuracy: 0.87 - ETA: 0s - loss: 0.2465 - accuracy: 0.87 - ETA: 0s - loss: 0.2453 - accuracy: 0.87 - ETA: 0s - loss: 0.2444 - accuracy: 0.87 - ETA: 0s - loss: 0.2451 - accuracy: 0.87 - ETA: 0s - loss: 0.2461 - accuracy: 0.87 - ETA: 0s - loss: 0.2469 - accuracy: 0.87 - ETA: 0s - loss: 0.2460 - accuracy: 0.87 - ETA: 0s - loss: 0.2464 - accuracy: 0.87 - ETA: 0s - loss: 0.2467 - accuracy: 0.87 - ETA: 0s - loss: 0.2467 - accuracy: 0.87 - 2s 4ms/step - loss: 0.2463 - accuracy: 0.8711 - val_loss: 0.2646 - val_accuracy: 0.8602\n"
     ]
    },
    {
     "name": "stdout",
     "output_type": "stream",
     "text": [
      "Epoch 7/800\n",
      "412/412 [==============================] - ETA: 0s - loss: 0.3219 - accuracy: 0.81 - ETA: 1s - loss: 0.2407 - accuracy: 0.87 - ETA: 1s - loss: 0.2441 - accuracy: 0.87 - ETA: 1s - loss: 0.2518 - accuracy: 0.87 - ETA: 1s - loss: 0.2584 - accuracy: 0.86 - ETA: 1s - loss: 0.2545 - accuracy: 0.86 - ETA: 1s - loss: 0.2483 - accuracy: 0.86 - ETA: 1s - loss: 0.2493 - accuracy: 0.86 - ETA: 1s - loss: 0.2471 - accuracy: 0.87 - ETA: 1s - loss: 0.2489 - accuracy: 0.86 - ETA: 1s - loss: 0.2481 - accuracy: 0.87 - ETA: 0s - loss: 0.2463 - accuracy: 0.87 - ETA: 0s - loss: 0.2451 - accuracy: 0.87 - ETA: 0s - loss: 0.2450 - accuracy: 0.87 - ETA: 0s - loss: 0.2458 - accuracy: 0.87 - ETA: 0s - loss: 0.2440 - accuracy: 0.87 - ETA: 0s - loss: 0.2440 - accuracy: 0.87 - ETA: 0s - loss: 0.2429 - accuracy: 0.87 - ETA: 0s - loss: 0.2436 - accuracy: 0.87 - ETA: 0s - loss: 0.2444 - accuracy: 0.87 - ETA: 0s - loss: 0.2466 - accuracy: 0.87 - ETA: 0s - loss: 0.2469 - accuracy: 0.87 - ETA: 0s - loss: 0.2463 - accuracy: 0.87 - ETA: 0s - loss: 0.2454 - accuracy: 0.87 - ETA: 0s - loss: 0.2453 - accuracy: 0.87 - ETA: 0s - loss: 0.2459 - accuracy: 0.87 - ETA: 0s - loss: 0.2454 - accuracy: 0.87 - ETA: 0s - loss: 0.2454 - accuracy: 0.87 - ETA: 0s - loss: 0.2454 - accuracy: 0.87 - ETA: 0s - loss: 0.2452 - accuracy: 0.87 - ETA: 0s - loss: 0.2444 - accuracy: 0.87 - ETA: 0s - loss: 0.2442 - accuracy: 0.87 - ETA: 0s - loss: 0.2437 - accuracy: 0.87 - ETA: 0s - loss: 0.2435 - accuracy: 0.87 - ETA: 0s - loss: 0.2435 - accuracy: 0.87 - ETA: 0s - loss: 0.2435 - accuracy: 0.87 - ETA: 0s - loss: 0.2427 - accuracy: 0.87 - ETA: 0s - loss: 0.2435 - accuracy: 0.87 - ETA: 0s - loss: 0.2431 - accuracy: 0.87 - ETA: 0s - loss: 0.2431 - accuracy: 0.87 - 2s 6ms/step - loss: 0.2436 - accuracy: 0.8736 - val_loss: 0.2669 - val_accuracy: 0.8611\n",
      "Epoch 8/800\n",
      "412/412 [==============================] - ETA: 0s - loss: 0.1555 - accuracy: 0.93 - ETA: 1s - loss: 0.2381 - accuracy: 0.86 - ETA: 1s - loss: 0.2455 - accuracy: 0.87 - ETA: 1s - loss: 0.2384 - accuracy: 0.87 - ETA: 1s - loss: 0.2357 - accuracy: 0.88 - ETA: 1s - loss: 0.2352 - accuracy: 0.88 - ETA: 1s - loss: 0.2333 - accuracy: 0.88 - ETA: 1s - loss: 0.2330 - accuracy: 0.88 - ETA: 1s - loss: 0.2354 - accuracy: 0.88 - ETA: 1s - loss: 0.2375 - accuracy: 0.87 - ETA: 1s - loss: 0.2354 - accuracy: 0.88 - ETA: 1s - loss: 0.2344 - accuracy: 0.88 - ETA: 1s - loss: 0.2309 - accuracy: 0.88 - ETA: 0s - loss: 0.2349 - accuracy: 0.88 - ETA: 0s - loss: 0.2333 - accuracy: 0.88 - ETA: 0s - loss: 0.2328 - accuracy: 0.88 - ETA: 0s - loss: 0.2339 - accuracy: 0.88 - ETA: 0s - loss: 0.2356 - accuracy: 0.87 - ETA: 0s - loss: 0.2342 - accuracy: 0.87 - ETA: 0s - loss: 0.2366 - accuracy: 0.87 - ETA: 0s - loss: 0.2365 - accuracy: 0.87 - ETA: 0s - loss: 0.2371 - accuracy: 0.87 - ETA: 0s - loss: 0.2363 - accuracy: 0.87 - ETA: 0s - loss: 0.2367 - accuracy: 0.87 - ETA: 0s - loss: 0.2380 - accuracy: 0.87 - ETA: 0s - loss: 0.2371 - accuracy: 0.87 - ETA: 0s - loss: 0.2396 - accuracy: 0.87 - ETA: 0s - loss: 0.2402 - accuracy: 0.87 - ETA: 0s - loss: 0.2405 - accuracy: 0.87 - ETA: 0s - loss: 0.2397 - accuracy: 0.87 - ETA: 0s - loss: 0.2392 - accuracy: 0.87 - ETA: 0s - loss: 0.2402 - accuracy: 0.87 - ETA: 0s - loss: 0.2415 - accuracy: 0.87 - 2s 5ms/step - loss: 0.2416 - accuracy: 0.8752 - val_loss: 0.2670 - val_accuracy: 0.8621\n",
      "Epoch 9/800\n",
      "412/412 [==============================] - ETA: 0s - loss: 0.2884 - accuracy: 0.84 - ETA: 1s - loss: 0.2344 - accuracy: 0.88 - ETA: 1s - loss: 0.2190 - accuracy: 0.88 - ETA: 1s - loss: 0.2310 - accuracy: 0.87 - ETA: 1s - loss: 0.2328 - accuracy: 0.87 - ETA: 1s - loss: 0.2302 - accuracy: 0.87 - ETA: 1s - loss: 0.2354 - accuracy: 0.87 - ETA: 0s - loss: 0.2375 - accuracy: 0.87 - ETA: 0s - loss: 0.2368 - accuracy: 0.87 - ETA: 0s - loss: 0.2354 - accuracy: 0.87 - ETA: 0s - loss: 0.2318 - accuracy: 0.87 - ETA: 0s - loss: 0.2326 - accuracy: 0.87 - ETA: 0s - loss: 0.2333 - accuracy: 0.87 - ETA: 0s - loss: 0.2330 - accuracy: 0.87 - ETA: 0s - loss: 0.2366 - accuracy: 0.87 - ETA: 0s - loss: 0.2379 - accuracy: 0.87 - ETA: 0s - loss: 0.2371 - accuracy: 0.87 - ETA: 0s - loss: 0.2367 - accuracy: 0.87 - ETA: 0s - loss: 0.2373 - accuracy: 0.87 - ETA: 0s - loss: 0.2371 - accuracy: 0.87 - ETA: 0s - loss: 0.2383 - accuracy: 0.87 - ETA: 0s - loss: 0.2385 - accuracy: 0.87 - ETA: 0s - loss: 0.2393 - accuracy: 0.87 - 1s 3ms/step - loss: 0.2389 - accuracy: 0.8723 - val_loss: 0.2702 - val_accuracy: 0.8595\n",
      "Epoch 10/800\n",
      "412/412 [==============================] - ETA: 0s - loss: 0.2009 - accuracy: 0.93 - ETA: 1s - loss: 0.2409 - accuracy: 0.87 - ETA: 1s - loss: 0.2308 - accuracy: 0.88 - ETA: 1s - loss: 0.2258 - accuracy: 0.88 - ETA: 1s - loss: 0.2266 - accuracy: 0.88 - ETA: 1s - loss: 0.2291 - accuracy: 0.87 - ETA: 1s - loss: 0.2284 - accuracy: 0.87 - ETA: 1s - loss: 0.2300 - accuracy: 0.87 - ETA: 1s - loss: 0.2333 - accuracy: 0.87 - ETA: 1s - loss: 0.2369 - accuracy: 0.86 - ETA: 1s - loss: 0.2422 - accuracy: 0.86 - ETA: 1s - loss: 0.2430 - accuracy: 0.86 - ETA: 1s - loss: 0.2417 - accuracy: 0.86 - ETA: 1s - loss: 0.2426 - accuracy: 0.86 - ETA: 1s - loss: 0.2447 - accuracy: 0.86 - ETA: 1s - loss: 0.2411 - accuracy: 0.87 - ETA: 1s - loss: 0.2419 - accuracy: 0.86 - ETA: 1s - loss: 0.2419 - accuracy: 0.86 - ETA: 1s - loss: 0.2455 - accuracy: 0.86 - ETA: 0s - loss: 0.2447 - accuracy: 0.86 - ETA: 0s - loss: 0.2432 - accuracy: 0.86 - ETA: 0s - loss: 0.2408 - accuracy: 0.86 - ETA: 0s - loss: 0.2414 - accuracy: 0.86 - ETA: 0s - loss: 0.2403 - accuracy: 0.87 - ETA: 0s - loss: 0.2400 - accuracy: 0.87 - ETA: 0s - loss: 0.2394 - accuracy: 0.87 - ETA: 0s - loss: 0.2390 - accuracy: 0.87 - ETA: 0s - loss: 0.2381 - accuracy: 0.87 - ETA: 0s - loss: 0.2378 - accuracy: 0.87 - ETA: 0s - loss: 0.2387 - accuracy: 0.87 - 2s 5ms/step - loss: 0.2375 - accuracy: 0.8744 - val_loss: 0.2800 - val_accuracy: 0.8572\n",
      "Epoch 11/800\n",
      "412/412 [==============================] - ETA: 0s - loss: 0.2338 - accuracy: 0.87 - ETA: 2s - loss: 0.1981 - accuracy: 0.89 - ETA: 1s - loss: 0.2156 - accuracy: 0.88 - ETA: 1s - loss: 0.2233 - accuracy: 0.88 - ETA: 1s - loss: 0.2303 - accuracy: 0.88 - ETA: 1s - loss: 0.2319 - accuracy: 0.88 - ETA: 1s - loss: 0.2222 - accuracy: 0.88 - ETA: 1s - loss: 0.2201 - accuracy: 0.88 - ETA: 1s - loss: 0.2254 - accuracy: 0.88 - ETA: 1s - loss: 0.2249 - accuracy: 0.88 - ETA: 1s - loss: 0.2244 - accuracy: 0.88 - ETA: 1s - loss: 0.2267 - accuracy: 0.88 - ETA: 1s - loss: 0.2282 - accuracy: 0.87 - ETA: 1s - loss: 0.2272 - accuracy: 0.87 - ETA: 1s - loss: 0.2288 - accuracy: 0.87 - ETA: 1s - loss: 0.2289 - accuracy: 0.87 - ETA: 1s - loss: 0.2303 - accuracy: 0.87 - ETA: 1s - loss: 0.2299 - accuracy: 0.87 - ETA: 1s - loss: 0.2288 - accuracy: 0.87 - ETA: 1s - loss: 0.2297 - accuracy: 0.87 - ETA: 1s - loss: 0.2312 - accuracy: 0.87 - ETA: 1s - loss: 0.2314 - accuracy: 0.87 - ETA: 1s - loss: 0.2310 - accuracy: 0.87 - ETA: 1s - loss: 0.2320 - accuracy: 0.87 - ETA: 1s - loss: 0.2301 - accuracy: 0.87 - ETA: 1s - loss: 0.2318 - accuracy: 0.87 - ETA: 1s - loss: 0.2331 - accuracy: 0.87 - ETA: 0s - loss: 0.2339 - accuracy: 0.87 - ETA: 0s - loss: 0.2343 - accuracy: 0.87 - ETA: 0s - loss: 0.2327 - accuracy: 0.87 - ETA: 0s - loss: 0.2339 - accuracy: 0.87 - ETA: 0s - loss: 0.2352 - accuracy: 0.87 - ETA: 0s - loss: 0.2364 - accuracy: 0.87 - ETA: 0s - loss: 0.2361 - accuracy: 0.87 - ETA: 0s - loss: 0.2357 - accuracy: 0.87 - ETA: 0s - loss: 0.2357 - accuracy: 0.87 - ETA: 0s - loss: 0.2343 - accuracy: 0.87 - ETA: 0s - loss: 0.2337 - accuracy: 0.87 - ETA: 0s - loss: 0.2357 - accuracy: 0.87 - ETA: 0s - loss: 0.2353 - accuracy: 0.87 - ETA: 0s - loss: 0.2344 - accuracy: 0.87 - ETA: 0s - loss: 0.2348 - accuracy: 0.87 - ETA: 0s - loss: 0.2365 - accuracy: 0.87 - 3s 6ms/step - loss: 0.2357 - accuracy: 0.8735 - val_loss: 0.2787 - val_accuracy: 0.8600\n",
      "Epoch 12/800\n"
     ]
    },
    {
     "name": "stdout",
     "output_type": "stream",
     "text": [
      "412/412 [==============================] - ETA: 0s - loss: 0.0984 - accuracy: 1.00 - ETA: 1s - loss: 0.2404 - accuracy: 0.86 - ETA: 1s - loss: 0.2366 - accuracy: 0.87 - ETA: 1s - loss: 0.2371 - accuracy: 0.87 - ETA: 1s - loss: 0.2465 - accuracy: 0.87 - ETA: 1s - loss: 0.2367 - accuracy: 0.87 - ETA: 1s - loss: 0.2340 - accuracy: 0.87 - ETA: 1s - loss: 0.2354 - accuracy: 0.87 - ETA: 1s - loss: 0.2363 - accuracy: 0.87 - ETA: 1s - loss: 0.2359 - accuracy: 0.87 - ETA: 1s - loss: 0.2361 - accuracy: 0.87 - ETA: 1s - loss: 0.2392 - accuracy: 0.87 - ETA: 1s - loss: 0.2382 - accuracy: 0.87 - ETA: 1s - loss: 0.2376 - accuracy: 0.87 - ETA: 0s - loss: 0.2333 - accuracy: 0.87 - ETA: 0s - loss: 0.2321 - accuracy: 0.88 - ETA: 0s - loss: 0.2311 - accuracy: 0.88 - ETA: 0s - loss: 0.2315 - accuracy: 0.88 - ETA: 0s - loss: 0.2309 - accuracy: 0.88 - ETA: 0s - loss: 0.2315 - accuracy: 0.88 - ETA: 0s - loss: 0.2305 - accuracy: 0.88 - ETA: 0s - loss: 0.2306 - accuracy: 0.88 - ETA: 0s - loss: 0.2311 - accuracy: 0.88 - ETA: 0s - loss: 0.2325 - accuracy: 0.87 - ETA: 0s - loss: 0.2327 - accuracy: 0.87 - ETA: 0s - loss: 0.2323 - accuracy: 0.87 - ETA: 0s - loss: 0.2337 - accuracy: 0.87 - ETA: 0s - loss: 0.2336 - accuracy: 0.87 - ETA: 0s - loss: 0.2332 - accuracy: 0.87 - ETA: 0s - loss: 0.2324 - accuracy: 0.87 - ETA: 0s - loss: 0.2319 - accuracy: 0.87 - ETA: 0s - loss: 0.2332 - accuracy: 0.87 - ETA: 0s - loss: 0.2332 - accuracy: 0.87 - ETA: 0s - loss: 0.2335 - accuracy: 0.87 - ETA: 0s - loss: 0.2337 - accuracy: 0.87 - ETA: 0s - loss: 0.2345 - accuracy: 0.87 - ETA: 0s - loss: 0.2351 - accuracy: 0.87 - ETA: 0s - loss: 0.2345 - accuracy: 0.87 - ETA: 0s - loss: 0.2348 - accuracy: 0.87 - ETA: 0s - loss: 0.2341 - accuracy: 0.87 - 2s 6ms/step - loss: 0.2340 - accuracy: 0.8782 - val_loss: 0.2703 - val_accuracy: 0.8595\n",
      "Epoch 13/800\n",
      "412/412 [==============================] - ETA: 0s - loss: 0.2297 - accuracy: 0.93 - ETA: 1s - loss: 0.2332 - accuracy: 0.88 - ETA: 1s - loss: 0.2177 - accuracy: 0.89 - ETA: 1s - loss: 0.2178 - accuracy: 0.89 - ETA: 1s - loss: 0.2195 - accuracy: 0.89 - ETA: 1s - loss: 0.2231 - accuracy: 0.89 - ETA: 1s - loss: 0.2249 - accuracy: 0.89 - ETA: 1s - loss: 0.2309 - accuracy: 0.88 - ETA: 1s - loss: 0.2327 - accuracy: 0.88 - ETA: 1s - loss: 0.2312 - accuracy: 0.88 - ETA: 1s - loss: 0.2268 - accuracy: 0.88 - ETA: 1s - loss: 0.2267 - accuracy: 0.88 - ETA: 1s - loss: 0.2283 - accuracy: 0.88 - ETA: 1s - loss: 0.2249 - accuracy: 0.88 - ETA: 0s - loss: 0.2273 - accuracy: 0.88 - ETA: 0s - loss: 0.2292 - accuracy: 0.88 - ETA: 0s - loss: 0.2314 - accuracy: 0.88 - ETA: 0s - loss: 0.2308 - accuracy: 0.88 - ETA: 0s - loss: 0.2309 - accuracy: 0.88 - ETA: 0s - loss: 0.2302 - accuracy: 0.88 - ETA: 0s - loss: 0.2294 - accuracy: 0.88 - ETA: 0s - loss: 0.2293 - accuracy: 0.88 - ETA: 0s - loss: 0.2287 - accuracy: 0.88 - ETA: 0s - loss: 0.2297 - accuracy: 0.88 - ETA: 0s - loss: 0.2282 - accuracy: 0.88 - ETA: 0s - loss: 0.2291 - accuracy: 0.88 - ETA: 0s - loss: 0.2303 - accuracy: 0.88 - ETA: 0s - loss: 0.2311 - accuracy: 0.88 - ETA: 0s - loss: 0.2315 - accuracy: 0.88 - 2s 5ms/step - loss: 0.2320 - accuracy: 0.8798 - val_loss: 0.2776 - val_accuracy: 0.8570\n",
      "Epoch 14/800\n",
      "412/412 [==============================] - ETA: 0s - loss: 0.1646 - accuracy: 0.93 - ETA: 1s - loss: 0.2107 - accuracy: 0.89 - ETA: 1s - loss: 0.2179 - accuracy: 0.89 - ETA: 1s - loss: 0.2231 - accuracy: 0.89 - ETA: 1s - loss: 0.2318 - accuracy: 0.88 - ETA: 1s - loss: 0.2327 - accuracy: 0.88 - ETA: 1s - loss: 0.2294 - accuracy: 0.88 - ETA: 1s - loss: 0.2261 - accuracy: 0.88 - ETA: 1s - loss: 0.2298 - accuracy: 0.88 - ETA: 1s - loss: 0.2307 - accuracy: 0.87 - ETA: 1s - loss: 0.2300 - accuracy: 0.87 - ETA: 1s - loss: 0.2316 - accuracy: 0.87 - ETA: 1s - loss: 0.2310 - accuracy: 0.88 - ETA: 1s - loss: 0.2306 - accuracy: 0.88 - ETA: 1s - loss: 0.2297 - accuracy: 0.88 - ETA: 1s - loss: 0.2288 - accuracy: 0.88 - ETA: 0s - loss: 0.2292 - accuracy: 0.88 - ETA: 0s - loss: 0.2284 - accuracy: 0.88 - ETA: 0s - loss: 0.2286 - accuracy: 0.88 - ETA: 0s - loss: 0.2282 - accuracy: 0.88 - ETA: 0s - loss: 0.2265 - accuracy: 0.88 - ETA: 0s - loss: 0.2274 - accuracy: 0.88 - ETA: 0s - loss: 0.2301 - accuracy: 0.88 - ETA: 0s - loss: 0.2300 - accuracy: 0.88 - ETA: 0s - loss: 0.2310 - accuracy: 0.88 - ETA: 0s - loss: 0.2309 - accuracy: 0.88 - ETA: 0s - loss: 0.2302 - accuracy: 0.88 - ETA: 0s - loss: 0.2303 - accuracy: 0.88 - ETA: 0s - loss: 0.2310 - accuracy: 0.88 - ETA: 0s - loss: 0.2303 - accuracy: 0.88 - ETA: 0s - loss: 0.2300 - accuracy: 0.88 - ETA: 0s - loss: 0.2291 - accuracy: 0.88 - ETA: 0s - loss: 0.2293 - accuracy: 0.88 - 2s 5ms/step - loss: 0.2297 - accuracy: 0.8805 - val_loss: 0.2831 - val_accuracy: 0.8604\n",
      "Epoch 15/800\n",
      "412/412 [==============================] - ETA: 0s - loss: 0.2218 - accuracy: 0.90 - ETA: 1s - loss: 0.2251 - accuracy: 0.87 - ETA: 1s - loss: 0.2334 - accuracy: 0.88 - ETA: 1s - loss: 0.2305 - accuracy: 0.87 - ETA: 1s - loss: 0.2296 - accuracy: 0.87 - ETA: 1s - loss: 0.2414 - accuracy: 0.87 - ETA: 1s - loss: 0.2364 - accuracy: 0.87 - ETA: 1s - loss: 0.2316 - accuracy: 0.87 - ETA: 1s - loss: 0.2308 - accuracy: 0.87 - ETA: 1s - loss: 0.2299 - accuracy: 0.87 - ETA: 1s - loss: 0.2286 - accuracy: 0.88 - ETA: 1s - loss: 0.2325 - accuracy: 0.87 - ETA: 1s - loss: 0.2315 - accuracy: 0.87 - ETA: 0s - loss: 0.2290 - accuracy: 0.88 - ETA: 0s - loss: 0.2293 - accuracy: 0.88 - ETA: 0s - loss: 0.2291 - accuracy: 0.88 - ETA: 0s - loss: 0.2294 - accuracy: 0.88 - ETA: 0s - loss: 0.2287 - accuracy: 0.88 - ETA: 0s - loss: 0.2283 - accuracy: 0.88 - ETA: 0s - loss: 0.2272 - accuracy: 0.88 - ETA: 0s - loss: 0.2277 - accuracy: 0.88 - ETA: 0s - loss: 0.2267 - accuracy: 0.88 - ETA: 0s - loss: 0.2271 - accuracy: 0.88 - ETA: 0s - loss: 0.2259 - accuracy: 0.88 - ETA: 0s - loss: 0.2269 - accuracy: 0.88 - ETA: 0s - loss: 0.2253 - accuracy: 0.88 - ETA: 0s - loss: 0.2279 - accuracy: 0.88 - 2s 4ms/step - loss: 0.2279 - accuracy: 0.8828 - val_loss: 0.2825 - val_accuracy: 0.8561\n",
      "Epoch 16/800\n",
      "412/412 [==============================] - ETA: 0s - loss: 0.2485 - accuracy: 0.84 - ETA: 1s - loss: 0.2222 - accuracy: 0.86 - ETA: 1s - loss: 0.2312 - accuracy: 0.86 - ETA: 1s - loss: 0.2225 - accuracy: 0.87 - ETA: 1s - loss: 0.2256 - accuracy: 0.87 - ETA: 1s - loss: 0.2250 - accuracy: 0.87 - ETA: 1s - loss: 0.2332 - accuracy: 0.87 - ETA: 1s - loss: 0.2295 - accuracy: 0.87 - ETA: 1s - loss: 0.2287 - accuracy: 0.88 - ETA: 1s - loss: 0.2322 - accuracy: 0.87 - ETA: 1s - loss: 0.2306 - accuracy: 0.87 - ETA: 1s - loss: 0.2324 - accuracy: 0.87 - ETA: 1s - loss: 0.2302 - accuracy: 0.88 - ETA: 0s - loss: 0.2318 - accuracy: 0.87 - ETA: 0s - loss: 0.2301 - accuracy: 0.88 - ETA: 0s - loss: 0.2307 - accuracy: 0.88 - ETA: 0s - loss: 0.2304 - accuracy: 0.88 - ETA: 0s - loss: 0.2272 - accuracy: 0.88 - ETA: 0s - loss: 0.2272 - accuracy: 0.88 - ETA: 0s - loss: 0.2273 - accuracy: 0.88 - ETA: 0s - loss: 0.2259 - accuracy: 0.88 - ETA: 0s - loss: 0.2257 - accuracy: 0.88 - ETA: 0s - loss: 0.2254 - accuracy: 0.88 - ETA: 0s - loss: 0.2246 - accuracy: 0.88 - ETA: 0s - loss: 0.2253 - accuracy: 0.88 - ETA: 0s - loss: 0.2260 - accuracy: 0.88 - ETA: 0s - loss: 0.2258 - accuracy: 0.88 - ETA: 0s - loss: 0.2253 - accuracy: 0.88 - 2s 4ms/step - loss: 0.2262 - accuracy: 0.8827 - val_loss: 0.2906 - val_accuracy: 0.8565\n",
      "Epoch 17/800\n"
     ]
    },
    {
     "name": "stdout",
     "output_type": "stream",
     "text": [
      "412/412 [==============================] - ETA: 0s - loss: 0.2935 - accuracy: 0.84 - ETA: 1s - loss: 0.2259 - accuracy: 0.88 - ETA: 1s - loss: 0.2235 - accuracy: 0.88 - ETA: 1s - loss: 0.2173 - accuracy: 0.89 - ETA: 0s - loss: 0.2191 - accuracy: 0.89 - ETA: 0s - loss: 0.2180 - accuracy: 0.89 - ETA: 0s - loss: 0.2189 - accuracy: 0.89 - ETA: 0s - loss: 0.2219 - accuracy: 0.89 - ETA: 0s - loss: 0.2202 - accuracy: 0.89 - ETA: 0s - loss: 0.2214 - accuracy: 0.89 - ETA: 0s - loss: 0.2235 - accuracy: 0.89 - ETA: 0s - loss: 0.2239 - accuracy: 0.89 - ETA: 0s - loss: 0.2229 - accuracy: 0.89 - ETA: 0s - loss: 0.2239 - accuracy: 0.88 - ETA: 0s - loss: 0.2232 - accuracy: 0.88 - ETA: 0s - loss: 0.2233 - accuracy: 0.88 - ETA: 0s - loss: 0.2235 - accuracy: 0.88 - ETA: 0s - loss: 0.2225 - accuracy: 0.88 - ETA: 0s - loss: 0.2243 - accuracy: 0.88 - ETA: 0s - loss: 0.2230 - accuracy: 0.88 - ETA: 0s - loss: 0.2226 - accuracy: 0.88 - ETA: 0s - loss: 0.2226 - accuracy: 0.88 - ETA: 0s - loss: 0.2229 - accuracy: 0.88 - ETA: 0s - loss: 0.2246 - accuracy: 0.88 - ETA: 0s - loss: 0.2242 - accuracy: 0.88 - ETA: 0s - loss: 0.2246 - accuracy: 0.88 - ETA: 0s - loss: 0.2237 - accuracy: 0.88 - ETA: 0s - loss: 0.2242 - accuracy: 0.88 - ETA: 0s - loss: 0.2247 - accuracy: 0.88 - ETA: 0s - loss: 0.2240 - accuracy: 0.88 - ETA: 0s - loss: 0.2245 - accuracy: 0.88 - 2s 5ms/step - loss: 0.2252 - accuracy: 0.8857 - val_loss: 0.2969 - val_accuracy: 0.8549\n",
      "Epoch 18/800\n",
      "412/412 [==============================] - ETA: 0s - loss: 0.3251 - accuracy: 0.84 - ETA: 1s - loss: 0.2660 - accuracy: 0.86 - ETA: 1s - loss: 0.2378 - accuracy: 0.88 - ETA: 1s - loss: 0.2335 - accuracy: 0.88 - ETA: 1s - loss: 0.2311 - accuracy: 0.88 - ETA: 1s - loss: 0.2266 - accuracy: 0.88 - ETA: 1s - loss: 0.2208 - accuracy: 0.88 - ETA: 1s - loss: 0.2177 - accuracy: 0.89 - ETA: 1s - loss: 0.2191 - accuracy: 0.89 - ETA: 1s - loss: 0.2193 - accuracy: 0.88 - ETA: 1s - loss: 0.2205 - accuracy: 0.88 - ETA: 1s - loss: 0.2194 - accuracy: 0.88 - ETA: 1s - loss: 0.2264 - accuracy: 0.88 - ETA: 1s - loss: 0.2239 - accuracy: 0.88 - ETA: 1s - loss: 0.2221 - accuracy: 0.88 - ETA: 1s - loss: 0.2204 - accuracy: 0.88 - ETA: 1s - loss: 0.2225 - accuracy: 0.88 - ETA: 0s - loss: 0.2216 - accuracy: 0.88 - ETA: 0s - loss: 0.2231 - accuracy: 0.88 - ETA: 0s - loss: 0.2224 - accuracy: 0.88 - ETA: 0s - loss: 0.2232 - accuracy: 0.88 - ETA: 0s - loss: 0.2229 - accuracy: 0.88 - ETA: 0s - loss: 0.2232 - accuracy: 0.88 - ETA: 0s - loss: 0.2236 - accuracy: 0.88 - ETA: 0s - loss: 0.2241 - accuracy: 0.88 - ETA: 0s - loss: 0.2236 - accuracy: 0.88 - ETA: 0s - loss: 0.2223 - accuracy: 0.88 - ETA: 0s - loss: 0.2217 - accuracy: 0.88 - ETA: 0s - loss: 0.2207 - accuracy: 0.88 - ETA: 0s - loss: 0.2208 - accuracy: 0.88 - ETA: 0s - loss: 0.2213 - accuracy: 0.88 - ETA: 0s - loss: 0.2217 - accuracy: 0.88 - ETA: 0s - loss: 0.2222 - accuracy: 0.88 - ETA: 0s - loss: 0.2226 - accuracy: 0.88 - ETA: 0s - loss: 0.2219 - accuracy: 0.88 - ETA: 0s - loss: 0.2217 - accuracy: 0.88 - 2s 5ms/step - loss: 0.2221 - accuracy: 0.8836 - val_loss: 0.2872 - val_accuracy: 0.8579\n",
      "Epoch 19/800\n",
      "412/412 [==============================] - ETA: 0s - loss: 0.2686 - accuracy: 0.84 - ETA: 1s - loss: 0.2222 - accuracy: 0.88 - ETA: 1s - loss: 0.2252 - accuracy: 0.89 - ETA: 1s - loss: 0.2267 - accuracy: 0.88 - ETA: 1s - loss: 0.2208 - accuracy: 0.89 - ETA: 1s - loss: 0.2197 - accuracy: 0.89 - ETA: 1s - loss: 0.2193 - accuracy: 0.89 - ETA: 1s - loss: 0.2192 - accuracy: 0.88 - ETA: 1s - loss: 0.2216 - accuracy: 0.88 - ETA: 1s - loss: 0.2224 - accuracy: 0.88 - ETA: 1s - loss: 0.2261 - accuracy: 0.88 - ETA: 0s - loss: 0.2247 - accuracy: 0.88 - ETA: 0s - loss: 0.2242 - accuracy: 0.88 - ETA: 0s - loss: 0.2240 - accuracy: 0.88 - ETA: 0s - loss: 0.2251 - accuracy: 0.88 - ETA: 0s - loss: 0.2227 - accuracy: 0.88 - ETA: 0s - loss: 0.2193 - accuracy: 0.88 - ETA: 0s - loss: 0.2168 - accuracy: 0.88 - ETA: 0s - loss: 0.2198 - accuracy: 0.88 - ETA: 0s - loss: 0.2206 - accuracy: 0.88 - ETA: 0s - loss: 0.2210 - accuracy: 0.88 - ETA: 0s - loss: 0.2221 - accuracy: 0.88 - ETA: 0s - loss: 0.2207 - accuracy: 0.88 - ETA: 0s - loss: 0.2210 - accuracy: 0.88 - ETA: 0s - loss: 0.2215 - accuracy: 0.88 - 1s 4ms/step - loss: 0.2216 - accuracy: 0.8852 - val_loss: 0.3052 - val_accuracy: 0.8574\n",
      "Epoch 20/800\n",
      "412/412 [==============================] - ETA: 0s - loss: 0.2628 - accuracy: 0.87 - ETA: 0s - loss: 0.2526 - accuracy: 0.87 - ETA: 0s - loss: 0.2429 - accuracy: 0.87 - ETA: 0s - loss: 0.2383 - accuracy: 0.87 - ETA: 0s - loss: 0.2314 - accuracy: 0.88 - ETA: 0s - loss: 0.2295 - accuracy: 0.88 - ETA: 0s - loss: 0.2288 - accuracy: 0.88 - ETA: 0s - loss: 0.2257 - accuracy: 0.88 - ETA: 1s - loss: 0.2297 - accuracy: 0.88 - ETA: 0s - loss: 0.2309 - accuracy: 0.88 - ETA: 0s - loss: 0.2259 - accuracy: 0.88 - ETA: 0s - loss: 0.2237 - accuracy: 0.88 - ETA: 0s - loss: 0.2231 - accuracy: 0.88 - ETA: 0s - loss: 0.2205 - accuracy: 0.88 - ETA: 0s - loss: 0.2175 - accuracy: 0.88 - ETA: 0s - loss: 0.2165 - accuracy: 0.89 - ETA: 0s - loss: 0.2183 - accuracy: 0.88 - ETA: 0s - loss: 0.2170 - accuracy: 0.88 - ETA: 0s - loss: 0.2183 - accuracy: 0.88 - ETA: 0s - loss: 0.2195 - accuracy: 0.88 - ETA: 0s - loss: 0.2195 - accuracy: 0.88 - ETA: 0s - loss: 0.2191 - accuracy: 0.88 - ETA: 0s - loss: 0.2193 - accuracy: 0.88 - ETA: 0s - loss: 0.2204 - accuracy: 0.88 - ETA: 0s - loss: 0.2197 - accuracy: 0.88 - ETA: 0s - loss: 0.2190 - accuracy: 0.88 - ETA: 0s - loss: 0.2196 - accuracy: 0.88 - ETA: 0s - loss: 0.2200 - accuracy: 0.88 - ETA: 0s - loss: 0.2201 - accuracy: 0.88 - 2s 4ms/step - loss: 0.2201 - accuracy: 0.8880 - val_loss: 0.2887 - val_accuracy: 0.8572\n",
      "Epoch 21/800\n",
      "412/412 [==============================] - ETA: 0s - loss: 0.0382 - accuracy: 1.00 - ETA: 1s - loss: 0.2254 - accuracy: 0.87 - ETA: 1s - loss: 0.2216 - accuracy: 0.88 - ETA: 1s - loss: 0.2173 - accuracy: 0.88 - ETA: 1s - loss: 0.2207 - accuracy: 0.88 - ETA: 1s - loss: 0.2152 - accuracy: 0.88 - ETA: 1s - loss: 0.2130 - accuracy: 0.88 - ETA: 1s - loss: 0.2174 - accuracy: 0.88 - ETA: 1s - loss: 0.2154 - accuracy: 0.88 - ETA: 1s - loss: 0.2178 - accuracy: 0.88 - ETA: 0s - loss: 0.2168 - accuracy: 0.88 - ETA: 0s - loss: 0.2178 - accuracy: 0.88 - ETA: 0s - loss: 0.2158 - accuracy: 0.88 - ETA: 0s - loss: 0.2149 - accuracy: 0.89 - ETA: 0s - loss: 0.2119 - accuracy: 0.89 - ETA: 0s - loss: 0.2101 - accuracy: 0.89 - ETA: 0s - loss: 0.2118 - accuracy: 0.89 - ETA: 0s - loss: 0.2127 - accuracy: 0.89 - ETA: 0s - loss: 0.2127 - accuracy: 0.89 - ETA: 0s - loss: 0.2114 - accuracy: 0.89 - ETA: 0s - loss: 0.2116 - accuracy: 0.89 - ETA: 0s - loss: 0.2113 - accuracy: 0.89 - ETA: 0s - loss: 0.2109 - accuracy: 0.89 - ETA: 0s - loss: 0.2110 - accuracy: 0.89 - ETA: 0s - loss: 0.2129 - accuracy: 0.89 - ETA: 0s - loss: 0.2134 - accuracy: 0.89 - ETA: 0s - loss: 0.2141 - accuracy: 0.89 - ETA: 0s - loss: 0.2143 - accuracy: 0.89 - ETA: 0s - loss: 0.2140 - accuracy: 0.89 - ETA: 0s - loss: 0.2160 - accuracy: 0.89 - ETA: 0s - loss: 0.2176 - accuracy: 0.89 - ETA: 0s - loss: 0.2182 - accuracy: 0.88 - ETA: 0s - loss: 0.2184 - accuracy: 0.88 - ETA: 0s - loss: 0.2178 - accuracy: 0.89 - ETA: 0s - loss: 0.2178 - accuracy: 0.89 - ETA: 0s - loss: 0.2169 - accuracy: 0.89 - ETA: 0s - loss: 0.2173 - accuracy: 0.89 - ETA: 0s - loss: 0.2183 - accuracy: 0.88 - 2s 6ms/step - loss: 0.2180 - accuracy: 0.8895 - val_loss: 0.2981 - val_accuracy: 0.8549\n",
      "Epoch 22/800\n"
     ]
    },
    {
     "name": "stdout",
     "output_type": "stream",
     "text": [
      "412/412 [==============================] - ETA: 0s - loss: 0.1853 - accuracy: 0.96 - ETA: 2s - loss: 0.2054 - accuracy: 0.88 - ETA: 2s - loss: 0.1861 - accuracy: 0.89 - ETA: 2s - loss: 0.1821 - accuracy: 0.90 - ETA: 2s - loss: 0.1884 - accuracy: 0.89 - ETA: 2s - loss: 0.1989 - accuracy: 0.89 - ETA: 2s - loss: 0.2017 - accuracy: 0.88 - ETA: 2s - loss: 0.1934 - accuracy: 0.89 - ETA: 1s - loss: 0.1989 - accuracy: 0.89 - ETA: 1s - loss: 0.2013 - accuracy: 0.89 - ETA: 1s - loss: 0.2041 - accuracy: 0.89 - ETA: 1s - loss: 0.2046 - accuracy: 0.89 - ETA: 1s - loss: 0.2085 - accuracy: 0.89 - ETA: 1s - loss: 0.2081 - accuracy: 0.89 - ETA: 1s - loss: 0.2088 - accuracy: 0.89 - ETA: 1s - loss: 0.2097 - accuracy: 0.89 - ETA: 1s - loss: 0.2106 - accuracy: 0.89 - ETA: 1s - loss: 0.2122 - accuracy: 0.89 - ETA: 1s - loss: 0.2114 - accuracy: 0.89 - ETA: 1s - loss: 0.2127 - accuracy: 0.89 - ETA: 0s - loss: 0.2144 - accuracy: 0.88 - ETA: 0s - loss: 0.2144 - accuracy: 0.88 - ETA: 0s - loss: 0.2160 - accuracy: 0.88 - ETA: 0s - loss: 0.2139 - accuracy: 0.89 - ETA: 0s - loss: 0.2131 - accuracy: 0.89 - ETA: 0s - loss: 0.2152 - accuracy: 0.89 - ETA: 0s - loss: 0.2148 - accuracy: 0.89 - ETA: 0s - loss: 0.2152 - accuracy: 0.89 - ETA: 0s - loss: 0.2168 - accuracy: 0.89 - ETA: 0s - loss: 0.2174 - accuracy: 0.89 - ETA: 0s - loss: 0.2192 - accuracy: 0.88 - ETA: 0s - loss: 0.2191 - accuracy: 0.88 - ETA: 0s - loss: 0.2188 - accuracy: 0.88 - ETA: 0s - loss: 0.2182 - accuracy: 0.88 - ETA: 0s - loss: 0.2180 - accuracy: 0.88 - ETA: 0s - loss: 0.2180 - accuracy: 0.88 - ETA: 0s - loss: 0.2167 - accuracy: 0.89 - ETA: 0s - loss: 0.2176 - accuracy: 0.88 - ETA: 0s - loss: 0.2164 - accuracy: 0.89 - ETA: 0s - loss: 0.2153 - accuracy: 0.89 - ETA: 0s - loss: 0.2157 - accuracy: 0.89 - ETA: 0s - loss: 0.2159 - accuracy: 0.89 - 3s 6ms/step - loss: 0.2160 - accuracy: 0.8903 - val_loss: 0.3108 - val_accuracy: 0.8565\n",
      "Epoch 23/800\n",
      "412/412 [==============================] - ETA: 0s - loss: 0.1974 - accuracy: 0.93 - ETA: 1s - loss: 0.2014 - accuracy: 0.90 - ETA: 1s - loss: 0.1909 - accuracy: 0.91 - ETA: 1s - loss: 0.2054 - accuracy: 0.90 - ETA: 1s - loss: 0.1995 - accuracy: 0.90 - ETA: 1s - loss: 0.2032 - accuracy: 0.89 - ETA: 0s - loss: 0.2073 - accuracy: 0.89 - ETA: 0s - loss: 0.2019 - accuracy: 0.89 - ETA: 0s - loss: 0.2056 - accuracy: 0.89 - ETA: 0s - loss: 0.2081 - accuracy: 0.89 - ETA: 0s - loss: 0.2101 - accuracy: 0.89 - ETA: 0s - loss: 0.2090 - accuracy: 0.89 - ETA: 0s - loss: 0.2089 - accuracy: 0.89 - ETA: 0s - loss: 0.2070 - accuracy: 0.89 - ETA: 0s - loss: 0.2072 - accuracy: 0.89 - ETA: 0s - loss: 0.2063 - accuracy: 0.89 - ETA: 0s - loss: 0.2063 - accuracy: 0.89 - ETA: 0s - loss: 0.2097 - accuracy: 0.89 - ETA: 0s - loss: 0.2078 - accuracy: 0.89 - ETA: 0s - loss: 0.2099 - accuracy: 0.89 - ETA: 0s - loss: 0.2115 - accuracy: 0.89 - ETA: 0s - loss: 0.2116 - accuracy: 0.89 - ETA: 0s - loss: 0.2129 - accuracy: 0.89 - 1s 4ms/step - loss: 0.2137 - accuracy: 0.8930 - val_loss: 0.3150 - val_accuracy: 0.8538\n",
      "Epoch 24/800\n",
      "412/412 [==============================] - ETA: 0s - loss: 0.1880 - accuracy: 0.90 - ETA: 1s - loss: 0.2011 - accuracy: 0.90 - ETA: 1s - loss: 0.2206 - accuracy: 0.88 - ETA: 1s - loss: 0.2232 - accuracy: 0.88 - ETA: 1s - loss: 0.2174 - accuracy: 0.88 - ETA: 1s - loss: 0.2160 - accuracy: 0.88 - ETA: 0s - loss: 0.2124 - accuracy: 0.89 - ETA: 0s - loss: 0.2087 - accuracy: 0.89 - ETA: 0s - loss: 0.2066 - accuracy: 0.89 - ETA: 0s - loss: 0.2051 - accuracy: 0.89 - ETA: 0s - loss: 0.2061 - accuracy: 0.89 - ETA: 0s - loss: 0.2066 - accuracy: 0.89 - ETA: 0s - loss: 0.2028 - accuracy: 0.89 - ETA: 0s - loss: 0.2025 - accuracy: 0.89 - ETA: 0s - loss: 0.2026 - accuracy: 0.89 - ETA: 0s - loss: 0.2032 - accuracy: 0.89 - ETA: 0s - loss: 0.2050 - accuracy: 0.89 - ETA: 0s - loss: 0.2057 - accuracy: 0.89 - ETA: 0s - loss: 0.2073 - accuracy: 0.89 - ETA: 0s - loss: 0.2090 - accuracy: 0.89 - ETA: 0s - loss: 0.2103 - accuracy: 0.89 - ETA: 0s - loss: 0.2104 - accuracy: 0.89 - ETA: 0s - loss: 0.2109 - accuracy: 0.89 - ETA: 0s - loss: 0.2119 - accuracy: 0.89 - 1s 3ms/step - loss: 0.2119 - accuracy: 0.8938 - val_loss: 0.3124 - val_accuracy: 0.8545\n",
      "Epoch 25/800\n",
      "412/412 [==============================] - ETA: 0s - loss: 0.2789 - accuracy: 0.84 - ETA: 1s - loss: 0.2406 - accuracy: 0.87 - ETA: 1s - loss: 0.2367 - accuracy: 0.87 - ETA: 1s - loss: 0.2240 - accuracy: 0.88 - ETA: 1s - loss: 0.2238 - accuracy: 0.88 - ETA: 1s - loss: 0.2172 - accuracy: 0.88 - ETA: 1s - loss: 0.2181 - accuracy: 0.88 - ETA: 0s - loss: 0.2162 - accuracy: 0.88 - ETA: 0s - loss: 0.2197 - accuracy: 0.88 - ETA: 0s - loss: 0.2166 - accuracy: 0.88 - ETA: 0s - loss: 0.2119 - accuracy: 0.89 - ETA: 0s - loss: 0.2118 - accuracy: 0.89 - ETA: 0s - loss: 0.2134 - accuracy: 0.88 - ETA: 0s - loss: 0.2135 - accuracy: 0.89 - ETA: 0s - loss: 0.2123 - accuracy: 0.89 - ETA: 0s - loss: 0.2112 - accuracy: 0.89 - ETA: 0s - loss: 0.2119 - accuracy: 0.89 - ETA: 0s - loss: 0.2107 - accuracy: 0.89 - ETA: 0s - loss: 0.2110 - accuracy: 0.89 - ETA: 0s - loss: 0.2114 - accuracy: 0.89 - ETA: 0s - loss: 0.2100 - accuracy: 0.89 - ETA: 0s - loss: 0.2090 - accuracy: 0.89 - ETA: 0s - loss: 0.2093 - accuracy: 0.89 - ETA: 0s - loss: 0.2096 - accuracy: 0.89 - ETA: 0s - loss: 0.2096 - accuracy: 0.89 - ETA: 0s - loss: 0.2095 - accuracy: 0.89 - ETA: 0s - loss: 0.2091 - accuracy: 0.89 - 2s 4ms/step - loss: 0.2088 - accuracy: 0.8930 - val_loss: 0.3383 - val_accuracy: 0.8567\n",
      "Epoch 26/800\n",
      "412/412 [==============================] - ETA: 0s - loss: 0.2572 - accuracy: 0.84 - ETA: 1s - loss: 0.2061 - accuracy: 0.89 - ETA: 1s - loss: 0.2082 - accuracy: 0.89 - ETA: 1s - loss: 0.2032 - accuracy: 0.90 - ETA: 1s - loss: 0.2038 - accuracy: 0.89 - ETA: 1s - loss: 0.2032 - accuracy: 0.89 - ETA: 1s - loss: 0.2064 - accuracy: 0.89 - ETA: 1s - loss: 0.2053 - accuracy: 0.89 - ETA: 1s - loss: 0.2068 - accuracy: 0.89 - ETA: 1s - loss: 0.2062 - accuracy: 0.89 - ETA: 1s - loss: 0.2008 - accuracy: 0.89 - ETA: 1s - loss: 0.2009 - accuracy: 0.89 - ETA: 1s - loss: 0.2026 - accuracy: 0.89 - ETA: 1s - loss: 0.1996 - accuracy: 0.89 - ETA: 1s - loss: 0.1991 - accuracy: 0.89 - ETA: 1s - loss: 0.2035 - accuracy: 0.89 - ETA: 1s - loss: 0.2044 - accuracy: 0.89 - ETA: 1s - loss: 0.2034 - accuracy: 0.89 - ETA: 1s - loss: 0.2067 - accuracy: 0.89 - ETA: 1s - loss: 0.2073 - accuracy: 0.89 - ETA: 1s - loss: 0.2056 - accuracy: 0.89 - ETA: 1s - loss: 0.2045 - accuracy: 0.89 - ETA: 0s - loss: 0.2063 - accuracy: 0.89 - ETA: 0s - loss: 0.2067 - accuracy: 0.89 - ETA: 0s - loss: 0.2066 - accuracy: 0.89 - ETA: 0s - loss: 0.2086 - accuracy: 0.89 - ETA: 0s - loss: 0.2084 - accuracy: 0.89 - ETA: 0s - loss: 0.2078 - accuracy: 0.89 - ETA: 0s - loss: 0.2088 - accuracy: 0.89 - ETA: 0s - loss: 0.2100 - accuracy: 0.89 - ETA: 0s - loss: 0.2093 - accuracy: 0.89 - ETA: 0s - loss: 0.2082 - accuracy: 0.89 - ETA: 0s - loss: 0.2089 - accuracy: 0.89 - ETA: 0s - loss: 0.2086 - accuracy: 0.89 - ETA: 0s - loss: 0.2081 - accuracy: 0.89 - ETA: 0s - loss: 0.2095 - accuracy: 0.89 - 2s 5ms/step - loss: 0.2088 - accuracy: 0.8929 - val_loss: 0.3068 - val_accuracy: 0.8544\n",
      "Epoch 27/800\n"
     ]
    },
    {
     "name": "stdout",
     "output_type": "stream",
     "text": [
      "412/412 [==============================] - ETA: 0s - loss: 0.2618 - accuracy: 0.81 - ETA: 1s - loss: 0.2015 - accuracy: 0.89 - ETA: 1s - loss: 0.1956 - accuracy: 0.89 - ETA: 1s - loss: 0.1956 - accuracy: 0.89 - ETA: 1s - loss: 0.1992 - accuracy: 0.89 - ETA: 1s - loss: 0.1945 - accuracy: 0.89 - ETA: 1s - loss: 0.1937 - accuracy: 0.89 - ETA: 0s - loss: 0.1949 - accuracy: 0.89 - ETA: 0s - loss: 0.1916 - accuracy: 0.89 - ETA: 0s - loss: 0.1951 - accuracy: 0.89 - ETA: 0s - loss: 0.1963 - accuracy: 0.89 - ETA: 0s - loss: 0.1969 - accuracy: 0.89 - ETA: 0s - loss: 0.1954 - accuracy: 0.89 - ETA: 0s - loss: 0.1959 - accuracy: 0.89 - ETA: 0s - loss: 0.1966 - accuracy: 0.89 - ETA: 0s - loss: 0.1990 - accuracy: 0.89 - ETA: 0s - loss: 0.1994 - accuracy: 0.89 - ETA: 0s - loss: 0.2013 - accuracy: 0.89 - ETA: 0s - loss: 0.2039 - accuracy: 0.89 - ETA: 0s - loss: 0.2031 - accuracy: 0.89 - ETA: 0s - loss: 0.2059 - accuracy: 0.89 - ETA: 0s - loss: 0.2059 - accuracy: 0.89 - ETA: 0s - loss: 0.2072 - accuracy: 0.89 - ETA: 0s - loss: 0.2079 - accuracy: 0.89 - ETA: 0s - loss: 0.2082 - accuracy: 0.89 - ETA: 0s - loss: 0.2073 - accuracy: 0.89 - 2s 4ms/step - loss: 0.2074 - accuracy: 0.8955 - val_loss: 0.3305 - val_accuracy: 0.8542\n",
      "Epoch 28/800\n",
      "412/412 [==============================] - ETA: 0s - loss: 0.1235 - accuracy: 0.93 - ETA: 1s - loss: 0.2201 - accuracy: 0.88 - ETA: 1s - loss: 0.2158 - accuracy: 0.89 - ETA: 0s - loss: 0.2152 - accuracy: 0.89 - ETA: 0s - loss: 0.2155 - accuracy: 0.89 - ETA: 0s - loss: 0.2174 - accuracy: 0.89 - ETA: 0s - loss: 0.2116 - accuracy: 0.89 - ETA: 0s - loss: 0.2119 - accuracy: 0.89 - ETA: 0s - loss: 0.2074 - accuracy: 0.89 - ETA: 0s - loss: 0.2064 - accuracy: 0.89 - ETA: 0s - loss: 0.2041 - accuracy: 0.89 - ETA: 0s - loss: 0.2028 - accuracy: 0.89 - ETA: 0s - loss: 0.2033 - accuracy: 0.89 - ETA: 0s - loss: 0.2024 - accuracy: 0.89 - ETA: 0s - loss: 0.2047 - accuracy: 0.89 - ETA: 0s - loss: 0.2044 - accuracy: 0.89 - ETA: 0s - loss: 0.2037 - accuracy: 0.89 - ETA: 0s - loss: 0.2035 - accuracy: 0.89 - ETA: 0s - loss: 0.2034 - accuracy: 0.89 - ETA: 0s - loss: 0.2044 - accuracy: 0.89 - ETA: 0s - loss: 0.2038 - accuracy: 0.89 - 1s 3ms/step - loss: 0.2040 - accuracy: 0.8962 - val_loss: 0.3396 - val_accuracy: 0.8549\n",
      "Epoch 29/800\n",
      "412/412 [==============================] - ETA: 0s - loss: 0.1926 - accuracy: 0.90 - ETA: 1s - loss: 0.1610 - accuracy: 0.92 - ETA: 1s - loss: 0.1833 - accuracy: 0.90 - ETA: 0s - loss: 0.1976 - accuracy: 0.90 - ETA: 0s - loss: 0.2012 - accuracy: 0.89 - ETA: 0s - loss: 0.1997 - accuracy: 0.90 - ETA: 0s - loss: 0.1956 - accuracy: 0.90 - ETA: 0s - loss: 0.1956 - accuracy: 0.90 - ETA: 0s - loss: 0.1990 - accuracy: 0.90 - ETA: 0s - loss: 0.2013 - accuracy: 0.90 - ETA: 0s - loss: 0.2033 - accuracy: 0.89 - ETA: 0s - loss: 0.2012 - accuracy: 0.90 - ETA: 0s - loss: 0.2004 - accuracy: 0.90 - ETA: 0s - loss: 0.2004 - accuracy: 0.89 - ETA: 0s - loss: 0.2004 - accuracy: 0.90 - ETA: 0s - loss: 0.2006 - accuracy: 0.90 - ETA: 0s - loss: 0.2012 - accuracy: 0.90 - ETA: 0s - loss: 0.2010 - accuracy: 0.90 - ETA: 0s - loss: 0.2017 - accuracy: 0.89 - ETA: 0s - loss: 0.2024 - accuracy: 0.89 - ETA: 0s - loss: 0.2036 - accuracy: 0.89 - ETA: 0s - loss: 0.2037 - accuracy: 0.89 - ETA: 0s - loss: 0.2024 - accuracy: 0.89 - ETA: 0s - loss: 0.2028 - accuracy: 0.89 - ETA: 0s - loss: 0.2025 - accuracy: 0.89 - ETA: 0s - loss: 0.2026 - accuracy: 0.89 - ETA: 0s - loss: 0.2023 - accuracy: 0.89 - ETA: 0s - loss: 0.2028 - accuracy: 0.89 - ETA: 0s - loss: 0.2025 - accuracy: 0.89 - ETA: 0s - loss: 0.2021 - accuracy: 0.89 - ETA: 0s - loss: 0.2028 - accuracy: 0.89 - 2s 5ms/step - loss: 0.2027 - accuracy: 0.8977 - val_loss: 0.3679 - val_accuracy: 0.8549\n",
      "Epoch 30/800\n",
      "412/412 [==============================] - ETA: 0s - loss: 0.1764 - accuracy: 0.90 - ETA: 1s - loss: 0.2379 - accuracy: 0.88 - ETA: 1s - loss: 0.1985 - accuracy: 0.89 - ETA: 1s - loss: 0.1945 - accuracy: 0.90 - ETA: 1s - loss: 0.2014 - accuracy: 0.90 - ETA: 1s - loss: 0.1990 - accuracy: 0.90 - ETA: 1s - loss: 0.1979 - accuracy: 0.90 - ETA: 1s - loss: 0.1969 - accuracy: 0.90 - ETA: 1s - loss: 0.1952 - accuracy: 0.90 - ETA: 1s - loss: 0.1959 - accuracy: 0.90 - ETA: 1s - loss: 0.1950 - accuracy: 0.90 - ETA: 1s - loss: 0.1955 - accuracy: 0.90 - ETA: 1s - loss: 0.1913 - accuracy: 0.90 - ETA: 1s - loss: 0.1927 - accuracy: 0.90 - ETA: 1s - loss: 0.1954 - accuracy: 0.90 - ETA: 1s - loss: 0.1951 - accuracy: 0.90 - ETA: 1s - loss: 0.1975 - accuracy: 0.90 - ETA: 1s - loss: 0.1971 - accuracy: 0.90 - ETA: 0s - loss: 0.1944 - accuracy: 0.90 - ETA: 0s - loss: 0.1941 - accuracy: 0.90 - ETA: 0s - loss: 0.1943 - accuracy: 0.90 - ETA: 0s - loss: 0.1944 - accuracy: 0.90 - ETA: 0s - loss: 0.1963 - accuracy: 0.90 - ETA: 0s - loss: 0.1978 - accuracy: 0.90 - ETA: 0s - loss: 0.1991 - accuracy: 0.89 - ETA: 0s - loss: 0.1996 - accuracy: 0.89 - ETA: 0s - loss: 0.1992 - accuracy: 0.89 - ETA: 0s - loss: 0.1987 - accuracy: 0.89 - ETA: 0s - loss: 0.1996 - accuracy: 0.89 - ETA: 0s - loss: 0.2002 - accuracy: 0.89 - ETA: 0s - loss: 0.2017 - accuracy: 0.89 - 2s 4ms/step - loss: 0.2014 - accuracy: 0.8976 - val_loss: 0.3553 - val_accuracy: 0.8544\n",
      "Epoch 31/800\n",
      "412/412 [==============================] - ETA: 0s - loss: 0.1617 - accuracy: 0.96 - ETA: 1s - loss: 0.1447 - accuracy: 0.93 - ETA: 1s - loss: 0.1768 - accuracy: 0.92 - ETA: 1s - loss: 0.1828 - accuracy: 0.91 - ETA: 1s - loss: 0.1819 - accuracy: 0.90 - ETA: 1s - loss: 0.1825 - accuracy: 0.90 - ETA: 1s - loss: 0.1828 - accuracy: 0.90 - ETA: 0s - loss: 0.1841 - accuracy: 0.90 - ETA: 0s - loss: 0.1867 - accuracy: 0.90 - ETA: 0s - loss: 0.1909 - accuracy: 0.90 - ETA: 0s - loss: 0.1896 - accuracy: 0.90 - ETA: 0s - loss: 0.1897 - accuracy: 0.90 - ETA: 0s - loss: 0.1901 - accuracy: 0.90 - ETA: 0s - loss: 0.1939 - accuracy: 0.90 - ETA: 0s - loss: 0.1922 - accuracy: 0.90 - ETA: 0s - loss: 0.1923 - accuracy: 0.90 - ETA: 0s - loss: 0.1943 - accuracy: 0.90 - ETA: 0s - loss: 0.1958 - accuracy: 0.90 - ETA: 0s - loss: 0.1963 - accuracy: 0.90 - ETA: 0s - loss: 0.1971 - accuracy: 0.90 - ETA: 0s - loss: 0.1971 - accuracy: 0.90 - ETA: 0s - loss: 0.1983 - accuracy: 0.90 - ETA: 0s - loss: 0.1986 - accuracy: 0.89 - 1s 3ms/step - loss: 0.1986 - accuracy: 0.8998 - val_loss: 0.3447 - val_accuracy: 0.8524\n",
      "Epoch 32/800\n",
      "412/412 [==============================] - ETA: 0s - loss: 0.2092 - accuracy: 0.93 - ETA: 1s - loss: 0.2204 - accuracy: 0.89 - ETA: 1s - loss: 0.2002 - accuracy: 0.90 - ETA: 1s - loss: 0.2025 - accuracy: 0.90 - ETA: 1s - loss: 0.2013 - accuracy: 0.90 - ETA: 1s - loss: 0.2011 - accuracy: 0.90 - ETA: 1s - loss: 0.1992 - accuracy: 0.90 - ETA: 1s - loss: 0.2044 - accuracy: 0.89 - ETA: 0s - loss: 0.1959 - accuracy: 0.90 - ETA: 0s - loss: 0.1987 - accuracy: 0.89 - ETA: 0s - loss: 0.2017 - accuracy: 0.89 - ETA: 0s - loss: 0.1997 - accuracy: 0.89 - ETA: 0s - loss: 0.1995 - accuracy: 0.89 - ETA: 0s - loss: 0.2023 - accuracy: 0.89 - ETA: 0s - loss: 0.2012 - accuracy: 0.89 - ETA: 0s - loss: 0.2034 - accuracy: 0.89 - ETA: 0s - loss: 0.2014 - accuracy: 0.89 - ETA: 0s - loss: 0.2004 - accuracy: 0.89 - ETA: 0s - loss: 0.2000 - accuracy: 0.89 - ETA: 0s - loss: 0.1998 - accuracy: 0.89 - ETA: 0s - loss: 0.1986 - accuracy: 0.89 - ETA: 0s - loss: 0.1972 - accuracy: 0.89 - ETA: 0s - loss: 0.1973 - accuracy: 0.89 - ETA: 0s - loss: 0.1963 - accuracy: 0.89 - ETA: 0s - loss: 0.1972 - accuracy: 0.89 - ETA: 0s - loss: 0.1973 - accuracy: 0.89 - ETA: 0s - loss: 0.1969 - accuracy: 0.89 - ETA: 0s - loss: 0.1987 - accuracy: 0.89 - 2s 4ms/step - loss: 0.1987 - accuracy: 0.8985 - val_loss: 0.3485 - val_accuracy: 0.8542\n",
      "Epoch 33/800\n"
     ]
    },
    {
     "name": "stdout",
     "output_type": "stream",
     "text": [
      "412/412 [==============================] - ETA: 0s - loss: 0.1166 - accuracy: 0.90 - ETA: 1s - loss: 0.1611 - accuracy: 0.91 - ETA: 1s - loss: 0.1808 - accuracy: 0.90 - ETA: 1s - loss: 0.1843 - accuracy: 0.90 - ETA: 1s - loss: 0.1872 - accuracy: 0.90 - ETA: 1s - loss: 0.1952 - accuracy: 0.90 - ETA: 1s - loss: 0.1943 - accuracy: 0.90 - ETA: 0s - loss: 0.1941 - accuracy: 0.90 - ETA: 0s - loss: 0.1908 - accuracy: 0.90 - ETA: 0s - loss: 0.1898 - accuracy: 0.90 - ETA: 0s - loss: 0.1883 - accuracy: 0.90 - ETA: 0s - loss: 0.1894 - accuracy: 0.90 - ETA: 0s - loss: 0.1884 - accuracy: 0.90 - ETA: 0s - loss: 0.1872 - accuracy: 0.91 - ETA: 0s - loss: 0.1893 - accuracy: 0.90 - ETA: 0s - loss: 0.1888 - accuracy: 0.90 - ETA: 0s - loss: 0.1908 - accuracy: 0.90 - ETA: 0s - loss: 0.1938 - accuracy: 0.90 - ETA: 0s - loss: 0.1943 - accuracy: 0.90 - ETA: 0s - loss: 0.1940 - accuracy: 0.90 - ETA: 0s - loss: 0.1963 - accuracy: 0.90 - ETA: 0s - loss: 0.1968 - accuracy: 0.90 - ETA: 0s - loss: 0.1976 - accuracy: 0.90 - ETA: 0s - loss: 0.1975 - accuracy: 0.90 - 1s 4ms/step - loss: 0.1980 - accuracy: 0.9022 - val_loss: 0.3431 - val_accuracy: 0.8540\n",
      "Epoch 34/800\n",
      "412/412 [==============================] - ETA: 0s - loss: 0.2310 - accuracy: 0.90 - ETA: 0s - loss: 0.1973 - accuracy: 0.89 - ETA: 0s - loss: 0.1875 - accuracy: 0.90 - ETA: 0s - loss: 0.1911 - accuracy: 0.90 - ETA: 0s - loss: 0.1910 - accuracy: 0.89 - ETA: 0s - loss: 0.1866 - accuracy: 0.90 - ETA: 0s - loss: 0.1876 - accuracy: 0.90 - ETA: 0s - loss: 0.1913 - accuracy: 0.89 - ETA: 0s - loss: 0.1908 - accuracy: 0.90 - ETA: 0s - loss: 0.1899 - accuracy: 0.90 - ETA: 0s - loss: 0.1921 - accuracy: 0.89 - ETA: 0s - loss: 0.1932 - accuracy: 0.89 - ETA: 0s - loss: 0.1930 - accuracy: 0.89 - ETA: 0s - loss: 0.1959 - accuracy: 0.89 - ETA: 0s - loss: 0.1959 - accuracy: 0.89 - ETA: 0s - loss: 0.1947 - accuracy: 0.89 - ETA: 0s - loss: 0.1955 - accuracy: 0.89 - ETA: 0s - loss: 0.1942 - accuracy: 0.89 - ETA: 0s - loss: 0.1981 - accuracy: 0.89 - ETA: 0s - loss: 0.1985 - accuracy: 0.89 - ETA: 0s - loss: 0.1986 - accuracy: 0.89 - ETA: 0s - loss: 0.1974 - accuracy: 0.89 - ETA: 0s - loss: 0.1968 - accuracy: 0.89 - ETA: 0s - loss: 0.1973 - accuracy: 0.89 - ETA: 0s - loss: 0.1988 - accuracy: 0.89 - ETA: 0s - loss: 0.1993 - accuracy: 0.89 - ETA: 0s - loss: 0.1980 - accuracy: 0.89 - ETA: 0s - loss: 0.1972 - accuracy: 0.89 - ETA: 0s - loss: 0.1962 - accuracy: 0.89 - ETA: 0s - loss: 0.1975 - accuracy: 0.89 - ETA: 0s - loss: 0.1976 - accuracy: 0.89 - ETA: 0s - loss: 0.1979 - accuracy: 0.89 - ETA: 0s - loss: 0.1974 - accuracy: 0.89 - ETA: 0s - loss: 0.1965 - accuracy: 0.89 - ETA: 0s - loss: 0.1965 - accuracy: 0.89 - ETA: 0s - loss: 0.1960 - accuracy: 0.89 - ETA: 0s - loss: 0.1959 - accuracy: 0.89 - ETA: 0s - loss: 0.1963 - accuracy: 0.89 - 2s 6ms/step - loss: 0.1963 - accuracy: 0.8993 - val_loss: 0.3939 - val_accuracy: 0.8545\n",
      "Epoch 35/800\n",
      "412/412 [==============================] - ETA: 0s - loss: 0.1355 - accuracy: 0.93 - ETA: 1s - loss: 0.2206 - accuracy: 0.89 - ETA: 1s - loss: 0.1985 - accuracy: 0.90 - ETA: 1s - loss: 0.1989 - accuracy: 0.90 - ETA: 1s - loss: 0.1886 - accuracy: 0.90 - ETA: 1s - loss: 0.1885 - accuracy: 0.90 - ETA: 1s - loss: 0.1956 - accuracy: 0.90 - ETA: 0s - loss: 0.1904 - accuracy: 0.90 - ETA: 0s - loss: 0.1905 - accuracy: 0.90 - ETA: 0s - loss: 0.1909 - accuracy: 0.90 - ETA: 0s - loss: 0.1912 - accuracy: 0.90 - ETA: 0s - loss: 0.1927 - accuracy: 0.90 - ETA: 0s - loss: 0.1941 - accuracy: 0.90 - ETA: 0s - loss: 0.1944 - accuracy: 0.90 - ETA: 0s - loss: 0.1940 - accuracy: 0.90 - ETA: 0s - loss: 0.1928 - accuracy: 0.90 - ETA: 0s - loss: 0.1937 - accuracy: 0.89 - ETA: 0s - loss: 0.1942 - accuracy: 0.89 - ETA: 0s - loss: 0.1927 - accuracy: 0.90 - ETA: 0s - loss: 0.1938 - accuracy: 0.90 - ETA: 0s - loss: 0.1926 - accuracy: 0.90 - ETA: 0s - loss: 0.1939 - accuracy: 0.90 - ETA: 0s - loss: 0.1941 - accuracy: 0.90 - ETA: 0s - loss: 0.1938 - accuracy: 0.90 - ETA: 0s - loss: 0.1928 - accuracy: 0.90 - 1s 4ms/step - loss: 0.1931 - accuracy: 0.9012 - val_loss: 0.3688 - val_accuracy: 0.8544\n",
      "Epoch 36/800\n",
      "412/412 [==============================] - ETA: 0s - loss: 0.1442 - accuracy: 0.90 - ETA: 1s - loss: 0.1637 - accuracy: 0.92 - ETA: 1s - loss: 0.1838 - accuracy: 0.90 - ETA: 1s - loss: 0.1676 - accuracy: 0.91 - ETA: 1s - loss: 0.1731 - accuracy: 0.91 - ETA: 1s - loss: 0.1711 - accuracy: 0.91 - ETA: 1s - loss: 0.1687 - accuracy: 0.91 - ETA: 1s - loss: 0.1753 - accuracy: 0.90 - ETA: 1s - loss: 0.1745 - accuracy: 0.91 - ETA: 0s - loss: 0.1764 - accuracy: 0.90 - ETA: 0s - loss: 0.1810 - accuracy: 0.90 - ETA: 0s - loss: 0.1851 - accuracy: 0.90 - ETA: 0s - loss: 0.1858 - accuracy: 0.90 - ETA: 0s - loss: 0.1853 - accuracy: 0.90 - ETA: 0s - loss: 0.1848 - accuracy: 0.90 - ETA: 0s - loss: 0.1854 - accuracy: 0.90 - ETA: 0s - loss: 0.1860 - accuracy: 0.90 - ETA: 0s - loss: 0.1859 - accuracy: 0.90 - ETA: 0s - loss: 0.1859 - accuracy: 0.90 - ETA: 0s - loss: 0.1856 - accuracy: 0.90 - ETA: 0s - loss: 0.1882 - accuracy: 0.90 - ETA: 0s - loss: 0.1876 - accuracy: 0.90 - ETA: 0s - loss: 0.1884 - accuracy: 0.90 - ETA: 0s - loss: 0.1884 - accuracy: 0.90 - ETA: 0s - loss: 0.1895 - accuracy: 0.90 - ETA: 0s - loss: 0.1899 - accuracy: 0.90 - ETA: 0s - loss: 0.1905 - accuracy: 0.90 - ETA: 0s - loss: 0.1904 - accuracy: 0.90 - ETA: 0s - loss: 0.1906 - accuracy: 0.90 - ETA: 0s - loss: 0.1906 - accuracy: 0.90 - ETA: 0s - loss: 0.1913 - accuracy: 0.90 - ETA: 0s - loss: 0.1916 - accuracy: 0.90 - ETA: 0s - loss: 0.1917 - accuracy: 0.90 - ETA: 0s - loss: 0.1919 - accuracy: 0.90 - 2s 5ms/step - loss: 0.1918 - accuracy: 0.9027 - val_loss: 0.4195 - val_accuracy: 0.8552\n",
      "Epoch 37/800\n",
      "412/412 [==============================] - ETA: 0s - loss: 0.2989 - accuracy: 0.90 - ETA: 1s - loss: 0.2145 - accuracy: 0.90 - ETA: 1s - loss: 0.2069 - accuracy: 0.90 - ETA: 1s - loss: 0.2070 - accuracy: 0.90 - ETA: 2s - loss: 0.2093 - accuracy: 0.90 - ETA: 2s - loss: 0.2114 - accuracy: 0.89 - ETA: 1s - loss: 0.2051 - accuracy: 0.90 - ETA: 1s - loss: 0.2071 - accuracy: 0.90 - ETA: 1s - loss: 0.2008 - accuracy: 0.90 - ETA: 1s - loss: 0.1985 - accuracy: 0.90 - ETA: 1s - loss: 0.1942 - accuracy: 0.90 - ETA: 1s - loss: 0.1925 - accuracy: 0.90 - ETA: 1s - loss: 0.1907 - accuracy: 0.90 - ETA: 1s - loss: 0.1903 - accuracy: 0.90 - ETA: 1s - loss: 0.1881 - accuracy: 0.90 - ETA: 1s - loss: 0.1859 - accuracy: 0.90 - ETA: 1s - loss: 0.1844 - accuracy: 0.90 - ETA: 1s - loss: 0.1844 - accuracy: 0.90 - ETA: 1s - loss: 0.1851 - accuracy: 0.90 - ETA: 1s - loss: 0.1840 - accuracy: 0.90 - ETA: 0s - loss: 0.1861 - accuracy: 0.90 - ETA: 0s - loss: 0.1867 - accuracy: 0.90 - ETA: 0s - loss: 0.1887 - accuracy: 0.90 - ETA: 0s - loss: 0.1888 - accuracy: 0.90 - ETA: 0s - loss: 0.1894 - accuracy: 0.90 - ETA: 0s - loss: 0.1894 - accuracy: 0.90 - ETA: 0s - loss: 0.1896 - accuracy: 0.90 - ETA: 0s - loss: 0.1909 - accuracy: 0.90 - ETA: 0s - loss: 0.1904 - accuracy: 0.90 - ETA: 0s - loss: 0.1907 - accuracy: 0.90 - ETA: 0s - loss: 0.1923 - accuracy: 0.90 - ETA: 0s - loss: 0.1915 - accuracy: 0.90 - ETA: 0s - loss: 0.1916 - accuracy: 0.90 - ETA: 0s - loss: 0.1903 - accuracy: 0.90 - ETA: 0s - loss: 0.1897 - accuracy: 0.90 - ETA: 0s - loss: 0.1898 - accuracy: 0.90 - ETA: 0s - loss: 0.1909 - accuracy: 0.90 - 2s 5ms/step - loss: 0.1919 - accuracy: 0.9015 - val_loss: 0.3775 - val_accuracy: 0.8552\n",
      "Epoch 38/800\n"
     ]
    },
    {
     "name": "stdout",
     "output_type": "stream",
     "text": [
      "412/412 [==============================] - ETA: 0s - loss: 0.1030 - accuracy: 0.96 - ETA: 1s - loss: 0.1995 - accuracy: 0.90 - ETA: 1s - loss: 0.1801 - accuracy: 0.91 - ETA: 1s - loss: 0.1840 - accuracy: 0.90 - ETA: 1s - loss: 0.1945 - accuracy: 0.90 - ETA: 1s - loss: 0.1919 - accuracy: 0.89 - ETA: 1s - loss: 0.1884 - accuracy: 0.90 - ETA: 1s - loss: 0.1873 - accuracy: 0.90 - ETA: 1s - loss: 0.1856 - accuracy: 0.90 - ETA: 1s - loss: 0.1822 - accuracy: 0.90 - ETA: 1s - loss: 0.1823 - accuracy: 0.90 - ETA: 0s - loss: 0.1845 - accuracy: 0.90 - ETA: 0s - loss: 0.1825 - accuracy: 0.90 - ETA: 0s - loss: 0.1836 - accuracy: 0.90 - ETA: 0s - loss: 0.1843 - accuracy: 0.90 - ETA: 0s - loss: 0.1839 - accuracy: 0.90 - ETA: 0s - loss: 0.1853 - accuracy: 0.90 - ETA: 0s - loss: 0.1843 - accuracy: 0.90 - ETA: 0s - loss: 0.1845 - accuracy: 0.90 - ETA: 0s - loss: 0.1843 - accuracy: 0.90 - ETA: 0s - loss: 0.1839 - accuracy: 0.90 - ETA: 0s - loss: 0.1845 - accuracy: 0.90 - ETA: 0s - loss: 0.1839 - accuracy: 0.90 - ETA: 0s - loss: 0.1843 - accuracy: 0.90 - ETA: 0s - loss: 0.1844 - accuracy: 0.90 - ETA: 0s - loss: 0.1830 - accuracy: 0.90 - ETA: 0s - loss: 0.1841 - accuracy: 0.90 - ETA: 0s - loss: 0.1851 - accuracy: 0.90 - ETA: 0s - loss: 0.1850 - accuracy: 0.90 - ETA: 0s - loss: 0.1857 - accuracy: 0.90 - ETA: 0s - loss: 0.1865 - accuracy: 0.90 - ETA: 0s - loss: 0.1861 - accuracy: 0.90 - ETA: 0s - loss: 0.1856 - accuracy: 0.90 - ETA: 0s - loss: 0.1865 - accuracy: 0.90 - ETA: 0s - loss: 0.1866 - accuracy: 0.90 - ETA: 0s - loss: 0.1868 - accuracy: 0.90 - ETA: 0s - loss: 0.1867 - accuracy: 0.90 - ETA: 0s - loss: 0.1867 - accuracy: 0.90 - ETA: 0s - loss: 0.1872 - accuracy: 0.90 - ETA: 0s - loss: 0.1864 - accuracy: 0.90 - ETA: 0s - loss: 0.1873 - accuracy: 0.90 - ETA: 0s - loss: 0.1872 - accuracy: 0.90 - 3s 7ms/step - loss: 0.1872 - accuracy: 0.9037 - val_loss: 0.4143 - val_accuracy: 0.8491\n",
      "Epoch 39/800\n",
      "412/412 [==============================] - ETA: 0s - loss: 0.1490 - accuracy: 0.93 - ETA: 1s - loss: 0.1836 - accuracy: 0.90 - ETA: 1s - loss: 0.1662 - accuracy: 0.91 - ETA: 1s - loss: 0.1860 - accuracy: 0.90 - ETA: 1s - loss: 0.1860 - accuracy: 0.90 - ETA: 1s - loss: 0.1793 - accuracy: 0.90 - ETA: 1s - loss: 0.1840 - accuracy: 0.90 - ETA: 1s - loss: 0.1835 - accuracy: 0.90 - ETA: 1s - loss: 0.1836 - accuracy: 0.90 - ETA: 1s - loss: 0.1796 - accuracy: 0.90 - ETA: 1s - loss: 0.1839 - accuracy: 0.90 - ETA: 1s - loss: 0.1852 - accuracy: 0.90 - ETA: 1s - loss: 0.1864 - accuracy: 0.90 - ETA: 0s - loss: 0.1890 - accuracy: 0.90 - ETA: 0s - loss: 0.1889 - accuracy: 0.90 - ETA: 0s - loss: 0.1882 - accuracy: 0.90 - ETA: 0s - loss: 0.1874 - accuracy: 0.90 - ETA: 0s - loss: 0.1879 - accuracy: 0.90 - ETA: 0s - loss: 0.1888 - accuracy: 0.90 - ETA: 0s - loss: 0.1891 - accuracy: 0.90 - ETA: 0s - loss: 0.1893 - accuracy: 0.90 - ETA: 0s - loss: 0.1895 - accuracy: 0.90 - ETA: 0s - loss: 0.1895 - accuracy: 0.90 - ETA: 0s - loss: 0.1904 - accuracy: 0.90 - ETA: 0s - loss: 0.1901 - accuracy: 0.90 - ETA: 0s - loss: 0.1899 - accuracy: 0.90 - ETA: 0s - loss: 0.1910 - accuracy: 0.90 - ETA: 0s - loss: 0.1907 - accuracy: 0.90 - ETA: 0s - loss: 0.1908 - accuracy: 0.90 - ETA: 0s - loss: 0.1909 - accuracy: 0.90 - ETA: 0s - loss: 0.1916 - accuracy: 0.90 - ETA: 0s - loss: 0.1912 - accuracy: 0.90 - ETA: 0s - loss: 0.1916 - accuracy: 0.90 - ETA: 0s - loss: 0.1903 - accuracy: 0.90 - ETA: 0s - loss: 0.1894 - accuracy: 0.90 - ETA: 0s - loss: 0.1899 - accuracy: 0.90 - ETA: 0s - loss: 0.1899 - accuracy: 0.90 - 2s 5ms/step - loss: 0.1899 - accuracy: 0.9025 - val_loss: 0.3973 - val_accuracy: 0.8506\n",
      "Epoch 40/800\n",
      "412/412 [==============================] - ETA: 0s - loss: 0.1287 - accuracy: 0.96 - ETA: 1s - loss: 0.2015 - accuracy: 0.90 - ETA: 2s - loss: 0.1942 - accuracy: 0.90 - ETA: 2s - loss: 0.1825 - accuracy: 0.90 - ETA: 2s - loss: 0.1772 - accuracy: 0.91 - ETA: 2s - loss: 0.1832 - accuracy: 0.90 - ETA: 2s - loss: 0.1884 - accuracy: 0.90 - ETA: 2s - loss: 0.1906 - accuracy: 0.90 - ETA: 2s - loss: 0.1869 - accuracy: 0.90 - ETA: 2s - loss: 0.1893 - accuracy: 0.90 - ETA: 1s - loss: 0.1913 - accuracy: 0.90 - ETA: 1s - loss: 0.1942 - accuracy: 0.90 - ETA: 1s - loss: 0.1912 - accuracy: 0.90 - ETA: 1s - loss: 0.1919 - accuracy: 0.90 - ETA: 1s - loss: 0.1910 - accuracy: 0.90 - ETA: 1s - loss: 0.1889 - accuracy: 0.90 - ETA: 1s - loss: 0.1891 - accuracy: 0.90 - ETA: 1s - loss: 0.1884 - accuracy: 0.90 - ETA: 1s - loss: 0.1868 - accuracy: 0.90 - ETA: 1s - loss: 0.1874 - accuracy: 0.90 - ETA: 1s - loss: 0.1851 - accuracy: 0.90 - ETA: 1s - loss: 0.1861 - accuracy: 0.90 - ETA: 1s - loss: 0.1837 - accuracy: 0.90 - ETA: 1s - loss: 0.1847 - accuracy: 0.90 - ETA: 1s - loss: 0.1832 - accuracy: 0.90 - ETA: 1s - loss: 0.1828 - accuracy: 0.90 - ETA: 0s - loss: 0.1827 - accuracy: 0.90 - ETA: 0s - loss: 0.1835 - accuracy: 0.90 - ETA: 0s - loss: 0.1849 - accuracy: 0.90 - ETA: 0s - loss: 0.1848 - accuracy: 0.90 - ETA: 0s - loss: 0.1862 - accuracy: 0.90 - ETA: 0s - loss: 0.1851 - accuracy: 0.90 - ETA: 0s - loss: 0.1863 - accuracy: 0.90 - ETA: 0s - loss: 0.1861 - accuracy: 0.90 - ETA: 0s - loss: 0.1861 - accuracy: 0.90 - ETA: 0s - loss: 0.1883 - accuracy: 0.90 - ETA: 0s - loss: 0.1878 - accuracy: 0.90 - ETA: 0s - loss: 0.1885 - accuracy: 0.90 - ETA: 0s - loss: 0.1876 - accuracy: 0.90 - ETA: 0s - loss: 0.1862 - accuracy: 0.90 - ETA: 0s - loss: 0.1864 - accuracy: 0.90 - 2s 6ms/step - loss: 0.1864 - accuracy: 0.9037 - val_loss: 0.4301 - val_accuracy: 0.8521\n",
      "Epoch 41/800\n",
      "412/412 [==============================] - ETA: 0s - loss: 0.2064 - accuracy: 0.90 - ETA: 1s - loss: 0.1811 - accuracy: 0.90 - ETA: 1s - loss: 0.1885 - accuracy: 0.90 - ETA: 1s - loss: 0.1856 - accuracy: 0.90 - ETA: 1s - loss: 0.1928 - accuracy: 0.90 - ETA: 1s - loss: 0.1842 - accuracy: 0.91 - ETA: 1s - loss: 0.1859 - accuracy: 0.91 - ETA: 0s - loss: 0.1843 - accuracy: 0.90 - ETA: 0s - loss: 0.1843 - accuracy: 0.90 - ETA: 0s - loss: 0.1837 - accuracy: 0.90 - ETA: 0s - loss: 0.1874 - accuracy: 0.90 - ETA: 0s - loss: 0.1842 - accuracy: 0.90 - ETA: 0s - loss: 0.1846 - accuracy: 0.90 - ETA: 0s - loss: 0.1833 - accuracy: 0.90 - ETA: 0s - loss: 0.1838 - accuracy: 0.90 - ETA: 0s - loss: 0.1831 - accuracy: 0.90 - ETA: 0s - loss: 0.1827 - accuracy: 0.90 - ETA: 0s - loss: 0.1815 - accuracy: 0.90 - ETA: 0s - loss: 0.1821 - accuracy: 0.90 - ETA: 0s - loss: 0.1820 - accuracy: 0.90 - ETA: 0s - loss: 0.1827 - accuracy: 0.90 - ETA: 0s - loss: 0.1827 - accuracy: 0.90 - ETA: 0s - loss: 0.1833 - accuracy: 0.90 - ETA: 0s - loss: 0.1835 - accuracy: 0.90 - ETA: 0s - loss: 0.1831 - accuracy: 0.90 - 2s 4ms/step - loss: 0.1842 - accuracy: 0.9071 - val_loss: 0.4266 - val_accuracy: 0.8485\n",
      "Epoch 42/800\n",
      "412/412 [==============================] - ETA: 0s - loss: 0.2487 - accuracy: 0.90 - ETA: 1s - loss: 0.1921 - accuracy: 0.90 - ETA: 1s - loss: 0.1965 - accuracy: 0.90 - ETA: 1s - loss: 0.1880 - accuracy: 0.90 - ETA: 1s - loss: 0.1838 - accuracy: 0.90 - ETA: 1s - loss: 0.1847 - accuracy: 0.90 - ETA: 1s - loss: 0.1860 - accuracy: 0.90 - ETA: 1s - loss: 0.1883 - accuracy: 0.90 - ETA: 1s - loss: 0.1858 - accuracy: 0.90 - ETA: 1s - loss: 0.1861 - accuracy: 0.90 - ETA: 0s - loss: 0.1852 - accuracy: 0.90 - ETA: 0s - loss: 0.1833 - accuracy: 0.90 - ETA: 0s - loss: 0.1855 - accuracy: 0.90 - ETA: 0s - loss: 0.1816 - accuracy: 0.90 - ETA: 0s - loss: 0.1800 - accuracy: 0.90 - ETA: 0s - loss: 0.1790 - accuracy: 0.90 - ETA: 0s - loss: 0.1794 - accuracy: 0.90 - ETA: 0s - loss: 0.1818 - accuracy: 0.90 - ETA: 0s - loss: 0.1815 - accuracy: 0.90 - ETA: 0s - loss: 0.1826 - accuracy: 0.90 - ETA: 0s - loss: 0.1828 - accuracy: 0.90 - ETA: 0s - loss: 0.1835 - accuracy: 0.90 - ETA: 0s - loss: 0.1824 - accuracy: 0.90 - ETA: 0s - loss: 0.1824 - accuracy: 0.90 - ETA: 0s - loss: 0.1820 - accuracy: 0.90 - ETA: 0s - loss: 0.1834 - accuracy: 0.90 - ETA: 0s - loss: 0.1833 - accuracy: 0.90 - ETA: 0s - loss: 0.1828 - accuracy: 0.90 - ETA: 0s - loss: 0.1825 - accuracy: 0.90 - ETA: 0s - loss: 0.1827 - accuracy: 0.90 - ETA: 0s - loss: 0.1830 - accuracy: 0.90 - 2s 5ms/step - loss: 0.1832 - accuracy: 0.9046 - val_loss: 0.4275 - val_accuracy: 0.8538\n",
      "Epoch 43/800\n"
     ]
    },
    {
     "name": "stdout",
     "output_type": "stream",
     "text": [
      "412/412 [==============================] - ETA: 0s - loss: 0.0898 - accuracy: 0.93 - ETA: 1s - loss: 0.1718 - accuracy: 0.91 - ETA: 1s - loss: 0.1691 - accuracy: 0.92 - ETA: 1s - loss: 0.1716 - accuracy: 0.91 - ETA: 1s - loss: 0.1821 - accuracy: 0.91 - ETA: 1s - loss: 0.1821 - accuracy: 0.90 - ETA: 2s - loss: 0.1791 - accuracy: 0.90 - ETA: 2s - loss: 0.1786 - accuracy: 0.90 - ETA: 2s - loss: 0.1810 - accuracy: 0.90 - ETA: 1s - loss: 0.1804 - accuracy: 0.90 - ETA: 1s - loss: 0.1798 - accuracy: 0.90 - ETA: 1s - loss: 0.1736 - accuracy: 0.91 - ETA: 1s - loss: 0.1760 - accuracy: 0.91 - ETA: 1s - loss: 0.1720 - accuracy: 0.91 - ETA: 1s - loss: 0.1740 - accuracy: 0.91 - ETA: 1s - loss: 0.1723 - accuracy: 0.91 - ETA: 1s - loss: 0.1756 - accuracy: 0.91 - ETA: 1s - loss: 0.1785 - accuracy: 0.90 - ETA: 1s - loss: 0.1778 - accuracy: 0.90 - ETA: 1s - loss: 0.1788 - accuracy: 0.90 - ETA: 1s - loss: 0.1792 - accuracy: 0.90 - ETA: 1s - loss: 0.1784 - accuracy: 0.90 - ETA: 1s - loss: 0.1799 - accuracy: 0.90 - ETA: 1s - loss: 0.1795 - accuracy: 0.90 - ETA: 1s - loss: 0.1796 - accuracy: 0.90 - ETA: 0s - loss: 0.1806 - accuracy: 0.90 - ETA: 0s - loss: 0.1803 - accuracy: 0.90 - ETA: 0s - loss: 0.1791 - accuracy: 0.90 - ETA: 0s - loss: 0.1790 - accuracy: 0.90 - ETA: 0s - loss: 0.1799 - accuracy: 0.90 - ETA: 0s - loss: 0.1797 - accuracy: 0.90 - ETA: 0s - loss: 0.1798 - accuracy: 0.90 - ETA: 0s - loss: 0.1782 - accuracy: 0.90 - ETA: 0s - loss: 0.1801 - accuracy: 0.90 - ETA: 0s - loss: 0.1797 - accuracy: 0.90 - ETA: 0s - loss: 0.1818 - accuracy: 0.90 - 2s 5ms/step - loss: 0.1827 - accuracy: 0.9053 - val_loss: 0.4148 - val_accuracy: 0.8510\n",
      "Epoch 44/800\n",
      "412/412 [==============================] - ETA: 0s - loss: 0.1187 - accuracy: 0.90 - ETA: 1s - loss: 0.1525 - accuracy: 0.91 - ETA: 1s - loss: 0.1702 - accuracy: 0.91 - ETA: 1s - loss: 0.1763 - accuracy: 0.91 - ETA: 1s - loss: 0.1776 - accuracy: 0.91 - ETA: 0s - loss: 0.1765 - accuracy: 0.90 - ETA: 0s - loss: 0.1784 - accuracy: 0.90 - ETA: 0s - loss: 0.1757 - accuracy: 0.90 - ETA: 0s - loss: 0.1782 - accuracy: 0.90 - ETA: 0s - loss: 0.1772 - accuracy: 0.90 - ETA: 0s - loss: 0.1804 - accuracy: 0.90 - ETA: 0s - loss: 0.1822 - accuracy: 0.90 - ETA: 0s - loss: 0.1829 - accuracy: 0.90 - ETA: 0s - loss: 0.1820 - accuracy: 0.90 - ETA: 0s - loss: 0.1811 - accuracy: 0.90 - ETA: 0s - loss: 0.1815 - accuracy: 0.90 - ETA: 0s - loss: 0.1835 - accuracy: 0.90 - ETA: 0s - loss: 0.1844 - accuracy: 0.90 - ETA: 0s - loss: 0.1829 - accuracy: 0.90 - ETA: 0s - loss: 0.1815 - accuracy: 0.90 - ETA: 0s - loss: 0.1825 - accuracy: 0.90 - ETA: 0s - loss: 0.1813 - accuracy: 0.90 - ETA: 0s - loss: 0.1803 - accuracy: 0.90 - ETA: 0s - loss: 0.1796 - accuracy: 0.90 - ETA: 0s - loss: 0.1797 - accuracy: 0.90 - ETA: 0s - loss: 0.1788 - accuracy: 0.90 - ETA: 0s - loss: 0.1783 - accuracy: 0.90 - ETA: 0s - loss: 0.1782 - accuracy: 0.90 - ETA: 0s - loss: 0.1784 - accuracy: 0.90 - ETA: 0s - loss: 0.1790 - accuracy: 0.90 - ETA: 0s - loss: 0.1790 - accuracy: 0.90 - ETA: 0s - loss: 0.1790 - accuracy: 0.90 - ETA: 0s - loss: 0.1784 - accuracy: 0.90 - ETA: 0s - loss: 0.1785 - accuracy: 0.90 - ETA: 0s - loss: 0.1792 - accuracy: 0.90 - ETA: 0s - loss: 0.1795 - accuracy: 0.90 - ETA: 0s - loss: 0.1800 - accuracy: 0.90 - ETA: 0s - loss: 0.1799 - accuracy: 0.90 - ETA: 0s - loss: 0.1810 - accuracy: 0.90 - ETA: 0s - loss: 0.1815 - accuracy: 0.90 - ETA: 0s - loss: 0.1819 - accuracy: 0.90 - ETA: 0s - loss: 0.1830 - accuracy: 0.90 - 2s 6ms/step - loss: 0.1829 - accuracy: 0.9060 - val_loss: 0.4336 - val_accuracy: 0.8503\n",
      "Epoch 45/800\n",
      "412/412 [==============================] - ETA: 0s - loss: 0.1096 - accuracy: 0.96 - ETA: 0s - loss: 0.1727 - accuracy: 0.91 - ETA: 1s - loss: 0.1677 - accuracy: 0.91 - ETA: 1s - loss: 0.1600 - accuracy: 0.91 - ETA: 0s - loss: 0.1627 - accuracy: 0.91 - ETA: 0s - loss: 0.1628 - accuracy: 0.91 - ETA: 0s - loss: 0.1634 - accuracy: 0.91 - ETA: 0s - loss: 0.1656 - accuracy: 0.91 - ETA: 0s - loss: 0.1691 - accuracy: 0.91 - ETA: 0s - loss: 0.1683 - accuracy: 0.91 - ETA: 0s - loss: 0.1693 - accuracy: 0.91 - ETA: 0s - loss: 0.1721 - accuracy: 0.91 - ETA: 0s - loss: 0.1746 - accuracy: 0.90 - ETA: 0s - loss: 0.1781 - accuracy: 0.90 - ETA: 0s - loss: 0.1801 - accuracy: 0.90 - ETA: 0s - loss: 0.1807 - accuracy: 0.90 - ETA: 0s - loss: 0.1831 - accuracy: 0.90 - ETA: 0s - loss: 0.1825 - accuracy: 0.90 - ETA: 0s - loss: 0.1811 - accuracy: 0.90 - ETA: 0s - loss: 0.1808 - accuracy: 0.90 - ETA: 0s - loss: 0.1810 - accuracy: 0.90 - ETA: 0s - loss: 0.1812 - accuracy: 0.90 - 1s 3ms/step - loss: 0.1808 - accuracy: 0.9061 - val_loss: 0.4304 - val_accuracy: 0.8499\n",
      "Epoch 46/800\n",
      "412/412 [==============================] - ETA: 0s - loss: 0.1957 - accuracy: 0.93 - ETA: 1s - loss: 0.1650 - accuracy: 0.90 - ETA: 1s - loss: 0.1754 - accuracy: 0.90 - ETA: 1s - loss: 0.1734 - accuracy: 0.90 - ETA: 1s - loss: 0.1754 - accuracy: 0.90 - ETA: 1s - loss: 0.1792 - accuracy: 0.90 - ETA: 1s - loss: 0.1791 - accuracy: 0.90 - ETA: 1s - loss: 0.1828 - accuracy: 0.90 - ETA: 1s - loss: 0.1798 - accuracy: 0.90 - ETA: 1s - loss: 0.1764 - accuracy: 0.90 - ETA: 1s - loss: 0.1795 - accuracy: 0.90 - ETA: 1s - loss: 0.1765 - accuracy: 0.90 - ETA: 1s - loss: 0.1764 - accuracy: 0.90 - ETA: 1s - loss: 0.1759 - accuracy: 0.90 - ETA: 0s - loss: 0.1757 - accuracy: 0.90 - ETA: 0s - loss: 0.1749 - accuracy: 0.90 - ETA: 0s - loss: 0.1759 - accuracy: 0.90 - ETA: 0s - loss: 0.1751 - accuracy: 0.90 - ETA: 0s - loss: 0.1742 - accuracy: 0.90 - ETA: 0s - loss: 0.1742 - accuracy: 0.90 - ETA: 0s - loss: 0.1754 - accuracy: 0.90 - ETA: 0s - loss: 0.1755 - accuracy: 0.90 - ETA: 0s - loss: 0.1764 - accuracy: 0.90 - ETA: 0s - loss: 0.1764 - accuracy: 0.90 - ETA: 0s - loss: 0.1757 - accuracy: 0.90 - ETA: 0s - loss: 0.1764 - accuracy: 0.90 - ETA: 0s - loss: 0.1764 - accuracy: 0.90 - ETA: 0s - loss: 0.1768 - accuracy: 0.90 - ETA: 0s - loss: 0.1765 - accuracy: 0.90 - ETA: 0s - loss: 0.1772 - accuracy: 0.90 - ETA: 0s - loss: 0.1769 - accuracy: 0.90 - ETA: 0s - loss: 0.1773 - accuracy: 0.90 - ETA: 0s - loss: 0.1774 - accuracy: 0.90 - ETA: 0s - loss: 0.1788 - accuracy: 0.90 - 2s 5ms/step - loss: 0.1788 - accuracy: 0.9078 - val_loss: 0.4519 - val_accuracy: 0.8494\n",
      "Epoch 47/800\n",
      "412/412 [==============================] - ETA: 0s - loss: 0.3759 - accuracy: 0.81 - ETA: 1s - loss: 0.2193 - accuracy: 0.88 - ETA: 1s - loss: 0.1822 - accuracy: 0.90 - ETA: 1s - loss: 0.1750 - accuracy: 0.90 - ETA: 0s - loss: 0.1752 - accuracy: 0.91 - ETA: 0s - loss: 0.1800 - accuracy: 0.90 - ETA: 0s - loss: 0.1784 - accuracy: 0.91 - ETA: 0s - loss: 0.1783 - accuracy: 0.91 - ETA: 0s - loss: 0.1761 - accuracy: 0.91 - ETA: 0s - loss: 0.1742 - accuracy: 0.91 - ETA: 0s - loss: 0.1731 - accuracy: 0.91 - ETA: 0s - loss: 0.1714 - accuracy: 0.91 - ETA: 0s - loss: 0.1734 - accuracy: 0.91 - ETA: 0s - loss: 0.1746 - accuracy: 0.91 - ETA: 0s - loss: 0.1753 - accuracy: 0.90 - ETA: 0s - loss: 0.1744 - accuracy: 0.91 - ETA: 0s - loss: 0.1749 - accuracy: 0.91 - ETA: 0s - loss: 0.1753 - accuracy: 0.91 - ETA: 0s - loss: 0.1768 - accuracy: 0.90 - ETA: 0s - loss: 0.1761 - accuracy: 0.91 - ETA: 0s - loss: 0.1764 - accuracy: 0.91 - ETA: 0s - loss: 0.1762 - accuracy: 0.91 - ETA: 0s - loss: 0.1773 - accuracy: 0.91 - ETA: 0s - loss: 0.1771 - accuracy: 0.91 - 2s 4ms/step - loss: 0.1770 - accuracy: 0.9106 - val_loss: 0.4609 - val_accuracy: 0.8535\n",
      "Epoch 48/800\n"
     ]
    },
    {
     "name": "stdout",
     "output_type": "stream",
     "text": [
      "412/412 [==============================] - ETA: 0s - loss: 0.2305 - accuracy: 0.90 - ETA: 1s - loss: 0.1639 - accuracy: 0.91 - ETA: 1s - loss: 0.1573 - accuracy: 0.92 - ETA: 1s - loss: 0.1629 - accuracy: 0.91 - ETA: 1s - loss: 0.1564 - accuracy: 0.92 - ETA: 1s - loss: 0.1554 - accuracy: 0.92 - ETA: 1s - loss: 0.1633 - accuracy: 0.91 - ETA: 1s - loss: 0.1690 - accuracy: 0.91 - ETA: 1s - loss: 0.1675 - accuracy: 0.91 - ETA: 1s - loss: 0.1678 - accuracy: 0.91 - ETA: 1s - loss: 0.1679 - accuracy: 0.91 - ETA: 1s - loss: 0.1692 - accuracy: 0.91 - ETA: 1s - loss: 0.1705 - accuracy: 0.91 - ETA: 1s - loss: 0.1728 - accuracy: 0.91 - ETA: 0s - loss: 0.1743 - accuracy: 0.91 - ETA: 0s - loss: 0.1749 - accuracy: 0.91 - ETA: 0s - loss: 0.1763 - accuracy: 0.91 - ETA: 0s - loss: 0.1758 - accuracy: 0.91 - ETA: 0s - loss: 0.1771 - accuracy: 0.91 - ETA: 0s - loss: 0.1772 - accuracy: 0.91 - ETA: 0s - loss: 0.1784 - accuracy: 0.90 - ETA: 0s - loss: 0.1779 - accuracy: 0.90 - ETA: 0s - loss: 0.1774 - accuracy: 0.91 - ETA: 0s - loss: 0.1760 - accuracy: 0.91 - ETA: 0s - loss: 0.1760 - accuracy: 0.91 - ETA: 0s - loss: 0.1749 - accuracy: 0.91 - ETA: 0s - loss: 0.1754 - accuracy: 0.91 - ETA: 0s - loss: 0.1754 - accuracy: 0.91 - ETA: 0s - loss: 0.1763 - accuracy: 0.91 - ETA: 0s - loss: 0.1753 - accuracy: 0.91 - 2s 4ms/step - loss: 0.1762 - accuracy: 0.9109 - val_loss: 0.5056 - val_accuracy: 0.8483\n",
      "Epoch 49/800\n",
      "412/412 [==============================] - ETA: 0s - loss: 0.3148 - accuracy: 0.84 - ETA: 1s - loss: 0.2081 - accuracy: 0.90 - ETA: 1s - loss: 0.1976 - accuracy: 0.91 - ETA: 1s - loss: 0.1833 - accuracy: 0.91 - ETA: 1s - loss: 0.1875 - accuracy: 0.91 - ETA: 1s - loss: 0.1783 - accuracy: 0.91 - ETA: 1s - loss: 0.1770 - accuracy: 0.91 - ETA: 1s - loss: 0.1749 - accuracy: 0.91 - ETA: 1s - loss: 0.1756 - accuracy: 0.91 - ETA: 1s - loss: 0.1741 - accuracy: 0.91 - ETA: 0s - loss: 0.1757 - accuracy: 0.91 - ETA: 0s - loss: 0.1784 - accuracy: 0.91 - ETA: 0s - loss: 0.1768 - accuracy: 0.91 - ETA: 0s - loss: 0.1754 - accuracy: 0.91 - ETA: 0s - loss: 0.1781 - accuracy: 0.91 - ETA: 0s - loss: 0.1770 - accuracy: 0.91 - ETA: 0s - loss: 0.1765 - accuracy: 0.91 - ETA: 0s - loss: 0.1776 - accuracy: 0.91 - ETA: 0s - loss: 0.1756 - accuracy: 0.91 - ETA: 0s - loss: 0.1762 - accuracy: 0.91 - ETA: 0s - loss: 0.1774 - accuracy: 0.91 - ETA: 0s - loss: 0.1762 - accuracy: 0.91 - ETA: 0s - loss: 0.1756 - accuracy: 0.91 - ETA: 0s - loss: 0.1756 - accuracy: 0.91 - ETA: 0s - loss: 0.1764 - accuracy: 0.91 - ETA: 0s - loss: 0.1770 - accuracy: 0.91 - 2s 4ms/step - loss: 0.1775 - accuracy: 0.9105 - val_loss: 0.4540 - val_accuracy: 0.8508\n",
      "Epoch 50/800\n",
      "412/412 [==============================] - ETA: 0s - loss: 0.1462 - accuracy: 0.90 - ETA: 1s - loss: 0.1697 - accuracy: 0.91 - ETA: 1s - loss: 0.1659 - accuracy: 0.91 - ETA: 1s - loss: 0.1635 - accuracy: 0.91 - ETA: 1s - loss: 0.1608 - accuracy: 0.91 - ETA: 1s - loss: 0.1587 - accuracy: 0.91 - ETA: 1s - loss: 0.1610 - accuracy: 0.91 - ETA: 1s - loss: 0.1640 - accuracy: 0.91 - ETA: 0s - loss: 0.1644 - accuracy: 0.91 - ETA: 0s - loss: 0.1637 - accuracy: 0.91 - ETA: 0s - loss: 0.1664 - accuracy: 0.91 - ETA: 0s - loss: 0.1665 - accuracy: 0.91 - ETA: 0s - loss: 0.1693 - accuracy: 0.91 - ETA: 0s - loss: 0.1719 - accuracy: 0.91 - ETA: 0s - loss: 0.1733 - accuracy: 0.91 - ETA: 0s - loss: 0.1756 - accuracy: 0.90 - ETA: 0s - loss: 0.1762 - accuracy: 0.90 - ETA: 0s - loss: 0.1748 - accuracy: 0.91 - ETA: 0s - loss: 0.1744 - accuracy: 0.91 - ETA: 0s - loss: 0.1756 - accuracy: 0.91 - ETA: 0s - loss: 0.1760 - accuracy: 0.91 - ETA: 0s - loss: 0.1759 - accuracy: 0.91 - 1s 3ms/step - loss: 0.1758 - accuracy: 0.9098 - val_loss: 0.4332 - val_accuracy: 0.8492\n",
      "Epoch 51/800\n",
      "412/412 [==============================] - ETA: 0s - loss: 0.1524 - accuracy: 0.96 - ETA: 0s - loss: 0.1581 - accuracy: 0.91 - ETA: 0s - loss: 0.1564 - accuracy: 0.91 - ETA: 0s - loss: 0.1613 - accuracy: 0.91 - ETA: 0s - loss: 0.1630 - accuracy: 0.91 - ETA: 0s - loss: 0.1607 - accuracy: 0.91 - ETA: 0s - loss: 0.1602 - accuracy: 0.91 - ETA: 0s - loss: 0.1624 - accuracy: 0.91 - ETA: 0s - loss: 0.1639 - accuracy: 0.91 - ETA: 0s - loss: 0.1619 - accuracy: 0.91 - ETA: 0s - loss: 0.1625 - accuracy: 0.91 - ETA: 0s - loss: 0.1662 - accuracy: 0.91 - ETA: 0s - loss: 0.1671 - accuracy: 0.91 - ETA: 0s - loss: 0.1691 - accuracy: 0.91 - ETA: 0s - loss: 0.1699 - accuracy: 0.91 - ETA: 0s - loss: 0.1685 - accuracy: 0.91 - ETA: 0s - loss: 0.1693 - accuracy: 0.91 - ETA: 0s - loss: 0.1724 - accuracy: 0.91 - ETA: 0s - loss: 0.1727 - accuracy: 0.91 - ETA: 0s - loss: 0.1729 - accuracy: 0.91 - ETA: 0s - loss: 0.1748 - accuracy: 0.90 - ETA: 0s - loss: 0.1737 - accuracy: 0.90 - 1s 3ms/step - loss: 0.1735 - accuracy: 0.9088 - val_loss: 0.4636 - val_accuracy: 0.8508\n",
      "Epoch 52/800\n",
      "412/412 [==============================] - ETA: 0s - loss: 0.2733 - accuracy: 0.87 - ETA: 2s - loss: 0.1831 - accuracy: 0.89 - ETA: 2s - loss: 0.1563 - accuracy: 0.92 - ETA: 2s - loss: 0.1607 - accuracy: 0.91 - ETA: 2s - loss: 0.1638 - accuracy: 0.91 - ETA: 2s - loss: 0.1623 - accuracy: 0.91 - ETA: 2s - loss: 0.1615 - accuracy: 0.91 - ETA: 1s - loss: 0.1696 - accuracy: 0.91 - ETA: 1s - loss: 0.1734 - accuracy: 0.90 - ETA: 1s - loss: 0.1698 - accuracy: 0.90 - ETA: 2s - loss: 0.1660 - accuracy: 0.91 - ETA: 1s - loss: 0.1681 - accuracy: 0.91 - ETA: 1s - loss: 0.1687 - accuracy: 0.90 - ETA: 1s - loss: 0.1693 - accuracy: 0.90 - ETA: 1s - loss: 0.1701 - accuracy: 0.90 - ETA: 1s - loss: 0.1699 - accuracy: 0.90 - ETA: 1s - loss: 0.1677 - accuracy: 0.91 - ETA: 1s - loss: 0.1698 - accuracy: 0.91 - ETA: 1s - loss: 0.1686 - accuracy: 0.91 - ETA: 1s - loss: 0.1672 - accuracy: 0.91 - ETA: 0s - loss: 0.1677 - accuracy: 0.91 - ETA: 0s - loss: 0.1672 - accuracy: 0.91 - ETA: 0s - loss: 0.1680 - accuracy: 0.91 - ETA: 0s - loss: 0.1682 - accuracy: 0.91 - ETA: 0s - loss: 0.1686 - accuracy: 0.91 - ETA: 0s - loss: 0.1684 - accuracy: 0.91 - ETA: 0s - loss: 0.1690 - accuracy: 0.91 - ETA: 0s - loss: 0.1705 - accuracy: 0.91 - ETA: 0s - loss: 0.1698 - accuracy: 0.91 - ETA: 0s - loss: 0.1693 - accuracy: 0.91 - ETA: 0s - loss: 0.1697 - accuracy: 0.91 - ETA: 0s - loss: 0.1702 - accuracy: 0.91 - 2s 5ms/step - loss: 0.1705 - accuracy: 0.9133 - val_loss: 0.4789 - val_accuracy: 0.8510\n",
      "Epoch 53/800\n",
      "412/412 [==============================] - ETA: 0s - loss: 0.2367 - accuracy: 0.87 - ETA: 2s - loss: 0.1324 - accuracy: 0.94 - ETA: 2s - loss: 0.1393 - accuracy: 0.93 - ETA: 2s - loss: 0.1339 - accuracy: 0.93 - ETA: 2s - loss: 0.1322 - accuracy: 0.93 - ETA: 2s - loss: 0.1449 - accuracy: 0.92 - ETA: 2s - loss: 0.1477 - accuracy: 0.92 - ETA: 2s - loss: 0.1497 - accuracy: 0.92 - ETA: 2s - loss: 0.1507 - accuracy: 0.92 - ETA: 2s - loss: 0.1502 - accuracy: 0.92 - ETA: 2s - loss: 0.1505 - accuracy: 0.92 - ETA: 1s - loss: 0.1531 - accuracy: 0.92 - ETA: 1s - loss: 0.1566 - accuracy: 0.91 - ETA: 1s - loss: 0.1603 - accuracy: 0.91 - ETA: 1s - loss: 0.1593 - accuracy: 0.91 - ETA: 1s - loss: 0.1579 - accuracy: 0.91 - ETA: 1s - loss: 0.1631 - accuracy: 0.91 - ETA: 1s - loss: 0.1650 - accuracy: 0.91 - ETA: 1s - loss: 0.1655 - accuracy: 0.91 - ETA: 1s - loss: 0.1658 - accuracy: 0.91 - ETA: 1s - loss: 0.1650 - accuracy: 0.91 - ETA: 1s - loss: 0.1672 - accuracy: 0.91 - ETA: 1s - loss: 0.1673 - accuracy: 0.91 - ETA: 1s - loss: 0.1687 - accuracy: 0.91 - ETA: 0s - loss: 0.1696 - accuracy: 0.91 - ETA: 0s - loss: 0.1696 - accuracy: 0.91 - ETA: 0s - loss: 0.1714 - accuracy: 0.91 - ETA: 0s - loss: 0.1704 - accuracy: 0.91 - ETA: 0s - loss: 0.1687 - accuracy: 0.91 - ETA: 0s - loss: 0.1696 - accuracy: 0.91 - ETA: 0s - loss: 0.1692 - accuracy: 0.91 - ETA: 0s - loss: 0.1690 - accuracy: 0.91 - ETA: 0s - loss: 0.1704 - accuracy: 0.91 - ETA: 0s - loss: 0.1698 - accuracy: 0.91 - ETA: 0s - loss: 0.1698 - accuracy: 0.91 - 2s 5ms/step - loss: 0.1696 - accuracy: 0.9128 - val_loss: 0.4658 - val_accuracy: 0.8505\n",
      "Epoch 54/800\n"
     ]
    },
    {
     "name": "stdout",
     "output_type": "stream",
     "text": [
      "412/412 [==============================] - ETA: 0s - loss: 0.0577 - accuracy: 0.96 - ETA: 1s - loss: 0.1875 - accuracy: 0.89 - ETA: 1s - loss: 0.1721 - accuracy: 0.90 - ETA: 1s - loss: 0.1797 - accuracy: 0.89 - ETA: 1s - loss: 0.1715 - accuracy: 0.90 - ETA: 1s - loss: 0.1696 - accuracy: 0.90 - ETA: 0s - loss: 0.1675 - accuracy: 0.91 - ETA: 0s - loss: 0.1659 - accuracy: 0.91 - ETA: 0s - loss: 0.1708 - accuracy: 0.91 - ETA: 0s - loss: 0.1689 - accuracy: 0.91 - ETA: 0s - loss: 0.1678 - accuracy: 0.91 - ETA: 0s - loss: 0.1696 - accuracy: 0.91 - ETA: 0s - loss: 0.1695 - accuracy: 0.91 - ETA: 0s - loss: 0.1693 - accuracy: 0.91 - ETA: 0s - loss: 0.1685 - accuracy: 0.91 - ETA: 0s - loss: 0.1667 - accuracy: 0.91 - ETA: 0s - loss: 0.1680 - accuracy: 0.91 - ETA: 0s - loss: 0.1702 - accuracy: 0.91 - ETA: 0s - loss: 0.1716 - accuracy: 0.91 - ETA: 0s - loss: 0.1713 - accuracy: 0.91 - ETA: 0s - loss: 0.1722 - accuracy: 0.91 - ETA: 0s - loss: 0.1720 - accuracy: 0.91 - ETA: 0s - loss: 0.1725 - accuracy: 0.91 - 1s 3ms/step - loss: 0.1722 - accuracy: 0.9118 - val_loss: 0.4646 - val_accuracy: 0.8515\n",
      "Epoch 55/800\n",
      "412/412 [==============================] - ETA: 0s - loss: 0.2339 - accuracy: 0.90 - ETA: 1s - loss: 0.1730 - accuracy: 0.91 - ETA: 1s - loss: 0.1547 - accuracy: 0.92 - ETA: 0s - loss: 0.1599 - accuracy: 0.91 - ETA: 0s - loss: 0.1636 - accuracy: 0.91 - ETA: 0s - loss: 0.1604 - accuracy: 0.91 - ETA: 0s - loss: 0.1561 - accuracy: 0.92 - ETA: 0s - loss: 0.1586 - accuracy: 0.92 - ETA: 0s - loss: 0.1651 - accuracy: 0.91 - ETA: 0s - loss: 0.1662 - accuracy: 0.91 - ETA: 0s - loss: 0.1680 - accuracy: 0.91 - ETA: 0s - loss: 0.1664 - accuracy: 0.91 - ETA: 0s - loss: 0.1649 - accuracy: 0.91 - ETA: 0s - loss: 0.1640 - accuracy: 0.91 - ETA: 0s - loss: 0.1656 - accuracy: 0.91 - ETA: 0s - loss: 0.1647 - accuracy: 0.91 - ETA: 0s - loss: 0.1644 - accuracy: 0.91 - ETA: 0s - loss: 0.1648 - accuracy: 0.91 - ETA: 0s - loss: 0.1668 - accuracy: 0.91 - ETA: 0s - loss: 0.1668 - accuracy: 0.91 - ETA: 0s - loss: 0.1659 - accuracy: 0.91 - ETA: 0s - loss: 0.1656 - accuracy: 0.91 - ETA: 0s - loss: 0.1660 - accuracy: 0.91 - ETA: 0s - loss: 0.1661 - accuracy: 0.91 - ETA: 0s - loss: 0.1659 - accuracy: 0.91 - ETA: 0s - loss: 0.1662 - accuracy: 0.91 - ETA: 0s - loss: 0.1669 - accuracy: 0.91 - ETA: 0s - loss: 0.1660 - accuracy: 0.91 - ETA: 0s - loss: 0.1659 - accuracy: 0.91 - ETA: 0s - loss: 0.1653 - accuracy: 0.91 - ETA: 0s - loss: 0.1652 - accuracy: 0.91 - ETA: 0s - loss: 0.1644 - accuracy: 0.91 - ETA: 0s - loss: 0.1647 - accuracy: 0.91 - ETA: 0s - loss: 0.1644 - accuracy: 0.91 - ETA: 0s - loss: 0.1646 - accuracy: 0.91 - ETA: 0s - loss: 0.1655 - accuracy: 0.91 - ETA: 0s - loss: 0.1661 - accuracy: 0.91 - 2s 5ms/step - loss: 0.1661 - accuracy: 0.9162 - val_loss: 0.4647 - val_accuracy: 0.8496\n",
      "Epoch 56/800\n",
      "412/412 [==============================] - ETA: 0s - loss: 0.1304 - accuracy: 0.96 - ETA: 1s - loss: 0.1562 - accuracy: 0.91 - ETA: 1s - loss: 0.1675 - accuracy: 0.91 - ETA: 1s - loss: 0.1643 - accuracy: 0.91 - ETA: 1s - loss: 0.1721 - accuracy: 0.90 - ETA: 1s - loss: 0.1814 - accuracy: 0.90 - ETA: 1s - loss: 0.1738 - accuracy: 0.90 - ETA: 1s - loss: 0.1666 - accuracy: 0.91 - ETA: 1s - loss: 0.1646 - accuracy: 0.91 - ETA: 1s - loss: 0.1615 - accuracy: 0.91 - ETA: 1s - loss: 0.1633 - accuracy: 0.91 - ETA: 1s - loss: 0.1652 - accuracy: 0.91 - ETA: 0s - loss: 0.1637 - accuracy: 0.91 - ETA: 0s - loss: 0.1673 - accuracy: 0.91 - ETA: 0s - loss: 0.1661 - accuracy: 0.91 - ETA: 0s - loss: 0.1652 - accuracy: 0.91 - ETA: 0s - loss: 0.1672 - accuracy: 0.91 - ETA: 0s - loss: 0.1674 - accuracy: 0.91 - ETA: 0s - loss: 0.1666 - accuracy: 0.91 - ETA: 0s - loss: 0.1654 - accuracy: 0.91 - ETA: 0s - loss: 0.1657 - accuracy: 0.91 - ETA: 0s - loss: 0.1658 - accuracy: 0.91 - ETA: 0s - loss: 0.1660 - accuracy: 0.91 - ETA: 0s - loss: 0.1664 - accuracy: 0.91 - ETA: 0s - loss: 0.1671 - accuracy: 0.91 - ETA: 0s - loss: 0.1670 - accuracy: 0.91 - 2s 4ms/step - loss: 0.1666 - accuracy: 0.9144 - val_loss: 0.5089 - val_accuracy: 0.8508\n",
      "Epoch 00056: early stopping\n"
     ]
    },
    {
     "data": {
      "text/plain": [
       "<tensorflow.python.keras.callbacks.History at 0x220a3beb988>"
      ]
     },
     "execution_count": 91,
     "metadata": {},
     "output_type": "execute_result"
    }
   ],
   "source": [
    "best_hps = tuner_1.get_best_hyperparameters()[0]\n",
    "tuned_model_1 = tuner_1.hypermodel.build(best_hps)\n",
    "tuned_model_1.fit(train, y_train_1_n, validation_split=0.3, epochs=800, callbacks=[es])"
   ]
  },
  {
   "cell_type": "code",
   "execution_count": 92,
   "metadata": {},
   "outputs": [
    {
     "data": {
      "text/html": [
       "<span style=\"color:#4527A0\"><h1 style=\"font-size:18px\">Trial complete</h1></span>"
      ],
      "text/plain": [
       "<IPython.core.display.HTML object>"
      ]
     },
     "metadata": {},
     "output_type": "display_data"
    },
    {
     "data": {
      "text/html": [
       "<span style=\"color:#4527A0\"><h1 style=\"font-size:18px\">Trial summary</h1></span>"
      ],
      "text/plain": [
       "<IPython.core.display.HTML object>"
      ]
     },
     "metadata": {},
     "output_type": "display_data"
    },
    {
     "data": {
      "text/html": [
       "<span style=\"color:cyan\"> |-Trial ID: 57c4e2fed7dd4311d7dcac34d7c6cedd</span>"
      ],
      "text/plain": [
       "<IPython.core.display.HTML object>"
      ]
     },
     "metadata": {},
     "output_type": "display_data"
    },
    {
     "data": {
      "text/html": [
       "<span style=\"color:cyan\"> |-Score: 0.3804636299610138</span>"
      ],
      "text/plain": [
       "<IPython.core.display.HTML object>"
      ]
     },
     "metadata": {},
     "output_type": "display_data"
    },
    {
     "data": {
      "text/html": [
       "<span style=\"color:cyan\"> |-Best step: 0</span>"
      ],
      "text/plain": [
       "<IPython.core.display.HTML object>"
      ]
     },
     "metadata": {},
     "output_type": "display_data"
    },
    {
     "data": {
      "text/html": [
       "<span style=\"color:#7E57C2\"><h2 style=\"font-size:16px\">Hyperparameters:</h2></span>"
      ],
      "text/plain": [
       "<IPython.core.display.HTML object>"
      ]
     },
     "metadata": {},
     "output_type": "display_data"
    },
    {
     "data": {
      "text/html": [
       "<span style=\"color:cyan\"> |-lr: 0.1</span>"
      ],
      "text/plain": [
       "<IPython.core.display.HTML object>"
      ]
     },
     "metadata": {},
     "output_type": "display_data"
    },
    {
     "data": {
      "text/html": [
       "<span style=\"color:blue\"> |-no_layers: 3</span>"
      ],
      "text/plain": [
       "<IPython.core.display.HTML object>"
      ]
     },
     "metadata": {},
     "output_type": "display_data"
    },
    {
     "data": {
      "text/html": [
       "<span style=\"color:cyan\"> |-tuner/bracket: 0</span>"
      ],
      "text/plain": [
       "<IPython.core.display.HTML object>"
      ]
     },
     "metadata": {},
     "output_type": "display_data"
    },
    {
     "data": {
      "text/html": [
       "<span style=\"color:blue\"> |-tuner/epochs: 6</span>"
      ],
      "text/plain": [
       "<IPython.core.display.HTML object>"
      ]
     },
     "metadata": {},
     "output_type": "display_data"
    },
    {
     "data": {
      "text/html": [
       "<span style=\"color:cyan\"> |-tuner/initial_epoch: 0</span>"
      ],
      "text/plain": [
       "<IPython.core.display.HTML object>"
      ]
     },
     "metadata": {},
     "output_type": "display_data"
    },
    {
     "data": {
      "text/html": [
       "<span style=\"color:blue\"> |-tuner/round: 0</span>"
      ],
      "text/plain": [
       "<IPython.core.display.HTML object>"
      ]
     },
     "metadata": {},
     "output_type": "display_data"
    },
    {
     "data": {
      "text/html": [
       "<span style=\"color:cyan\"> |-units_0: 112</span>"
      ],
      "text/plain": [
       "<IPython.core.display.HTML object>"
      ]
     },
     "metadata": {},
     "output_type": "display_data"
    },
    {
     "data": {
      "text/html": [
       "<span style=\"color:blue\"> |-units_1: 16</span>"
      ],
      "text/plain": [
       "<IPython.core.display.HTML object>"
      ]
     },
     "metadata": {},
     "output_type": "display_data"
    },
    {
     "data": {
      "text/html": [
       "<span style=\"color:cyan\"> |-units_1st_layer: 64</span>"
      ],
      "text/plain": [
       "<IPython.core.display.HTML object>"
      ]
     },
     "metadata": {},
     "output_type": "display_data"
    },
    {
     "data": {
      "text/html": [
       "<span style=\"color:blue\"> |-units_2: 16</span>"
      ],
      "text/plain": [
       "<IPython.core.display.HTML object>"
      ]
     },
     "metadata": {},
     "output_type": "display_data"
    },
    {
     "data": {
      "text/html": [
       "<span style=\"color:cyan\"> |-units_3: 96</span>"
      ],
      "text/plain": [
       "<IPython.core.display.HTML object>"
      ]
     },
     "metadata": {},
     "output_type": "display_data"
    },
    {
     "data": {
      "text/html": [
       "<span style=\"color:blue\"> |-units_4: 80</span>"
      ],
      "text/plain": [
       "<IPython.core.display.HTML object>"
      ]
     },
     "metadata": {},
     "output_type": "display_data"
    },
    {
     "data": {
      "text/html": [
       "<span style=\"color:cyan\"> |-units_5: 16</span>"
      ],
      "text/plain": [
       "<IPython.core.display.HTML object>"
      ]
     },
     "metadata": {},
     "output_type": "display_data"
    },
    {
     "name": "stdout",
     "output_type": "stream",
     "text": [
      "INFO:tensorflow:Oracle triggered exit\n"
     ]
    }
   ],
   "source": [
    "def model_builder_2(hp):\n",
    "    model=Sequential()\n",
    "    model.add(Dense(units=hp.Int('units_1st_layer', 16, 128, 16), activation='relu', input_dim=train.shape[1]))\n",
    "    for i in range(hp.Int('no_layers',1,6,1)):\n",
    "        model.add(Dense(units=hp.Int('units_'+str(i), 16, 128, 16), activation='relu'))\n",
    "    model.add(Dense(units=4, activation='sigmoid'))\n",
    "    model.compile(optimizer=tf.keras.optimizers.Adam(learning_rate=hp.Choice('lr', values=[0.1, 0.01, 0.001])),\n",
    "                 loss='categorical_crossentropy', metrics='accuracy')\n",
    "    return model\n",
    "tuner_2 = kt.Hyperband(model_builder_2, objective='val_accuracy', max_epochs=6, directory='neural_', project_name='mine222')\n",
    "es = EarlyStopping(monitor='val_loss', mode='min', patience=50, verbose=1)\n",
    "class ClearOutput(keras.callbacks.Callback):\n",
    "    def on_train_end(*args, **kwargs):\n",
    "        IPython.display.clear_output(wait=True)\n",
    "tuner_2.search(train, y_train_2_n, validation_split=0.3, epochs=3, callbacks=[ClearOutput()])"
   ]
  },
  {
   "cell_type": "code",
   "execution_count": 95,
   "metadata": {},
   "outputs": [
    {
     "name": "stdout",
     "output_type": "stream",
     "text": [
      "Epoch 1/20\n",
      "412/412 [==============================] - ETA: 0s - loss: 1.4003 - accuracy: 0.28 - ETA: 1s - loss: 0.9278 - accuracy: 0.49 - ETA: 1s - loss: 0.8769 - accuracy: 0.53 - ETA: 1s - loss: 0.8030 - accuracy: 0.55 - ETA: 1s - loss: 0.7479 - accuracy: 0.61 - ETA: 1s - loss: 0.6691 - accuracy: 0.66 - ETA: 0s - loss: 0.6048 - accuracy: 0.70 - ETA: 0s - loss: 0.5685 - accuracy: 0.73 - ETA: 0s - loss: 0.5357 - accuracy: 0.74 - ETA: 0s - loss: 0.5069 - accuracy: 0.76 - ETA: 0s - loss: 0.4849 - accuracy: 0.77 - ETA: 0s - loss: 0.4639 - accuracy: 0.78 - ETA: 0s - loss: 0.4487 - accuracy: 0.79 - ETA: 0s - loss: 0.4392 - accuracy: 0.79 - ETA: 0s - loss: 0.4356 - accuracy: 0.80 - ETA: 0s - loss: 0.4287 - accuracy: 0.80 - ETA: 0s - loss: 0.4221 - accuracy: 0.80 - ETA: 0s - loss: 0.4116 - accuracy: 0.81 - ETA: 0s - loss: 0.4037 - accuracy: 0.81 - ETA: 0s - loss: 0.3983 - accuracy: 0.82 - ETA: 0s - loss: 0.3951 - accuracy: 0.82 - ETA: 0s - loss: 0.3928 - accuracy: 0.82 - ETA: 0s - loss: 0.3895 - accuracy: 0.83 - 2s 4ms/step - loss: 0.3878 - accuracy: 0.8316 - val_loss: 0.3045 - val_accuracy: 0.8809\n",
      "Epoch 2/20\n",
      "412/412 [==============================] - ETA: 0s - loss: 0.2193 - accuracy: 0.90 - ETA: 1s - loss: 0.2638 - accuracy: 0.88 - ETA: 1s - loss: 0.2797 - accuracy: 0.87 - ETA: 1s - loss: 0.2978 - accuracy: 0.87 - ETA: 1s - loss: 0.2956 - accuracy: 0.87 - ETA: 1s - loss: 0.2973 - accuracy: 0.87 - ETA: 1s - loss: 0.2986 - accuracy: 0.87 - ETA: 1s - loss: 0.2950 - accuracy: 0.87 - ETA: 1s - loss: 0.3101 - accuracy: 0.86 - ETA: 1s - loss: 0.3109 - accuracy: 0.86 - ETA: 1s - loss: 0.3036 - accuracy: 0.87 - ETA: 1s - loss: 0.2990 - accuracy: 0.87 - ETA: 0s - loss: 0.3009 - accuracy: 0.87 - ETA: 0s - loss: 0.3013 - accuracy: 0.87 - ETA: 0s - loss: 0.2989 - accuracy: 0.87 - ETA: 0s - loss: 0.2989 - accuracy: 0.87 - ETA: 0s - loss: 0.2992 - accuracy: 0.87 - ETA: 0s - loss: 0.2983 - accuracy: 0.87 - ETA: 0s - loss: 0.3004 - accuracy: 0.87 - ETA: 0s - loss: 0.2989 - accuracy: 0.87 - ETA: 0s - loss: 0.3015 - accuracy: 0.87 - ETA: 0s - loss: 0.2992 - accuracy: 0.87 - ETA: 0s - loss: 0.3016 - accuracy: 0.87 - ETA: 0s - loss: 0.2995 - accuracy: 0.87 - ETA: 0s - loss: 0.2982 - accuracy: 0.88 - ETA: 0s - loss: 0.2967 - accuracy: 0.88 - ETA: 0s - loss: 0.2968 - accuracy: 0.88 - ETA: 0s - loss: 0.2967 - accuracy: 0.88 - ETA: 0s - loss: 0.2958 - accuracy: 0.88 - ETA: 0s - loss: 0.2955 - accuracy: 0.88 - ETA: 0s - loss: 0.2975 - accuracy: 0.88 - 2s 4ms/step - loss: 0.2976 - accuracy: 0.8808 - val_loss: 0.2925 - val_accuracy: 0.8804\n",
      "Epoch 3/20\n",
      "412/412 [==============================] - ETA: 0s - loss: 0.2388 - accuracy: 0.93 - ETA: 1s - loss: 0.2463 - accuracy: 0.90 - ETA: 1s - loss: 0.2485 - accuracy: 0.90 - ETA: 1s - loss: 0.2629 - accuracy: 0.89 - ETA: 1s - loss: 0.2640 - accuracy: 0.89 - ETA: 1s - loss: 0.2695 - accuracy: 0.89 - ETA: 1s - loss: 0.2611 - accuracy: 0.89 - ETA: 1s - loss: 0.2662 - accuracy: 0.89 - ETA: 0s - loss: 0.2705 - accuracy: 0.89 - ETA: 0s - loss: 0.2755 - accuracy: 0.89 - ETA: 0s - loss: 0.2811 - accuracy: 0.88 - ETA: 0s - loss: 0.2805 - accuracy: 0.88 - ETA: 0s - loss: 0.2792 - accuracy: 0.88 - ETA: 0s - loss: 0.2858 - accuracy: 0.88 - ETA: 0s - loss: 0.2867 - accuracy: 0.88 - ETA: 0s - loss: 0.2877 - accuracy: 0.88 - ETA: 0s - loss: 0.2879 - accuracy: 0.88 - ETA: 0s - loss: 0.2876 - accuracy: 0.88 - ETA: 0s - loss: 0.2857 - accuracy: 0.88 - ETA: 0s - loss: 0.2868 - accuracy: 0.88 - ETA: 0s - loss: 0.2870 - accuracy: 0.88 - ETA: 0s - loss: 0.2862 - accuracy: 0.88 - ETA: 0s - loss: 0.2875 - accuracy: 0.88 - ETA: 0s - loss: 0.2877 - accuracy: 0.88 - ETA: 0s - loss: 0.2889 - accuracy: 0.88 - ETA: 0s - loss: 0.2881 - accuracy: 0.88 - 2s 4ms/step - loss: 0.2874 - accuracy: 0.8856 - val_loss: 0.3033 - val_accuracy: 0.8843\n",
      "Epoch 4/20\n",
      "412/412 [==============================] - ETA: 0s - loss: 0.1814 - accuracy: 0.93 - ETA: 1s - loss: 0.3055 - accuracy: 0.89 - ETA: 1s - loss: 0.2951 - accuracy: 0.89 - ETA: 1s - loss: 0.2789 - accuracy: 0.89 - ETA: 1s - loss: 0.2947 - accuracy: 0.88 - ETA: 1s - loss: 0.2891 - accuracy: 0.88 - ETA: 0s - loss: 0.2855 - accuracy: 0.88 - ETA: 0s - loss: 0.2883 - accuracy: 0.88 - ETA: 0s - loss: 0.2874 - accuracy: 0.88 - ETA: 0s - loss: 0.2836 - accuracy: 0.88 - ETA: 0s - loss: 0.2827 - accuracy: 0.88 - ETA: 0s - loss: 0.2873 - accuracy: 0.88 - ETA: 0s - loss: 0.2858 - accuracy: 0.88 - ETA: 0s - loss: 0.2828 - accuracy: 0.88 - ETA: 0s - loss: 0.2821 - accuracy: 0.88 - ETA: 0s - loss: 0.2840 - accuracy: 0.88 - ETA: 0s - loss: 0.2822 - accuracy: 0.88 - ETA: 0s - loss: 0.2830 - accuracy: 0.88 - ETA: 0s - loss: 0.2813 - accuracy: 0.88 - ETA: 0s - loss: 0.2833 - accuracy: 0.88 - ETA: 0s - loss: 0.2834 - accuracy: 0.88 - ETA: 0s - loss: 0.2846 - accuracy: 0.88 - ETA: 0s - loss: 0.2831 - accuracy: 0.88 - 1s 4ms/step - loss: 0.2829 - accuracy: 0.8892 - val_loss: 0.2845 - val_accuracy: 0.8855\n",
      "Epoch 5/20\n",
      "412/412 [==============================] - ETA: 0s - loss: 0.2337 - accuracy: 0.90 - ETA: 1s - loss: 0.2545 - accuracy: 0.89 - ETA: 1s - loss: 0.2673 - accuracy: 0.89 - ETA: 1s - loss: 0.2694 - accuracy: 0.89 - ETA: 1s - loss: 0.2729 - accuracy: 0.89 - ETA: 1s - loss: 0.2675 - accuracy: 0.89 - ETA: 1s - loss: 0.2709 - accuracy: 0.89 - ETA: 1s - loss: 0.2752 - accuracy: 0.88 - ETA: 1s - loss: 0.2770 - accuracy: 0.88 - ETA: 1s - loss: 0.2771 - accuracy: 0.88 - ETA: 1s - loss: 0.2799 - accuracy: 0.88 - ETA: 1s - loss: 0.2799 - accuracy: 0.88 - ETA: 1s - loss: 0.2796 - accuracy: 0.88 - ETA: 0s - loss: 0.2793 - accuracy: 0.88 - ETA: 0s - loss: 0.2768 - accuracy: 0.88 - ETA: 0s - loss: 0.2810 - accuracy: 0.88 - ETA: 0s - loss: 0.2792 - accuracy: 0.88 - ETA: 0s - loss: 0.2792 - accuracy: 0.88 - ETA: 0s - loss: 0.2777 - accuracy: 0.88 - ETA: 0s - loss: 0.2778 - accuracy: 0.88 - ETA: 0s - loss: 0.2794 - accuracy: 0.88 - ETA: 0s - loss: 0.2777 - accuracy: 0.88 - ETA: 0s - loss: 0.2785 - accuracy: 0.88 - ETA: 0s - loss: 0.2789 - accuracy: 0.88 - ETA: 0s - loss: 0.2777 - accuracy: 0.88 - ETA: 0s - loss: 0.2773 - accuracy: 0.88 - ETA: 0s - loss: 0.2770 - accuracy: 0.88 - ETA: 0s - loss: 0.2761 - accuracy: 0.89 - ETA: 0s - loss: 0.2764 - accuracy: 0.88 - ETA: 0s - loss: 0.2739 - accuracy: 0.89 - ETA: 0s - loss: 0.2742 - accuracy: 0.88 - ETA: 0s - loss: 0.2733 - accuracy: 0.88 - 2s 5ms/step - loss: 0.2729 - accuracy: 0.8898 - val_loss: 0.2856 - val_accuracy: 0.8852\n",
      "Epoch 6/20\n",
      "412/412 [==============================] - ETA: 0s - loss: 0.2180 - accuracy: 0.87 - ETA: 1s - loss: 0.2362 - accuracy: 0.90 - ETA: 1s - loss: 0.2246 - accuracy: 0.90 - ETA: 1s - loss: 0.2362 - accuracy: 0.90 - ETA: 1s - loss: 0.2356 - accuracy: 0.90 - ETA: 1s - loss: 0.2314 - accuracy: 0.90 - ETA: 1s - loss: 0.2397 - accuracy: 0.90 - ETA: 1s - loss: 0.2489 - accuracy: 0.89 - ETA: 1s - loss: 0.2514 - accuracy: 0.89 - ETA: 1s - loss: 0.2527 - accuracy: 0.89 - ETA: 0s - loss: 0.2556 - accuracy: 0.89 - ETA: 0s - loss: 0.2562 - accuracy: 0.89 - ETA: 0s - loss: 0.2586 - accuracy: 0.89 - ETA: 0s - loss: 0.2601 - accuracy: 0.89 - ETA: 0s - loss: 0.2620 - accuracy: 0.89 - ETA: 0s - loss: 0.2624 - accuracy: 0.89 - ETA: 0s - loss: 0.2613 - accuracy: 0.89 - ETA: 0s - loss: 0.2625 - accuracy: 0.89 - ETA: 0s - loss: 0.2633 - accuracy: 0.89 - ETA: 0s - loss: 0.2680 - accuracy: 0.89 - ETA: 0s - loss: 0.2686 - accuracy: 0.89 - ETA: 0s - loss: 0.2698 - accuracy: 0.88 - ETA: 0s - loss: 0.2709 - accuracy: 0.88 - ETA: 0s - loss: 0.2740 - accuracy: 0.88 - ETA: 0s - loss: 0.2717 - accuracy: 0.88 - ETA: 0s - loss: 0.2703 - accuracy: 0.89 - ETA: 0s - loss: 0.2706 - accuracy: 0.89 - ETA: 0s - loss: 0.2717 - accuracy: 0.89 - ETA: 0s - loss: 0.2722 - accuracy: 0.89 - 2s 4ms/step - loss: 0.2726 - accuracy: 0.8898 - val_loss: 0.2861 - val_accuracy: 0.8864\n",
      "Epoch 7/20\n"
     ]
    },
    {
     "name": "stdout",
     "output_type": "stream",
     "text": [
      "412/412 [==============================] - ETA: 0s - loss: 0.2769 - accuracy: 0.87 - ETA: 1s - loss: 0.3024 - accuracy: 0.87 - ETA: 1s - loss: 0.2737 - accuracy: 0.90 - ETA: 1s - loss: 0.2731 - accuracy: 0.89 - ETA: 1s - loss: 0.2754 - accuracy: 0.89 - ETA: 1s - loss: 0.2791 - accuracy: 0.89 - ETA: 0s - loss: 0.2693 - accuracy: 0.89 - ETA: 0s - loss: 0.2718 - accuracy: 0.89 - ETA: 0s - loss: 0.2704 - accuracy: 0.89 - ETA: 0s - loss: 0.2718 - accuracy: 0.89 - ETA: 0s - loss: 0.2682 - accuracy: 0.89 - ETA: 0s - loss: 0.2676 - accuracy: 0.89 - ETA: 0s - loss: 0.2683 - accuracy: 0.89 - ETA: 0s - loss: 0.2700 - accuracy: 0.89 - ETA: 0s - loss: 0.2686 - accuracy: 0.89 - ETA: 0s - loss: 0.2715 - accuracy: 0.89 - ETA: 0s - loss: 0.2703 - accuracy: 0.89 - ETA: 0s - loss: 0.2674 - accuracy: 0.89 - ETA: 0s - loss: 0.2653 - accuracy: 0.89 - ETA: 0s - loss: 0.2672 - accuracy: 0.89 - ETA: 0s - loss: 0.2676 - accuracy: 0.89 - ETA: 0s - loss: 0.2684 - accuracy: 0.89 - ETA: 0s - loss: 0.2674 - accuracy: 0.89 - ETA: 0s - loss: 0.2676 - accuracy: 0.89 - ETA: 0s - loss: 0.2662 - accuracy: 0.89 - ETA: 0s - loss: 0.2662 - accuracy: 0.89 - 2s 4ms/step - loss: 0.2656 - accuracy: 0.8934 - val_loss: 0.2847 - val_accuracy: 0.8859\n",
      "Epoch 8/20\n",
      "412/412 [==============================] - ETA: 0s - loss: 0.2807 - accuracy: 0.90 - ETA: 1s - loss: 0.2885 - accuracy: 0.87 - ETA: 1s - loss: 0.2834 - accuracy: 0.89 - ETA: 0s - loss: 0.2701 - accuracy: 0.89 - ETA: 0s - loss: 0.2739 - accuracy: 0.89 - ETA: 0s - loss: 0.2741 - accuracy: 0.89 - ETA: 0s - loss: 0.2801 - accuracy: 0.88 - ETA: 0s - loss: 0.2783 - accuracy: 0.88 - ETA: 0s - loss: 0.2750 - accuracy: 0.88 - ETA: 0s - loss: 0.2751 - accuracy: 0.88 - ETA: 0s - loss: 0.2774 - accuracy: 0.88 - ETA: 0s - loss: 0.2762 - accuracy: 0.88 - ETA: 0s - loss: 0.2747 - accuracy: 0.88 - ETA: 0s - loss: 0.2731 - accuracy: 0.88 - ETA: 0s - loss: 0.2732 - accuracy: 0.89 - ETA: 0s - loss: 0.2709 - accuracy: 0.89 - ETA: 0s - loss: 0.2692 - accuracy: 0.89 - ETA: 0s - loss: 0.2695 - accuracy: 0.89 - ETA: 0s - loss: 0.2659 - accuracy: 0.89 - ETA: 0s - loss: 0.2653 - accuracy: 0.89 - ETA: 0s - loss: 0.2648 - accuracy: 0.89 - ETA: 0s - loss: 0.2631 - accuracy: 0.89 - ETA: 0s - loss: 0.2623 - accuracy: 0.89 - ETA: 0s - loss: 0.2622 - accuracy: 0.89 - ETA: 0s - loss: 0.2623 - accuracy: 0.89 - ETA: 0s - loss: 0.2621 - accuracy: 0.89 - ETA: 0s - loss: 0.2634 - accuracy: 0.89 - 2s 4ms/step - loss: 0.2635 - accuracy: 0.8946 - val_loss: 0.2947 - val_accuracy: 0.8839\n",
      "Epoch 9/20\n",
      "412/412 [==============================] - ETA: 0s - loss: 0.4526 - accuracy: 0.81 - ETA: 1s - loss: 0.2809 - accuracy: 0.87 - ETA: 1s - loss: 0.2684 - accuracy: 0.89 - ETA: 1s - loss: 0.2589 - accuracy: 0.89 - ETA: 1s - loss: 0.2576 - accuracy: 0.89 - ETA: 1s - loss: 0.2582 - accuracy: 0.89 - ETA: 1s - loss: 0.2628 - accuracy: 0.89 - ETA: 1s - loss: 0.2588 - accuracy: 0.89 - ETA: 1s - loss: 0.2548 - accuracy: 0.89 - ETA: 1s - loss: 0.2602 - accuracy: 0.89 - ETA: 1s - loss: 0.2589 - accuracy: 0.89 - ETA: 1s - loss: 0.2581 - accuracy: 0.89 - ETA: 1s - loss: 0.2586 - accuracy: 0.89 - ETA: 1s - loss: 0.2580 - accuracy: 0.89 - ETA: 0s - loss: 0.2589 - accuracy: 0.89 - ETA: 0s - loss: 0.2575 - accuracy: 0.89 - ETA: 0s - loss: 0.2586 - accuracy: 0.89 - ETA: 0s - loss: 0.2554 - accuracy: 0.89 - ETA: 0s - loss: 0.2575 - accuracy: 0.89 - ETA: 0s - loss: 0.2560 - accuracy: 0.89 - ETA: 0s - loss: 0.2573 - accuracy: 0.89 - ETA: 0s - loss: 0.2595 - accuracy: 0.89 - ETA: 0s - loss: 0.2588 - accuracy: 0.89 - ETA: 0s - loss: 0.2595 - accuracy: 0.89 - ETA: 0s - loss: 0.2609 - accuracy: 0.89 - ETA: 0s - loss: 0.2614 - accuracy: 0.89 - ETA: 0s - loss: 0.2605 - accuracy: 0.89 - ETA: 0s - loss: 0.2609 - accuracy: 0.89 - ETA: 0s - loss: 0.2598 - accuracy: 0.89 - ETA: 0s - loss: 0.2577 - accuracy: 0.89 - ETA: 0s - loss: 0.2580 - accuracy: 0.89 - ETA: 0s - loss: 0.2579 - accuracy: 0.89 - ETA: 0s - loss: 0.2592 - accuracy: 0.89 - 2s 5ms/step - loss: 0.2592 - accuracy: 0.8933 - val_loss: 0.2927 - val_accuracy: 0.8866\n",
      "Epoch 10/20\n",
      "412/412 [==============================] - ETA: 0s - loss: 0.2329 - accuracy: 0.90 - ETA: 1s - loss: 0.2646 - accuracy: 0.88 - ETA: 1s - loss: 0.2517 - accuracy: 0.89 - ETA: 1s - loss: 0.2477 - accuracy: 0.89 - ETA: 0s - loss: 0.2529 - accuracy: 0.88 - ETA: 0s - loss: 0.2512 - accuracy: 0.88 - ETA: 0s - loss: 0.2496 - accuracy: 0.88 - ETA: 0s - loss: 0.2483 - accuracy: 0.89 - ETA: 0s - loss: 0.2559 - accuracy: 0.88 - ETA: 0s - loss: 0.2585 - accuracy: 0.88 - ETA: 0s - loss: 0.2590 - accuracy: 0.88 - ETA: 0s - loss: 0.2570 - accuracy: 0.88 - ETA: 0s - loss: 0.2537 - accuracy: 0.89 - ETA: 0s - loss: 0.2533 - accuracy: 0.89 - ETA: 0s - loss: 0.2519 - accuracy: 0.89 - ETA: 0s - loss: 0.2539 - accuracy: 0.89 - ETA: 0s - loss: 0.2539 - accuracy: 0.89 - ETA: 0s - loss: 0.2541 - accuracy: 0.89 - ETA: 0s - loss: 0.2565 - accuracy: 0.89 - ETA: 0s - loss: 0.2563 - accuracy: 0.89 - ETA: 0s - loss: 0.2567 - accuracy: 0.89 - ETA: 0s - loss: 0.2555 - accuracy: 0.89 - ETA: 0s - loss: 0.2567 - accuracy: 0.89 - ETA: 0s - loss: 0.2571 - accuracy: 0.89 - ETA: 0s - loss: 0.2573 - accuracy: 0.89 - ETA: 0s - loss: 0.2573 - accuracy: 0.89 - ETA: 0s - loss: 0.2579 - accuracy: 0.89 - ETA: 0s - loss: 0.2580 - accuracy: 0.89 - 2s 4ms/step - loss: 0.2583 - accuracy: 0.8925 - val_loss: 0.2921 - val_accuracy: 0.8896\n",
      "Epoch 11/20\n",
      "412/412 [==============================] - ETA: 0s - loss: 0.0880 - accuracy: 0.96 - ETA: 1s - loss: 0.2487 - accuracy: 0.89 - ETA: 1s - loss: 0.2567 - accuracy: 0.89 - ETA: 0s - loss: 0.2574 - accuracy: 0.89 - ETA: 0s - loss: 0.2551 - accuracy: 0.89 - ETA: 0s - loss: 0.2580 - accuracy: 0.89 - ETA: 0s - loss: 0.2618 - accuracy: 0.89 - ETA: 0s - loss: 0.2655 - accuracy: 0.89 - ETA: 0s - loss: 0.2662 - accuracy: 0.89 - ETA: 0s - loss: 0.2631 - accuracy: 0.89 - ETA: 0s - loss: 0.2630 - accuracy: 0.89 - ETA: 0s - loss: 0.2634 - accuracy: 0.89 - ETA: 0s - loss: 0.2637 - accuracy: 0.89 - ETA: 0s - loss: 0.2626 - accuracy: 0.89 - ETA: 0s - loss: 0.2626 - accuracy: 0.89 - ETA: 0s - loss: 0.2642 - accuracy: 0.89 - ETA: 0s - loss: 0.2632 - accuracy: 0.89 - ETA: 0s - loss: 0.2605 - accuracy: 0.89 - ETA: 0s - loss: 0.2599 - accuracy: 0.89 - ETA: 0s - loss: 0.2600 - accuracy: 0.89 - ETA: 0s - loss: 0.2607 - accuracy: 0.89 - ETA: 0s - loss: 0.2603 - accuracy: 0.89 - ETA: 0s - loss: 0.2596 - accuracy: 0.89 - ETA: 0s - loss: 0.2580 - accuracy: 0.89 - 2s 4ms/step - loss: 0.2573 - accuracy: 0.8948 - val_loss: 0.2935 - val_accuracy: 0.8832\n",
      "Epoch 12/20\n",
      "412/412 [==============================] - ETA: 0s - loss: 0.3290 - accuracy: 0.87 - ETA: 1s - loss: 0.2279 - accuracy: 0.90 - ETA: 0s - loss: 0.2338 - accuracy: 0.89 - ETA: 0s - loss: 0.2429 - accuracy: 0.89 - ETA: 0s - loss: 0.2400 - accuracy: 0.89 - ETA: 0s - loss: 0.2391 - accuracy: 0.90 - ETA: 0s - loss: 0.2393 - accuracy: 0.90 - ETA: 0s - loss: 0.2430 - accuracy: 0.89 - ETA: 0s - loss: 0.2428 - accuracy: 0.89 - ETA: 0s - loss: 0.2461 - accuracy: 0.90 - ETA: 0s - loss: 0.2463 - accuracy: 0.90 - ETA: 0s - loss: 0.2471 - accuracy: 0.89 - ETA: 0s - loss: 0.2504 - accuracy: 0.89 - ETA: 0s - loss: 0.2490 - accuracy: 0.89 - ETA: 0s - loss: 0.2526 - accuracy: 0.89 - ETA: 0s - loss: 0.2514 - accuracy: 0.89 - ETA: 0s - loss: 0.2522 - accuracy: 0.89 - ETA: 0s - loss: 0.2529 - accuracy: 0.89 - ETA: 0s - loss: 0.2527 - accuracy: 0.89 - ETA: 0s - loss: 0.2530 - accuracy: 0.89 - ETA: 0s - loss: 0.2533 - accuracy: 0.89 - 1s 3ms/step - loss: 0.2526 - accuracy: 0.8966 - val_loss: 0.3154 - val_accuracy: 0.8829\n",
      "Epoch 13/20\n"
     ]
    },
    {
     "name": "stdout",
     "output_type": "stream",
     "text": [
      "412/412 [==============================] - ETA: 0s - loss: 0.2835 - accuracy: 0.87 - ETA: 0s - loss: 0.2328 - accuracy: 0.91 - ETA: 0s - loss: 0.2573 - accuracy: 0.90 - ETA: 0s - loss: 0.2728 - accuracy: 0.89 - ETA: 0s - loss: 0.2694 - accuracy: 0.89 - ETA: 0s - loss: 0.2618 - accuracy: 0.90 - ETA: 0s - loss: 0.2597 - accuracy: 0.89 - ETA: 0s - loss: 0.2607 - accuracy: 0.89 - ETA: 0s - loss: 0.2619 - accuracy: 0.89 - ETA: 0s - loss: 0.2655 - accuracy: 0.89 - ETA: 0s - loss: 0.2641 - accuracy: 0.89 - ETA: 0s - loss: 0.2622 - accuracy: 0.89 - ETA: 0s - loss: 0.2629 - accuracy: 0.89 - ETA: 0s - loss: 0.2603 - accuracy: 0.89 - ETA: 0s - loss: 0.2571 - accuracy: 0.89 - ETA: 0s - loss: 0.2577 - accuracy: 0.89 - ETA: 0s - loss: 0.2580 - accuracy: 0.89 - ETA: 0s - loss: 0.2564 - accuracy: 0.89 - ETA: 0s - loss: 0.2548 - accuracy: 0.89 - ETA: 0s - loss: 0.2539 - accuracy: 0.89 - ETA: 0s - loss: 0.2544 - accuracy: 0.89 - 1s 3ms/step - loss: 0.2545 - accuracy: 0.8971 - val_loss: 0.3009 - val_accuracy: 0.8871\n",
      "Epoch 14/20\n",
      "412/412 [==============================] - ETA: 0s - loss: 0.1840 - accuracy: 0.90 - ETA: 0s - loss: 0.2061 - accuracy: 0.90 - ETA: 1s - loss: 0.2267 - accuracy: 0.89 - ETA: 0s - loss: 0.2374 - accuracy: 0.89 - ETA: 0s - loss: 0.2427 - accuracy: 0.89 - ETA: 0s - loss: 0.2388 - accuracy: 0.89 - ETA: 1s - loss: 0.2342 - accuracy: 0.89 - ETA: 1s - loss: 0.2415 - accuracy: 0.89 - ETA: 1s - loss: 0.2384 - accuracy: 0.89 - ETA: 1s - loss: 0.2406 - accuracy: 0.89 - ETA: 1s - loss: 0.2398 - accuracy: 0.89 - ETA: 1s - loss: 0.2414 - accuracy: 0.89 - ETA: 1s - loss: 0.2380 - accuracy: 0.90 - ETA: 1s - loss: 0.2385 - accuracy: 0.90 - ETA: 1s - loss: 0.2397 - accuracy: 0.90 - ETA: 1s - loss: 0.2403 - accuracy: 0.90 - ETA: 1s - loss: 0.2427 - accuracy: 0.89 - ETA: 1s - loss: 0.2446 - accuracy: 0.89 - ETA: 0s - loss: 0.2472 - accuracy: 0.89 - ETA: 0s - loss: 0.2471 - accuracy: 0.89 - ETA: 0s - loss: 0.2471 - accuracy: 0.89 - ETA: 0s - loss: 0.2476 - accuracy: 0.89 - ETA: 0s - loss: 0.2504 - accuracy: 0.89 - ETA: 0s - loss: 0.2504 - accuracy: 0.89 - ETA: 0s - loss: 0.2505 - accuracy: 0.89 - ETA: 0s - loss: 0.2513 - accuracy: 0.89 - ETA: 0s - loss: 0.2514 - accuracy: 0.89 - ETA: 0s - loss: 0.2535 - accuracy: 0.89 - ETA: 0s - loss: 0.2510 - accuracy: 0.89 - ETA: 0s - loss: 0.2493 - accuracy: 0.89 - ETA: 0s - loss: 0.2488 - accuracy: 0.89 - ETA: 0s - loss: 0.2476 - accuracy: 0.89 - 2s 5ms/step - loss: 0.2491 - accuracy: 0.8965 - val_loss: 0.2945 - val_accuracy: 0.8832\n",
      "Epoch 15/20\n",
      "412/412 [==============================] - ETA: 0s - loss: 0.2640 - accuracy: 0.87 - ETA: 1s - loss: 0.2344 - accuracy: 0.90 - ETA: 1s - loss: 0.2325 - accuracy: 0.90 - ETA: 1s - loss: 0.2314 - accuracy: 0.90 - ETA: 1s - loss: 0.2468 - accuracy: 0.90 - ETA: 1s - loss: 0.2434 - accuracy: 0.90 - ETA: 1s - loss: 0.2416 - accuracy: 0.90 - ETA: 1s - loss: 0.2421 - accuracy: 0.90 - ETA: 1s - loss: 0.2439 - accuracy: 0.89 - ETA: 1s - loss: 0.2447 - accuracy: 0.89 - ETA: 1s - loss: 0.2505 - accuracy: 0.89 - ETA: 1s - loss: 0.2487 - accuracy: 0.89 - ETA: 1s - loss: 0.2539 - accuracy: 0.89 - ETA: 1s - loss: 0.2517 - accuracy: 0.89 - ETA: 0s - loss: 0.2502 - accuracy: 0.89 - ETA: 0s - loss: 0.2501 - accuracy: 0.89 - ETA: 0s - loss: 0.2487 - accuracy: 0.89 - ETA: 0s - loss: 0.2461 - accuracy: 0.89 - ETA: 0s - loss: 0.2478 - accuracy: 0.89 - ETA: 0s - loss: 0.2494 - accuracy: 0.89 - ETA: 0s - loss: 0.2481 - accuracy: 0.89 - ETA: 0s - loss: 0.2457 - accuracy: 0.89 - ETA: 0s - loss: 0.2468 - accuracy: 0.89 - ETA: 0s - loss: 0.2454 - accuracy: 0.89 - ETA: 0s - loss: 0.2444 - accuracy: 0.90 - ETA: 0s - loss: 0.2434 - accuracy: 0.90 - ETA: 0s - loss: 0.2435 - accuracy: 0.90 - ETA: 0s - loss: 0.2440 - accuracy: 0.89 - ETA: 0s - loss: 0.2446 - accuracy: 0.90 - ETA: 0s - loss: 0.2464 - accuracy: 0.89 - ETA: 0s - loss: 0.2470 - accuracy: 0.89 - ETA: 0s - loss: 0.2468 - accuracy: 0.89 - 2s 5ms/step - loss: 0.2473 - accuracy: 0.8998 - val_loss: 0.3028 - val_accuracy: 0.8862\n",
      "Epoch 16/20\n",
      "412/412 [==============================] - ETA: 0s - loss: 0.1639 - accuracy: 0.96 - ETA: 1s - loss: 0.2239 - accuracy: 0.90 - ETA: 1s - loss: 0.2486 - accuracy: 0.89 - ETA: 1s - loss: 0.2495 - accuracy: 0.89 - ETA: 1s - loss: 0.2520 - accuracy: 0.89 - ETA: 1s - loss: 0.2378 - accuracy: 0.89 - ETA: 1s - loss: 0.2414 - accuracy: 0.89 - ETA: 1s - loss: 0.2463 - accuracy: 0.89 - ETA: 1s - loss: 0.2416 - accuracy: 0.89 - ETA: 1s - loss: 0.2439 - accuracy: 0.89 - ETA: 1s - loss: 0.2388 - accuracy: 0.89 - ETA: 1s - loss: 0.2412 - accuracy: 0.89 - ETA: 0s - loss: 0.2397 - accuracy: 0.89 - ETA: 0s - loss: 0.2399 - accuracy: 0.89 - ETA: 0s - loss: 0.2404 - accuracy: 0.89 - ETA: 0s - loss: 0.2423 - accuracy: 0.89 - ETA: 0s - loss: 0.2442 - accuracy: 0.89 - ETA: 0s - loss: 0.2422 - accuracy: 0.89 - ETA: 0s - loss: 0.2443 - accuracy: 0.89 - ETA: 0s - loss: 0.2442 - accuracy: 0.89 - ETA: 0s - loss: 0.2453 - accuracy: 0.89 - ETA: 0s - loss: 0.2441 - accuracy: 0.89 - ETA: 0s - loss: 0.2460 - accuracy: 0.89 - ETA: 0s - loss: 0.2478 - accuracy: 0.89 - ETA: 0s - loss: 0.2461 - accuracy: 0.89 - ETA: 0s - loss: 0.2478 - accuracy: 0.89 - ETA: 0s - loss: 0.2494 - accuracy: 0.89 - ETA: 0s - loss: 0.2487 - accuracy: 0.89 - ETA: 0s - loss: 0.2513 - accuracy: 0.89 - ETA: 0s - loss: 0.2504 - accuracy: 0.89 - 2s 5ms/step - loss: 0.2501 - accuracy: 0.8975 - val_loss: 0.3074 - val_accuracy: 0.8876\n",
      "Epoch 17/20\n",
      "412/412 [==============================] - ETA: 0s - loss: 0.3114 - accuracy: 0.84 - ETA: 1s - loss: 0.2386 - accuracy: 0.89 - ETA: 1s - loss: 0.2481 - accuracy: 0.88 - ETA: 1s - loss: 0.2427 - accuracy: 0.89 - ETA: 1s - loss: 0.2404 - accuracy: 0.89 - ETA: 1s - loss: 0.2465 - accuracy: 0.89 - ETA: 1s - loss: 0.2411 - accuracy: 0.89 - ETA: 1s - loss: 0.2347 - accuracy: 0.89 - ETA: 1s - loss: 0.2385 - accuracy: 0.89 - ETA: 1s - loss: 0.2470 - accuracy: 0.89 - ETA: 1s - loss: 0.2488 - accuracy: 0.89 - ETA: 1s - loss: 0.2458 - accuracy: 0.89 - ETA: 1s - loss: 0.2495 - accuracy: 0.89 - ETA: 1s - loss: 0.2453 - accuracy: 0.89 - ETA: 0s - loss: 0.2448 - accuracy: 0.89 - ETA: 0s - loss: 0.2427 - accuracy: 0.89 - ETA: 0s - loss: 0.2428 - accuracy: 0.89 - ETA: 0s - loss: 0.2438 - accuracy: 0.89 - ETA: 0s - loss: 0.2474 - accuracy: 0.89 - ETA: 0s - loss: 0.2449 - accuracy: 0.89 - ETA: 0s - loss: 0.2449 - accuracy: 0.89 - ETA: 0s - loss: 0.2475 - accuracy: 0.89 - ETA: 0s - loss: 0.2463 - accuracy: 0.89 - ETA: 0s - loss: 0.2462 - accuracy: 0.89 - ETA: 0s - loss: 0.2449 - accuracy: 0.89 - ETA: 0s - loss: 0.2470 - accuracy: 0.89 - 2s 4ms/step - loss: 0.2473 - accuracy: 0.8965 - val_loss: 0.2903 - val_accuracy: 0.8875\n",
      "Epoch 18/20\n",
      "412/412 [==============================] - ETA: 0s - loss: 0.2505 - accuracy: 0.87 - ETA: 1s - loss: 0.1879 - accuracy: 0.92 - ETA: 0s - loss: 0.2311 - accuracy: 0.90 - ETA: 0s - loss: 0.2439 - accuracy: 0.90 - ETA: 0s - loss: 0.2450 - accuracy: 0.89 - ETA: 0s - loss: 0.2376 - accuracy: 0.90 - ETA: 0s - loss: 0.2373 - accuracy: 0.89 - ETA: 0s - loss: 0.2431 - accuracy: 0.89 - ETA: 0s - loss: 0.2448 - accuracy: 0.89 - ETA: 0s - loss: 0.2460 - accuracy: 0.89 - ETA: 0s - loss: 0.2495 - accuracy: 0.89 - ETA: 0s - loss: 0.2504 - accuracy: 0.89 - ETA: 0s - loss: 0.2486 - accuracy: 0.89 - ETA: 0s - loss: 0.2501 - accuracy: 0.89 - ETA: 0s - loss: 0.2485 - accuracy: 0.89 - ETA: 0s - loss: 0.2494 - accuracy: 0.89 - ETA: 0s - loss: 0.2506 - accuracy: 0.89 - ETA: 0s - loss: 0.2512 - accuracy: 0.89 - ETA: 0s - loss: 0.2518 - accuracy: 0.89 - 1s 3ms/step - loss: 0.2505 - accuracy: 0.8953 - val_loss: 0.3061 - val_accuracy: 0.8882\n",
      "Epoch 19/20\n"
     ]
    },
    {
     "name": "stdout",
     "output_type": "stream",
     "text": [
      "412/412 [==============================] - ETA: 0s - loss: 0.1698 - accuracy: 0.90 - ETA: 0s - loss: 0.2373 - accuracy: 0.90 - ETA: 0s - loss: 0.2461 - accuracy: 0.89 - ETA: 0s - loss: 0.2514 - accuracy: 0.89 - ETA: 0s - loss: 0.2518 - accuracy: 0.89 - ETA: 0s - loss: 0.2467 - accuracy: 0.89 - ETA: 0s - loss: 0.2382 - accuracy: 0.90 - ETA: 0s - loss: 0.2360 - accuracy: 0.90 - ETA: 0s - loss: 0.2375 - accuracy: 0.90 - ETA: 0s - loss: 0.2347 - accuracy: 0.90 - ETA: 0s - loss: 0.2338 - accuracy: 0.90 - ETA: 0s - loss: 0.2369 - accuracy: 0.90 - ETA: 0s - loss: 0.2358 - accuracy: 0.90 - ETA: 0s - loss: 0.2345 - accuracy: 0.90 - ETA: 0s - loss: 0.2355 - accuracy: 0.90 - ETA: 0s - loss: 0.2347 - accuracy: 0.90 - ETA: 0s - loss: 0.2360 - accuracy: 0.90 - ETA: 0s - loss: 0.2385 - accuracy: 0.90 - ETA: 0s - loss: 0.2390 - accuracy: 0.90 - ETA: 0s - loss: 0.2386 - accuracy: 0.90 - ETA: 0s - loss: 0.2399 - accuracy: 0.90 - ETA: 0s - loss: 0.2422 - accuracy: 0.90 - ETA: 0s - loss: 0.2435 - accuracy: 0.89 - ETA: 0s - loss: 0.2421 - accuracy: 0.89 - ETA: 0s - loss: 0.2446 - accuracy: 0.89 - ETA: 0s - loss: 0.2450 - accuracy: 0.89 - ETA: 0s - loss: 0.2445 - accuracy: 0.89 - ETA: 0s - loss: 0.2438 - accuracy: 0.89 - 2s 4ms/step - loss: 0.2442 - accuracy: 0.8993 - val_loss: 0.3154 - val_accuracy: 0.8890\n",
      "Epoch 20/20\n",
      "412/412 [==============================] - ETA: 0s - loss: 0.1723 - accuracy: 0.96 - ETA: 1s - loss: 0.2067 - accuracy: 0.91 - ETA: 1s - loss: 0.2154 - accuracy: 0.91 - ETA: 1s - loss: 0.2168 - accuracy: 0.91 - ETA: 1s - loss: 0.2274 - accuracy: 0.90 - ETA: 1s - loss: 0.2243 - accuracy: 0.90 - ETA: 1s - loss: 0.2306 - accuracy: 0.90 - ETA: 1s - loss: 0.2269 - accuracy: 0.90 - ETA: 1s - loss: 0.2278 - accuracy: 0.90 - ETA: 1s - loss: 0.2295 - accuracy: 0.90 - ETA: 1s - loss: 0.2314 - accuracy: 0.90 - ETA: 1s - loss: 0.2411 - accuracy: 0.90 - ETA: 0s - loss: 0.2392 - accuracy: 0.90 - ETA: 0s - loss: 0.2407 - accuracy: 0.89 - ETA: 0s - loss: 0.2363 - accuracy: 0.90 - ETA: 0s - loss: 0.2387 - accuracy: 0.90 - ETA: 0s - loss: 0.2398 - accuracy: 0.90 - ETA: 0s - loss: 0.2399 - accuracy: 0.90 - ETA: 0s - loss: 0.2403 - accuracy: 0.90 - ETA: 0s - loss: 0.2409 - accuracy: 0.90 - ETA: 0s - loss: 0.2412 - accuracy: 0.89 - ETA: 0s - loss: 0.2417 - accuracy: 0.89 - ETA: 0s - loss: 0.2432 - accuracy: 0.89 - ETA: 0s - loss: 0.2428 - accuracy: 0.89 - ETA: 0s - loss: 0.2424 - accuracy: 0.89 - ETA: 0s - loss: 0.2419 - accuracy: 0.89 - ETA: 0s - loss: 0.2414 - accuracy: 0.89 - ETA: 0s - loss: 0.2409 - accuracy: 0.89 - ETA: 0s - loss: 0.2393 - accuracy: 0.89 - ETA: 0s - loss: 0.2412 - accuracy: 0.89 - ETA: 0s - loss: 0.2421 - accuracy: 0.89 - 2s 5ms/step - loss: 0.2412 - accuracy: 0.8979 - val_loss: 0.3237 - val_accuracy: 0.8811\n"
     ]
    },
    {
     "data": {
      "text/plain": [
       "<tensorflow.python.keras.callbacks.History at 0x220a1a0de08>"
      ]
     },
     "execution_count": 95,
     "metadata": {},
     "output_type": "execute_result"
    }
   ],
   "source": [
    "best_hps = tuner_2.get_best_hyperparameters()[0]\n",
    "tuned_model_2 = tuner_2.hypermodel.build(best_hps)\n",
    "tuned_model_2.fit(train, y_train_2_n, validation_split=0.3, epochs=20, callbacks=[es])"
   ]
  },
  {
   "cell_type": "code",
   "execution_count": 90,
   "metadata": {},
   "outputs": [],
   "source": [
    "import tensorflow as tf\n",
    "from tensorflow.keras.layers import Dense, Dropout\n",
    "from tensorflow.keras import Sequential\n",
    "ann = Sequential()\n",
    "ann.add(Dense(units= 128, activation = 'relu', input_dim= train.shape[1]))\n",
    "#ann.add(Dropout(0.6))\n",
    "ann.add(Dense(units= 64, activation = 'relu'))\n",
    "#ann.add(Dropout(0.6))\n",
    "ann.add(Dense(units= 32, activation = 'relu'))\n",
    "ann.add(Dense(units= 3, activation = 'sigmoid'))\n",
    "ann.compile(optimizer=tf.keras.optimizers.Adamax(learning_rate=0.0001), loss='categorical_crossentropy', metrics='accuracy')"
   ]
  },
  {
   "cell_type": "code",
   "execution_count": null,
   "metadata": {},
   "outputs": [],
   "source": []
  },
  {
   "cell_type": "code",
   "execution_count": 91,
   "metadata": {},
   "outputs": [
    {
     "name": "stdout",
     "output_type": "stream",
     "text": [
      "Epoch 1/100\n",
      "412/412 [==============================] - 1s 3ms/step - loss: 0.9997 - accuracy: 0.6411 - val_loss: 0.8911 - val_accuracy: 0.7623\n",
      "Epoch 2/100\n",
      "412/412 [==============================] - 1s 2ms/step - loss: 0.7595 - accuracy: 0.8097 - val_loss: 0.6162 - val_accuracy: 0.8161\n",
      "Epoch 3/100\n",
      "412/412 [==============================] - 1s 3ms/step - loss: 0.4666 - accuracy: 0.8280 - val_loss: 0.3758 - val_accuracy: 0.8285\n",
      "Epoch 4/100\n",
      "412/412 [==============================] - 1s 2ms/step - loss: 0.3350 - accuracy: 0.8483 - val_loss: 0.3202 - val_accuracy: 0.8448\n",
      "Epoch 5/100\n",
      "412/412 [==============================] - 1s 3ms/step - loss: 0.3022 - accuracy: 0.8585 - val_loss: 0.3014 - val_accuracy: 0.8498\n",
      "Epoch 6/100\n",
      "412/412 [==============================] - 1s 2ms/step - loss: 0.2881 - accuracy: 0.8589 - val_loss: 0.2909 - val_accuracy: 0.8533\n",
      "Epoch 7/100\n",
      "412/412 [==============================] - 1s 2ms/step - loss: 0.2797 - accuracy: 0.8596 - val_loss: 0.2851 - val_accuracy: 0.8547\n",
      "Epoch 8/100\n",
      "412/412 [==============================] - 1s 3ms/step - loss: 0.2742 - accuracy: 0.8607 - val_loss: 0.2806 - val_accuracy: 0.8552\n",
      "Epoch 9/100\n",
      "412/412 [==============================] - 1s 3ms/step - loss: 0.2700 - accuracy: 0.8607 - val_loss: 0.2785 - val_accuracy: 0.8551\n",
      "Epoch 10/100\n",
      "412/412 [==============================] - 1s 3ms/step - loss: 0.2670 - accuracy: 0.8628 - val_loss: 0.2771 - val_accuracy: 0.8537\n",
      "Epoch 11/100\n",
      "412/412 [==============================] - 1s 3ms/step - loss: 0.2646 - accuracy: 0.8645 - val_loss: 0.2741 - val_accuracy: 0.8531\n",
      "Epoch 12/100\n",
      "412/412 [==============================] - 1s 3ms/step - loss: 0.2622 - accuracy: 0.8632 - val_loss: 0.2723 - val_accuracy: 0.8529\n",
      "Epoch 13/100\n",
      "412/412 [==============================] - 1s 3ms/step - loss: 0.2605 - accuracy: 0.8663 - val_loss: 0.2718 - val_accuracy: 0.8524\n",
      "Epoch 14/100\n",
      "412/412 [==============================] - 1s 3ms/step - loss: 0.2589 - accuracy: 0.8668 - val_loss: 0.2705 - val_accuracy: 0.8533\n",
      "Epoch 15/100\n",
      "412/412 [==============================] - 1s 3ms/step - loss: 0.2576 - accuracy: 0.8677 - val_loss: 0.2705 - val_accuracy: 0.8531\n",
      "Epoch 16/100\n",
      "412/412 [==============================] - 1s 2ms/step - loss: 0.2564 - accuracy: 0.8687 - val_loss: 0.2693 - val_accuracy: 0.8519\n",
      "Epoch 17/100\n",
      "412/412 [==============================] - 1s 2ms/step - loss: 0.2552 - accuracy: 0.8705 - val_loss: 0.2692 - val_accuracy: 0.8505\n",
      "Epoch 18/100\n",
      "412/412 [==============================] - 1s 2ms/step - loss: 0.2541 - accuracy: 0.8715 - val_loss: 0.2689 - val_accuracy: 0.8521\n",
      "Epoch 19/100\n",
      "412/412 [==============================] - 1s 4ms/step - loss: 0.2530 - accuracy: 0.8727 - val_loss: 0.2685 - val_accuracy: 0.8526\n",
      "Epoch 20/100\n",
      "412/412 [==============================] - 1s 3ms/step - loss: 0.2522 - accuracy: 0.8720 - val_loss: 0.2679 - val_accuracy: 0.8535\n",
      "Epoch 21/100\n",
      "412/412 [==============================] - 1s 3ms/step - loss: 0.2514 - accuracy: 0.8723 - val_loss: 0.2667 - val_accuracy: 0.8538\n",
      "Epoch 22/100\n",
      "412/412 [==============================] - 1s 4ms/step - loss: 0.2503 - accuracy: 0.8746 - val_loss: 0.2667 - val_accuracy: 0.8529\n",
      "Epoch 23/100\n",
      "412/412 [==============================] - 1s 3ms/step - loss: 0.2494 - accuracy: 0.8743 - val_loss: 0.2667 - val_accuracy: 0.8529\n",
      "Epoch 24/100\n",
      "412/412 [==============================] - 1s 3ms/step - loss: 0.2490 - accuracy: 0.8754 - val_loss: 0.2668 - val_accuracy: 0.8517\n",
      "Epoch 25/100\n",
      "412/412 [==============================] - 1s 3ms/step - loss: 0.2480 - accuracy: 0.8743 - val_loss: 0.2657 - val_accuracy: 0.8510\n",
      "Epoch 26/100\n",
      "412/412 [==============================] - 1s 3ms/step - loss: 0.2474 - accuracy: 0.8764 - val_loss: 0.2662 - val_accuracy: 0.8521\n",
      "Epoch 27/100\n",
      "412/412 [==============================] - 1s 3ms/step - loss: 0.2469 - accuracy: 0.8750 - val_loss: 0.2661 - val_accuracy: 0.8542\n",
      "Epoch 28/100\n",
      "412/412 [==============================] - 2s 4ms/step - loss: 0.2461 - accuracy: 0.8783 - val_loss: 0.2654 - val_accuracy: 0.8533\n",
      "Epoch 29/100\n",
      "412/412 [==============================] - 1s 3ms/step - loss: 0.2456 - accuracy: 0.8764 - val_loss: 0.2664 - val_accuracy: 0.8522\n",
      "Epoch 30/100\n",
      "412/412 [==============================] - 1s 3ms/step - loss: 0.2453 - accuracy: 0.8766 - val_loss: 0.2653 - val_accuracy: 0.8515\n",
      "Epoch 31/100\n",
      "412/412 [==============================] - 1s 3ms/step - loss: 0.2442 - accuracy: 0.8773 - val_loss: 0.2658 - val_accuracy: 0.8535\n",
      "Epoch 32/100\n",
      "412/412 [==============================] - 1s 3ms/step - loss: 0.2439 - accuracy: 0.8789 - val_loss: 0.2657 - val_accuracy: 0.8512\n",
      "Epoch 33/100\n",
      "412/412 [==============================] - 1s 3ms/step - loss: 0.2434 - accuracy: 0.8773 - val_loss: 0.2651 - val_accuracy: 0.8537\n",
      "Epoch 34/100\n",
      "412/412 [==============================] - 1s 3ms/step - loss: 0.2428 - accuracy: 0.8779 - val_loss: 0.2657 - val_accuracy: 0.8544\n",
      "Epoch 35/100\n",
      "412/412 [==============================] - 1s 3ms/step - loss: 0.2423 - accuracy: 0.8811 - val_loss: 0.2648 - val_accuracy: 0.8533\n",
      "Epoch 36/100\n",
      "412/412 [==============================] - 1s 3ms/step - loss: 0.2419 - accuracy: 0.8765 - val_loss: 0.2646 - val_accuracy: 0.8540\n",
      "Epoch 37/100\n",
      "412/412 [==============================] - 2s 4ms/step - loss: 0.2415 - accuracy: 0.8793 - val_loss: 0.2655 - val_accuracy: 0.8528\n",
      "Epoch 38/100\n",
      "412/412 [==============================] - 1s 3ms/step - loss: 0.2412 - accuracy: 0.8792 - val_loss: 0.2651 - val_accuracy: 0.8533\n",
      "Epoch 39/100\n",
      "412/412 [==============================] - 1s 3ms/step - loss: 0.2407 - accuracy: 0.8797 - val_loss: 0.2644 - val_accuracy: 0.8563\n",
      "Epoch 40/100\n",
      "412/412 [==============================] - 1s 3ms/step - loss: 0.2402 - accuracy: 0.8807 - val_loss: 0.2652 - val_accuracy: 0.8528\n",
      "Epoch 41/100\n",
      "412/412 [==============================] - 1s 3ms/step - loss: 0.2399 - accuracy: 0.8806 - val_loss: 0.2641 - val_accuracy: 0.8551\n",
      "Epoch 42/100\n",
      "412/412 [==============================] - 1s 3ms/step - loss: 0.2396 - accuracy: 0.8798 - val_loss: 0.2646 - val_accuracy: 0.8544\n",
      "Epoch 43/100\n",
      "393/412 [===========================>..] - ETA: 0s - loss: 0.2386 - accuracy: 0.8839"
     ]
    },
    {
     "ename": "KeyboardInterrupt",
     "evalue": "",
     "output_type": "error",
     "traceback": [
      "\u001b[1;31m---------------------------------------------------------------------------\u001b[0m",
      "\u001b[1;31mKeyboardInterrupt\u001b[0m                         Traceback (most recent call last)",
      "\u001b[1;32m<ipython-input-91-18a24d376f02>\u001b[0m in \u001b[0;36m<module>\u001b[1;34m\u001b[0m\n\u001b[1;32m----> 1\u001b[1;33m \u001b[0mann\u001b[0m\u001b[1;33m.\u001b[0m\u001b[0mfit\u001b[0m\u001b[1;33m(\u001b[0m\u001b[0mtrain\u001b[0m\u001b[1;33m,\u001b[0m \u001b[0my_train_1_n\u001b[0m\u001b[1;33m,\u001b[0m \u001b[0mvalidation_split\u001b[0m\u001b[1;33m=\u001b[0m\u001b[1;36m0.3\u001b[0m\u001b[1;33m,\u001b[0m \u001b[0mepochs\u001b[0m\u001b[1;33m=\u001b[0m\u001b[1;36m100\u001b[0m\u001b[1;33m)\u001b[0m\u001b[1;33m\u001b[0m\u001b[1;33m\u001b[0m\u001b[0m\n\u001b[0m",
      "\u001b[1;32m~\\Anaconda3\\lib\\site-packages\\tensorflow\\python\\keras\\engine\\training.py\u001b[0m in \u001b[0;36m_method_wrapper\u001b[1;34m(self, *args, **kwargs)\u001b[0m\n\u001b[0;32m     64\u001b[0m   \u001b[1;32mdef\u001b[0m \u001b[0m_method_wrapper\u001b[0m\u001b[1;33m(\u001b[0m\u001b[0mself\u001b[0m\u001b[1;33m,\u001b[0m \u001b[1;33m*\u001b[0m\u001b[0margs\u001b[0m\u001b[1;33m,\u001b[0m \u001b[1;33m**\u001b[0m\u001b[0mkwargs\u001b[0m\u001b[1;33m)\u001b[0m\u001b[1;33m:\u001b[0m\u001b[1;33m\u001b[0m\u001b[1;33m\u001b[0m\u001b[0m\n\u001b[0;32m     65\u001b[0m     \u001b[1;32mif\u001b[0m \u001b[1;32mnot\u001b[0m \u001b[0mself\u001b[0m\u001b[1;33m.\u001b[0m\u001b[0m_in_multi_worker_mode\u001b[0m\u001b[1;33m(\u001b[0m\u001b[1;33m)\u001b[0m\u001b[1;33m:\u001b[0m  \u001b[1;31m# pylint: disable=protected-access\u001b[0m\u001b[1;33m\u001b[0m\u001b[1;33m\u001b[0m\u001b[0m\n\u001b[1;32m---> 66\u001b[1;33m       \u001b[1;32mreturn\u001b[0m \u001b[0mmethod\u001b[0m\u001b[1;33m(\u001b[0m\u001b[0mself\u001b[0m\u001b[1;33m,\u001b[0m \u001b[1;33m*\u001b[0m\u001b[0margs\u001b[0m\u001b[1;33m,\u001b[0m \u001b[1;33m**\u001b[0m\u001b[0mkwargs\u001b[0m\u001b[1;33m)\u001b[0m\u001b[1;33m\u001b[0m\u001b[1;33m\u001b[0m\u001b[0m\n\u001b[0m\u001b[0;32m     67\u001b[0m \u001b[1;33m\u001b[0m\u001b[0m\n\u001b[0;32m     68\u001b[0m     \u001b[1;31m# Running inside `run_distribute_coordinator` already.\u001b[0m\u001b[1;33m\u001b[0m\u001b[1;33m\u001b[0m\u001b[1;33m\u001b[0m\u001b[0m\n",
      "\u001b[1;32m~\\Anaconda3\\lib\\site-packages\\tensorflow\\python\\keras\\engine\\training.py\u001b[0m in \u001b[0;36mfit\u001b[1;34m(self, x, y, batch_size, epochs, verbose, callbacks, validation_split, validation_data, shuffle, class_weight, sample_weight, initial_epoch, steps_per_epoch, validation_steps, validation_batch_size, validation_freq, max_queue_size, workers, use_multiprocessing)\u001b[0m\n\u001b[0;32m    870\u001b[0m               \u001b[0mworkers\u001b[0m\u001b[1;33m=\u001b[0m\u001b[0mworkers\u001b[0m\u001b[1;33m,\u001b[0m\u001b[1;33m\u001b[0m\u001b[1;33m\u001b[0m\u001b[0m\n\u001b[0;32m    871\u001b[0m               \u001b[0muse_multiprocessing\u001b[0m\u001b[1;33m=\u001b[0m\u001b[0muse_multiprocessing\u001b[0m\u001b[1;33m,\u001b[0m\u001b[1;33m\u001b[0m\u001b[1;33m\u001b[0m\u001b[0m\n\u001b[1;32m--> 872\u001b[1;33m               return_dict=True)\n\u001b[0m\u001b[0;32m    873\u001b[0m           \u001b[0mval_logs\u001b[0m \u001b[1;33m=\u001b[0m \u001b[1;33m{\u001b[0m\u001b[1;34m'val_'\u001b[0m \u001b[1;33m+\u001b[0m \u001b[0mname\u001b[0m\u001b[1;33m:\u001b[0m \u001b[0mval\u001b[0m \u001b[1;32mfor\u001b[0m \u001b[0mname\u001b[0m\u001b[1;33m,\u001b[0m \u001b[0mval\u001b[0m \u001b[1;32min\u001b[0m \u001b[0mval_logs\u001b[0m\u001b[1;33m.\u001b[0m\u001b[0mitems\u001b[0m\u001b[1;33m(\u001b[0m\u001b[1;33m)\u001b[0m\u001b[1;33m}\u001b[0m\u001b[1;33m\u001b[0m\u001b[1;33m\u001b[0m\u001b[0m\n\u001b[0;32m    874\u001b[0m           \u001b[0mepoch_logs\u001b[0m\u001b[1;33m.\u001b[0m\u001b[0mupdate\u001b[0m\u001b[1;33m(\u001b[0m\u001b[0mval_logs\u001b[0m\u001b[1;33m)\u001b[0m\u001b[1;33m\u001b[0m\u001b[1;33m\u001b[0m\u001b[0m\n",
      "\u001b[1;32m~\\Anaconda3\\lib\\site-packages\\tensorflow\\python\\keras\\engine\\training.py\u001b[0m in \u001b[0;36m_method_wrapper\u001b[1;34m(self, *args, **kwargs)\u001b[0m\n\u001b[0;32m     64\u001b[0m   \u001b[1;32mdef\u001b[0m \u001b[0m_method_wrapper\u001b[0m\u001b[1;33m(\u001b[0m\u001b[0mself\u001b[0m\u001b[1;33m,\u001b[0m \u001b[1;33m*\u001b[0m\u001b[0margs\u001b[0m\u001b[1;33m,\u001b[0m \u001b[1;33m**\u001b[0m\u001b[0mkwargs\u001b[0m\u001b[1;33m)\u001b[0m\u001b[1;33m:\u001b[0m\u001b[1;33m\u001b[0m\u001b[1;33m\u001b[0m\u001b[0m\n\u001b[0;32m     65\u001b[0m     \u001b[1;32mif\u001b[0m \u001b[1;32mnot\u001b[0m \u001b[0mself\u001b[0m\u001b[1;33m.\u001b[0m\u001b[0m_in_multi_worker_mode\u001b[0m\u001b[1;33m(\u001b[0m\u001b[1;33m)\u001b[0m\u001b[1;33m:\u001b[0m  \u001b[1;31m# pylint: disable=protected-access\u001b[0m\u001b[1;33m\u001b[0m\u001b[1;33m\u001b[0m\u001b[0m\n\u001b[1;32m---> 66\u001b[1;33m       \u001b[1;32mreturn\u001b[0m \u001b[0mmethod\u001b[0m\u001b[1;33m(\u001b[0m\u001b[0mself\u001b[0m\u001b[1;33m,\u001b[0m \u001b[1;33m*\u001b[0m\u001b[0margs\u001b[0m\u001b[1;33m,\u001b[0m \u001b[1;33m**\u001b[0m\u001b[0mkwargs\u001b[0m\u001b[1;33m)\u001b[0m\u001b[1;33m\u001b[0m\u001b[1;33m\u001b[0m\u001b[0m\n\u001b[0m\u001b[0;32m     67\u001b[0m \u001b[1;33m\u001b[0m\u001b[0m\n\u001b[0;32m     68\u001b[0m     \u001b[1;31m# Running inside `run_distribute_coordinator` already.\u001b[0m\u001b[1;33m\u001b[0m\u001b[1;33m\u001b[0m\u001b[1;33m\u001b[0m\u001b[0m\n",
      "\u001b[1;32m~\\Anaconda3\\lib\\site-packages\\tensorflow\\python\\keras\\engine\\training.py\u001b[0m in \u001b[0;36mevaluate\u001b[1;34m(self, x, y, batch_size, verbose, sample_weight, steps, callbacks, max_queue_size, workers, use_multiprocessing, return_dict)\u001b[0m\n\u001b[0;32m   1079\u001b[0m                 step_num=step):\n\u001b[0;32m   1080\u001b[0m               \u001b[0mcallbacks\u001b[0m\u001b[1;33m.\u001b[0m\u001b[0mon_test_batch_begin\u001b[0m\u001b[1;33m(\u001b[0m\u001b[0mstep\u001b[0m\u001b[1;33m)\u001b[0m\u001b[1;33m\u001b[0m\u001b[1;33m\u001b[0m\u001b[0m\n\u001b[1;32m-> 1081\u001b[1;33m               \u001b[0mtmp_logs\u001b[0m \u001b[1;33m=\u001b[0m \u001b[0mtest_function\u001b[0m\u001b[1;33m(\u001b[0m\u001b[0miterator\u001b[0m\u001b[1;33m)\u001b[0m\u001b[1;33m\u001b[0m\u001b[1;33m\u001b[0m\u001b[0m\n\u001b[0m\u001b[0;32m   1082\u001b[0m               \u001b[1;31m# Catch OutOfRangeError for Datasets of unknown size.\u001b[0m\u001b[1;33m\u001b[0m\u001b[1;33m\u001b[0m\u001b[1;33m\u001b[0m\u001b[0m\n\u001b[0;32m   1083\u001b[0m               \u001b[1;31m# This blocks until the batch has finished executing.\u001b[0m\u001b[1;33m\u001b[0m\u001b[1;33m\u001b[0m\u001b[1;33m\u001b[0m\u001b[0m\n",
      "\u001b[1;32m~\\Anaconda3\\lib\\site-packages\\tensorflow\\python\\eager\\def_function.py\u001b[0m in \u001b[0;36m__call__\u001b[1;34m(self, *args, **kwds)\u001b[0m\n\u001b[0;32m    578\u001b[0m         \u001b[0mxla_context\u001b[0m\u001b[1;33m.\u001b[0m\u001b[0mExit\u001b[0m\u001b[1;33m(\u001b[0m\u001b[1;33m)\u001b[0m\u001b[1;33m\u001b[0m\u001b[1;33m\u001b[0m\u001b[0m\n\u001b[0;32m    579\u001b[0m     \u001b[1;32melse\u001b[0m\u001b[1;33m:\u001b[0m\u001b[1;33m\u001b[0m\u001b[1;33m\u001b[0m\u001b[0m\n\u001b[1;32m--> 580\u001b[1;33m       \u001b[0mresult\u001b[0m \u001b[1;33m=\u001b[0m \u001b[0mself\u001b[0m\u001b[1;33m.\u001b[0m\u001b[0m_call\u001b[0m\u001b[1;33m(\u001b[0m\u001b[1;33m*\u001b[0m\u001b[0margs\u001b[0m\u001b[1;33m,\u001b[0m \u001b[1;33m**\u001b[0m\u001b[0mkwds\u001b[0m\u001b[1;33m)\u001b[0m\u001b[1;33m\u001b[0m\u001b[1;33m\u001b[0m\u001b[0m\n\u001b[0m\u001b[0;32m    581\u001b[0m \u001b[1;33m\u001b[0m\u001b[0m\n\u001b[0;32m    582\u001b[0m     \u001b[1;32mif\u001b[0m \u001b[0mtracing_count\u001b[0m \u001b[1;33m==\u001b[0m \u001b[0mself\u001b[0m\u001b[1;33m.\u001b[0m\u001b[0m_get_tracing_count\u001b[0m\u001b[1;33m(\u001b[0m\u001b[1;33m)\u001b[0m\u001b[1;33m:\u001b[0m\u001b[1;33m\u001b[0m\u001b[1;33m\u001b[0m\u001b[0m\n",
      "\u001b[1;32m~\\Anaconda3\\lib\\site-packages\\tensorflow\\python\\eager\\def_function.py\u001b[0m in \u001b[0;36m_call\u001b[1;34m(self, *args, **kwds)\u001b[0m\n\u001b[0;32m    616\u001b[0m       \u001b[1;31m# In this case we have not created variables on the first call. So we can\u001b[0m\u001b[1;33m\u001b[0m\u001b[1;33m\u001b[0m\u001b[1;33m\u001b[0m\u001b[0m\n\u001b[0;32m    617\u001b[0m       \u001b[1;31m# run the first trace but we should fail if variables are created.\u001b[0m\u001b[1;33m\u001b[0m\u001b[1;33m\u001b[0m\u001b[1;33m\u001b[0m\u001b[0m\n\u001b[1;32m--> 618\u001b[1;33m       \u001b[0mresults\u001b[0m \u001b[1;33m=\u001b[0m \u001b[0mself\u001b[0m\u001b[1;33m.\u001b[0m\u001b[0m_stateful_fn\u001b[0m\u001b[1;33m(\u001b[0m\u001b[1;33m*\u001b[0m\u001b[0margs\u001b[0m\u001b[1;33m,\u001b[0m \u001b[1;33m**\u001b[0m\u001b[0mkwds\u001b[0m\u001b[1;33m)\u001b[0m\u001b[1;33m\u001b[0m\u001b[1;33m\u001b[0m\u001b[0m\n\u001b[0m\u001b[0;32m    619\u001b[0m       \u001b[1;32mif\u001b[0m \u001b[0mself\u001b[0m\u001b[1;33m.\u001b[0m\u001b[0m_created_variables\u001b[0m\u001b[1;33m:\u001b[0m\u001b[1;33m\u001b[0m\u001b[1;33m\u001b[0m\u001b[0m\n\u001b[0;32m    620\u001b[0m         raise ValueError(\"Creating variables on a non-first call to a function\"\n",
      "\u001b[1;32m~\\Anaconda3\\lib\\site-packages\\tensorflow\\python\\eager\\function.py\u001b[0m in \u001b[0;36m__call__\u001b[1;34m(self, *args, **kwargs)\u001b[0m\n\u001b[0;32m   2418\u001b[0m     \u001b[1;32mwith\u001b[0m \u001b[0mself\u001b[0m\u001b[1;33m.\u001b[0m\u001b[0m_lock\u001b[0m\u001b[1;33m:\u001b[0m\u001b[1;33m\u001b[0m\u001b[1;33m\u001b[0m\u001b[0m\n\u001b[0;32m   2419\u001b[0m       \u001b[0mgraph_function\u001b[0m\u001b[1;33m,\u001b[0m \u001b[0margs\u001b[0m\u001b[1;33m,\u001b[0m \u001b[0mkwargs\u001b[0m \u001b[1;33m=\u001b[0m \u001b[0mself\u001b[0m\u001b[1;33m.\u001b[0m\u001b[0m_maybe_define_function\u001b[0m\u001b[1;33m(\u001b[0m\u001b[0margs\u001b[0m\u001b[1;33m,\u001b[0m \u001b[0mkwargs\u001b[0m\u001b[1;33m)\u001b[0m\u001b[1;33m\u001b[0m\u001b[1;33m\u001b[0m\u001b[0m\n\u001b[1;32m-> 2420\u001b[1;33m     \u001b[1;32mreturn\u001b[0m \u001b[0mgraph_function\u001b[0m\u001b[1;33m.\u001b[0m\u001b[0m_filtered_call\u001b[0m\u001b[1;33m(\u001b[0m\u001b[0margs\u001b[0m\u001b[1;33m,\u001b[0m \u001b[0mkwargs\u001b[0m\u001b[1;33m)\u001b[0m  \u001b[1;31m# pylint: disable=protected-access\u001b[0m\u001b[1;33m\u001b[0m\u001b[1;33m\u001b[0m\u001b[0m\n\u001b[0m\u001b[0;32m   2421\u001b[0m \u001b[1;33m\u001b[0m\u001b[0m\n\u001b[0;32m   2422\u001b[0m   \u001b[1;33m@\u001b[0m\u001b[0mproperty\u001b[0m\u001b[1;33m\u001b[0m\u001b[1;33m\u001b[0m\u001b[0m\n",
      "\u001b[1;32m~\\Anaconda3\\lib\\site-packages\\tensorflow\\python\\eager\\function.py\u001b[0m in \u001b[0;36m_filtered_call\u001b[1;34m(self, args, kwargs)\u001b[0m\n\u001b[0;32m   1663\u001b[0m          if isinstance(t, (ops.Tensor,\n\u001b[0;32m   1664\u001b[0m                            resource_variable_ops.BaseResourceVariable))),\n\u001b[1;32m-> 1665\u001b[1;33m         self.captured_inputs)\n\u001b[0m\u001b[0;32m   1666\u001b[0m \u001b[1;33m\u001b[0m\u001b[0m\n\u001b[0;32m   1667\u001b[0m   \u001b[1;32mdef\u001b[0m \u001b[0m_call_flat\u001b[0m\u001b[1;33m(\u001b[0m\u001b[0mself\u001b[0m\u001b[1;33m,\u001b[0m \u001b[0margs\u001b[0m\u001b[1;33m,\u001b[0m \u001b[0mcaptured_inputs\u001b[0m\u001b[1;33m,\u001b[0m \u001b[0mcancellation_manager\u001b[0m\u001b[1;33m=\u001b[0m\u001b[1;32mNone\u001b[0m\u001b[1;33m)\u001b[0m\u001b[1;33m:\u001b[0m\u001b[1;33m\u001b[0m\u001b[1;33m\u001b[0m\u001b[0m\n",
      "\u001b[1;32m~\\Anaconda3\\lib\\site-packages\\tensorflow\\python\\eager\\function.py\u001b[0m in \u001b[0;36m_call_flat\u001b[1;34m(self, args, captured_inputs, cancellation_manager)\u001b[0m\n\u001b[0;32m   1744\u001b[0m       \u001b[1;31m# No tape is watching; skip to running the function.\u001b[0m\u001b[1;33m\u001b[0m\u001b[1;33m\u001b[0m\u001b[1;33m\u001b[0m\u001b[0m\n\u001b[0;32m   1745\u001b[0m       return self._build_call_outputs(self._inference_function.call(\n\u001b[1;32m-> 1746\u001b[1;33m           ctx, args, cancellation_manager=cancellation_manager))\n\u001b[0m\u001b[0;32m   1747\u001b[0m     forward_backward = self._select_forward_and_backward_functions(\n\u001b[0;32m   1748\u001b[0m         \u001b[0margs\u001b[0m\u001b[1;33m,\u001b[0m\u001b[1;33m\u001b[0m\u001b[1;33m\u001b[0m\u001b[0m\n",
      "\u001b[1;32m~\\Anaconda3\\lib\\site-packages\\tensorflow\\python\\eager\\function.py\u001b[0m in \u001b[0;36mcall\u001b[1;34m(self, ctx, args, cancellation_manager)\u001b[0m\n\u001b[0;32m    596\u001b[0m               \u001b[0minputs\u001b[0m\u001b[1;33m=\u001b[0m\u001b[0margs\u001b[0m\u001b[1;33m,\u001b[0m\u001b[1;33m\u001b[0m\u001b[1;33m\u001b[0m\u001b[0m\n\u001b[0;32m    597\u001b[0m               \u001b[0mattrs\u001b[0m\u001b[1;33m=\u001b[0m\u001b[0mattrs\u001b[0m\u001b[1;33m,\u001b[0m\u001b[1;33m\u001b[0m\u001b[1;33m\u001b[0m\u001b[0m\n\u001b[1;32m--> 598\u001b[1;33m               ctx=ctx)\n\u001b[0m\u001b[0;32m    599\u001b[0m         \u001b[1;32melse\u001b[0m\u001b[1;33m:\u001b[0m\u001b[1;33m\u001b[0m\u001b[1;33m\u001b[0m\u001b[0m\n\u001b[0;32m    600\u001b[0m           outputs = execute.execute_with_cancellation(\n",
      "\u001b[1;32m~\\Anaconda3\\lib\\site-packages\\tensorflow\\python\\eager\\execute.py\u001b[0m in \u001b[0;36mquick_execute\u001b[1;34m(op_name, num_outputs, inputs, attrs, ctx, name)\u001b[0m\n\u001b[0;32m     58\u001b[0m     \u001b[0mctx\u001b[0m\u001b[1;33m.\u001b[0m\u001b[0mensure_initialized\u001b[0m\u001b[1;33m(\u001b[0m\u001b[1;33m)\u001b[0m\u001b[1;33m\u001b[0m\u001b[1;33m\u001b[0m\u001b[0m\n\u001b[0;32m     59\u001b[0m     tensors = pywrap_tfe.TFE_Py_Execute(ctx._handle, device_name, op_name,\n\u001b[1;32m---> 60\u001b[1;33m                                         inputs, attrs, num_outputs)\n\u001b[0m\u001b[0;32m     61\u001b[0m   \u001b[1;32mexcept\u001b[0m \u001b[0mcore\u001b[0m\u001b[1;33m.\u001b[0m\u001b[0m_NotOkStatusException\u001b[0m \u001b[1;32mas\u001b[0m \u001b[0me\u001b[0m\u001b[1;33m:\u001b[0m\u001b[1;33m\u001b[0m\u001b[1;33m\u001b[0m\u001b[0m\n\u001b[0;32m     62\u001b[0m     \u001b[1;32mif\u001b[0m \u001b[0mname\u001b[0m \u001b[1;32mis\u001b[0m \u001b[1;32mnot\u001b[0m \u001b[1;32mNone\u001b[0m\u001b[1;33m:\u001b[0m\u001b[1;33m\u001b[0m\u001b[1;33m\u001b[0m\u001b[0m\n",
      "\u001b[1;31mKeyboardInterrupt\u001b[0m: "
     ]
    }
   ],
   "source": [
    "ann.fit(train, y_train_1_n, validation_split=0.3, epochs=100)"
   ]
  },
  {
   "cell_type": "code",
   "execution_count": 290,
   "metadata": {},
   "outputs": [],
   "source": []
  },
  {
   "cell_type": "code",
   "execution_count": 76,
   "metadata": {},
   "outputs": [
    {
     "name": "stdout",
     "output_type": "stream",
     "text": [
      "Epoch 1/100\n",
      "412/412 [==============================] - 1s 2ms/step - loss: 0.6249 - accuracy: 0.7200 - val_loss: 0.3091 - val_accuracy: 0.8836\n",
      "Epoch 2/100\n",
      "412/412 [==============================] - 1s 2ms/step - loss: 0.2873 - accuracy: 0.8871 - val_loss: 0.2821 - val_accuracy: 0.8825\n",
      "Epoch 3/100\n",
      "412/412 [==============================] - 1s 2ms/step - loss: 0.2723 - accuracy: 0.8883 - val_loss: 0.2778 - val_accuracy: 0.8862\n",
      "Epoch 4/100\n",
      "412/412 [==============================] - 1s 2ms/step - loss: 0.2645 - accuracy: 0.8927 - val_loss: 0.2752 - val_accuracy: 0.8876\n",
      "Epoch 5/100\n",
      "412/412 [==============================] - 1s 3ms/step - loss: 0.2598 - accuracy: 0.8915 - val_loss: 0.2829 - val_accuracy: 0.8814\n",
      "Epoch 6/100\n",
      "412/412 [==============================] - 1s 2ms/step - loss: 0.2572 - accuracy: 0.8964 - val_loss: 0.2722 - val_accuracy: 0.8896\n",
      "Epoch 7/100\n",
      "412/412 [==============================] - 1s 2ms/step - loss: 0.2545 - accuracy: 0.8957 - val_loss: 0.2759 - val_accuracy: 0.8890\n",
      "Epoch 8/100\n",
      "412/412 [==============================] - 1s 2ms/step - loss: 0.2508 - accuracy: 0.8975 - val_loss: 0.2669 - val_accuracy: 0.8906\n",
      "Epoch 9/100\n",
      "412/412 [==============================] - 1s 2ms/step - loss: 0.2499 - accuracy: 0.8960 - val_loss: 0.2761 - val_accuracy: 0.8857\n",
      "Epoch 10/100\n",
      "412/412 [==============================] - 1s 2ms/step - loss: 0.2475 - accuracy: 0.8970 - val_loss: 0.2773 - val_accuracy: 0.8860\n",
      "Epoch 11/100\n",
      "412/412 [==============================] - 1s 2ms/step - loss: 0.2452 - accuracy: 0.9019 - val_loss: 0.2714 - val_accuracy: 0.8892\n",
      "Epoch 12/100\n",
      "412/412 [==============================] - 1s 2ms/step - loss: 0.2446 - accuracy: 0.9016 - val_loss: 0.2698 - val_accuracy: 0.8887\n",
      "Epoch 13/100\n",
      "412/412 [==============================] - 1s 2ms/step - loss: 0.2430 - accuracy: 0.9005 - val_loss: 0.2719 - val_accuracy: 0.8906\n",
      "Epoch 14/100\n",
      "412/412 [==============================] - 1s 2ms/step - loss: 0.2412 - accuracy: 0.9021 - val_loss: 0.2705 - val_accuracy: 0.8913\n",
      "Epoch 15/100\n",
      "412/412 [==============================] - 1s 2ms/step - loss: 0.2401 - accuracy: 0.9021 - val_loss: 0.2751 - val_accuracy: 0.8913\n",
      "Epoch 16/100\n",
      "412/412 [==============================] - 1s 2ms/step - loss: 0.2411 - accuracy: 0.9010 - val_loss: 0.2764 - val_accuracy: 0.8885\n",
      "Epoch 17/100\n",
      "412/412 [==============================] - 1s 2ms/step - loss: 0.2377 - accuracy: 0.9034 - val_loss: 0.2713 - val_accuracy: 0.8878\n",
      "Epoch 18/100\n",
      "412/412 [==============================] - 1s 2ms/step - loss: 0.2377 - accuracy: 0.9021 - val_loss: 0.2788 - val_accuracy: 0.8875\n",
      "Epoch 19/100\n",
      "412/412 [==============================] - 1s 2ms/step - loss: 0.2356 - accuracy: 0.9019 - val_loss: 0.2766 - val_accuracy: 0.8915\n",
      "Epoch 20/100\n",
      "412/412 [==============================] - 1s 2ms/step - loss: 0.2354 - accuracy: 0.9041 - val_loss: 0.2742 - val_accuracy: 0.8917\n",
      "Epoch 21/100\n",
      "412/412 [==============================] - 1s 2ms/step - loss: 0.2346 - accuracy: 0.9046 - val_loss: 0.2731 - val_accuracy: 0.8931\n",
      "Epoch 22/100\n",
      "412/412 [==============================] - 1s 2ms/step - loss: 0.2330 - accuracy: 0.9025 - val_loss: 0.2786 - val_accuracy: 0.8889\n",
      "Epoch 23/100\n",
      "412/412 [==============================] - 1s 2ms/step - loss: 0.2328 - accuracy: 0.9046 - val_loss: 0.2772 - val_accuracy: 0.8894\n",
      "Epoch 24/100\n",
      "412/412 [==============================] - 1s 2ms/step - loss: 0.2317 - accuracy: 0.9048 - val_loss: 0.2777 - val_accuracy: 0.8915\n",
      "Epoch 25/100\n",
      "412/412 [==============================] - 1s 2ms/step - loss: 0.2309 - accuracy: 0.9039 - val_loss: 0.2749 - val_accuracy: 0.8898\n",
      "Epoch 26/100\n",
      "412/412 [==============================] - 1s 2ms/step - loss: 0.2297 - accuracy: 0.9061 - val_loss: 0.2818 - val_accuracy: 0.8855\n",
      "Epoch 27/100\n",
      "412/412 [==============================] - 1s 2ms/step - loss: 0.2291 - accuracy: 0.9045 - val_loss: 0.2821 - val_accuracy: 0.8875\n",
      "Epoch 28/100\n",
      "412/412 [==============================] - 1s 2ms/step - loss: 0.2290 - accuracy: 0.9041 - val_loss: 0.2810 - val_accuracy: 0.8876\n",
      "Epoch 29/100\n",
      "412/412 [==============================] - 1s 2ms/step - loss: 0.2281 - accuracy: 0.9065 - val_loss: 0.2802 - val_accuracy: 0.8896\n",
      "Epoch 30/100\n",
      "412/412 [==============================] - 1s 2ms/step - loss: 0.2270 - accuracy: 0.9048 - val_loss: 0.2820 - val_accuracy: 0.8887\n",
      "Epoch 31/100\n",
      "412/412 [==============================] - 1s 3ms/step - loss: 0.2265 - accuracy: 0.9056 - val_loss: 0.2826 - val_accuracy: 0.8901\n",
      "Epoch 32/100\n",
      "412/412 [==============================] - 1s 2ms/step - loss: 0.2259 - accuracy: 0.9059 - val_loss: 0.2832 - val_accuracy: 0.8892\n",
      "Epoch 33/100\n",
      "412/412 [==============================] - 1s 2ms/step - loss: 0.2249 - accuracy: 0.9059 - val_loss: 0.2854 - val_accuracy: 0.8906\n",
      "Epoch 34/100\n",
      "412/412 [==============================] - 1s 2ms/step - loss: 0.2239 - accuracy: 0.9055 - val_loss: 0.2844 - val_accuracy: 0.8894\n",
      "Epoch 35/100\n",
      "412/412 [==============================] - 1s 2ms/step - loss: 0.2233 - accuracy: 0.9073 - val_loss: 0.2863 - val_accuracy: 0.8892\n",
      "Epoch 36/100\n",
      "412/412 [==============================] - 1s 2ms/step - loss: 0.2228 - accuracy: 0.9072 - val_loss: 0.2875 - val_accuracy: 0.8866\n",
      "Epoch 37/100\n",
      "412/412 [==============================] - 1s 2ms/step - loss: 0.2228 - accuracy: 0.9066 - val_loss: 0.2892 - val_accuracy: 0.8864\n",
      "Epoch 38/100\n",
      "412/412 [==============================] - 1s 2ms/step - loss: 0.2215 - accuracy: 0.9104 - val_loss: 0.2912 - val_accuracy: 0.8878\n",
      "Epoch 39/100\n",
      "412/412 [==============================] - 1s 2ms/step - loss: 0.2215 - accuracy: 0.9062 - val_loss: 0.2888 - val_accuracy: 0.8880\n",
      "Epoch 40/100\n",
      "412/412 [==============================] - 1s 2ms/step - loss: 0.2203 - accuracy: 0.9072 - val_loss: 0.2919 - val_accuracy: 0.8871\n",
      "Epoch 41/100\n",
      "412/412 [==============================] - 1s 2ms/step - loss: 0.2201 - accuracy: 0.9081 - val_loss: 0.2944 - val_accuracy: 0.8898\n",
      "Epoch 42/100\n",
      "412/412 [==============================] - 1s 2ms/step - loss: 0.2203 - accuracy: 0.9090 - val_loss: 0.2930 - val_accuracy: 0.8894\n",
      "Epoch 43/100\n",
      "412/412 [==============================] - 1s 2ms/step - loss: 0.2183 - accuracy: 0.9075 - val_loss: 0.2980 - val_accuracy: 0.8844\n",
      "Epoch 44/100\n",
      "412/412 [==============================] - 1s 2ms/step - loss: 0.2196 - accuracy: 0.9078 - val_loss: 0.2959 - val_accuracy: 0.8889\n",
      "Epoch 45/100\n",
      "412/412 [==============================] - 1s 2ms/step - loss: 0.2178 - accuracy: 0.9090 - val_loss: 0.2960 - val_accuracy: 0.8910\n",
      "Epoch 46/100\n",
      "412/412 [==============================] - 1s 2ms/step - loss: 0.2171 - accuracy: 0.9087 - val_loss: 0.2977 - val_accuracy: 0.8887\n",
      "Epoch 47/100\n",
      "412/412 [==============================] - 1s 2ms/step - loss: 0.2164 - accuracy: 0.9077 - val_loss: 0.2980 - val_accuracy: 0.8857\n",
      "Epoch 48/100\n",
      "412/412 [==============================] - 1s 2ms/step - loss: 0.2151 - accuracy: 0.9091 - val_loss: 0.2976 - val_accuracy: 0.8875\n",
      "Epoch 49/100\n",
      "412/412 [==============================] - 1s 2ms/step - loss: 0.2148 - accuracy: 0.9106 - val_loss: 0.3070 - val_accuracy: 0.8890\n",
      "Epoch 50/100\n",
      "412/412 [==============================] - 1s 2ms/step - loss: 0.2144 - accuracy: 0.9092 - val_loss: 0.3031 - val_accuracy: 0.8834\n",
      "Epoch 51/100\n",
      "412/412 [==============================] - 1s 2ms/step - loss: 0.2143 - accuracy: 0.9103 - val_loss: 0.3007 - val_accuracy: 0.8869\n",
      "Epoch 52/100\n",
      "412/412 [==============================] - 1s 2ms/step - loss: 0.2144 - accuracy: 0.9123 - val_loss: 0.3052 - val_accuracy: 0.8860\n",
      "Epoch 53/100\n",
      "412/412 [==============================] - 1s 2ms/step - loss: 0.2131 - accuracy: 0.9087 - val_loss: 0.3082 - val_accuracy: 0.8834\n",
      "Epoch 54/100\n",
      "412/412 [==============================] - 1s 2ms/step - loss: 0.2130 - accuracy: 0.9094 - val_loss: 0.3099 - val_accuracy: 0.8816\n",
      "Epoch 55/100\n",
      "412/412 [==============================] - 1s 2ms/step - loss: 0.2124 - accuracy: 0.9111 - val_loss: 0.3057 - val_accuracy: 0.8855\n",
      "Epoch 56/100\n",
      "412/412 [==============================] - 1s 2ms/step - loss: 0.2112 - accuracy: 0.9119 - val_loss: 0.3034 - val_accuracy: 0.8882\n",
      "Epoch 57/100\n",
      "412/412 [==============================] - 1s 2ms/step - loss: 0.2108 - accuracy: 0.9112 - val_loss: 0.3101 - val_accuracy: 0.8862\n"
     ]
    },
    {
     "name": "stdout",
     "output_type": "stream",
     "text": [
      "Epoch 58/100\n",
      "412/412 [==============================] - 1s 2ms/step - loss: 0.2104 - accuracy: 0.9114 - val_loss: 0.3089 - val_accuracy: 0.8837\n",
      "Epoch 59/100\n",
      "412/412 [==============================] - 1s 2ms/step - loss: 0.2096 - accuracy: 0.9118 - val_loss: 0.3199 - val_accuracy: 0.8804\n",
      "Epoch 60/100\n",
      "412/412 [==============================] - 1s 2ms/step - loss: 0.2095 - accuracy: 0.9128 - val_loss: 0.3147 - val_accuracy: 0.8836\n",
      "Epoch 61/100\n",
      "412/412 [==============================] - 1s 2ms/step - loss: 0.2091 - accuracy: 0.9128 - val_loss: 0.3123 - val_accuracy: 0.8867\n",
      "Epoch 62/100\n",
      "412/412 [==============================] - 1s 2ms/step - loss: 0.2078 - accuracy: 0.9123 - val_loss: 0.3185 - val_accuracy: 0.8866\n",
      "Epoch 63/100\n",
      "412/412 [==============================] - 1s 2ms/step - loss: 0.2071 - accuracy: 0.9128 - val_loss: 0.3177 - val_accuracy: 0.8855\n",
      "Epoch 64/100\n",
      "412/412 [==============================] - 1s 2ms/step - loss: 0.2078 - accuracy: 0.9128 - val_loss: 0.3136 - val_accuracy: 0.8871\n",
      "Epoch 65/100\n",
      "412/412 [==============================] - 1s 2ms/step - loss: 0.2064 - accuracy: 0.9136 - val_loss: 0.3177 - val_accuracy: 0.8841\n",
      "Epoch 66/100\n",
      "412/412 [==============================] - 1s 4ms/step - loss: 0.2065 - accuracy: 0.9137 - val_loss: 0.3180 - val_accuracy: 0.8878\n",
      "Epoch 67/100\n",
      "412/412 [==============================] - 1s 3ms/step - loss: 0.2053 - accuracy: 0.9124 - val_loss: 0.3246 - val_accuracy: 0.8852\n",
      "Epoch 68/100\n",
      "412/412 [==============================] - 1s 3ms/step - loss: 0.2056 - accuracy: 0.9127 - val_loss: 0.3231 - val_accuracy: 0.8866\n",
      "Epoch 69/100\n",
      "412/412 [==============================] - 1s 3ms/step - loss: 0.2042 - accuracy: 0.9122 - val_loss: 0.3297 - val_accuracy: 0.8841\n",
      "Epoch 70/100\n",
      "412/412 [==============================] - 1s 3ms/step - loss: 0.2044 - accuracy: 0.9150 - val_loss: 0.3244 - val_accuracy: 0.8846\n",
      "Epoch 71/100\n",
      "412/412 [==============================] - 1s 2ms/step - loss: 0.2031 - accuracy: 0.9127 - val_loss: 0.3294 - val_accuracy: 0.8866\n",
      "Epoch 72/100\n",
      "412/412 [==============================] - 1s 3ms/step - loss: 0.2022 - accuracy: 0.9151 - val_loss: 0.3291 - val_accuracy: 0.8885\n",
      "Epoch 73/100\n",
      "412/412 [==============================] - 1s 3ms/step - loss: 0.2024 - accuracy: 0.9138 - val_loss: 0.3326 - val_accuracy: 0.8876\n",
      "Epoch 74/100\n",
      "412/412 [==============================] - 1s 2ms/step - loss: 0.2016 - accuracy: 0.9146 - val_loss: 0.3281 - val_accuracy: 0.8859\n",
      "Epoch 75/100\n",
      "412/412 [==============================] - 1s 2ms/step - loss: 0.2014 - accuracy: 0.9148 - val_loss: 0.3326 - val_accuracy: 0.8830\n",
      "Epoch 76/100\n",
      "412/412 [==============================] - 1s 2ms/step - loss: 0.2004 - accuracy: 0.9150 - val_loss: 0.3340 - val_accuracy: 0.8830\n",
      "Epoch 77/100\n",
      "412/412 [==============================] - 1s 2ms/step - loss: 0.2010 - accuracy: 0.9142 - val_loss: 0.3360 - val_accuracy: 0.8837\n",
      "Epoch 78/100\n",
      "412/412 [==============================] - 1s 2ms/step - loss: 0.1998 - accuracy: 0.9157 - val_loss: 0.3338 - val_accuracy: 0.8873\n",
      "Epoch 79/100\n",
      "412/412 [==============================] - 1s 2ms/step - loss: 0.1989 - accuracy: 0.9152 - val_loss: 0.3394 - val_accuracy: 0.8855\n",
      "Epoch 80/100\n",
      "412/412 [==============================] - 1s 2ms/step - loss: 0.1995 - accuracy: 0.9150 - val_loss: 0.3390 - val_accuracy: 0.8850\n",
      "Epoch 81/100\n",
      "412/412 [==============================] - 1s 2ms/step - loss: 0.1996 - accuracy: 0.9144 - val_loss: 0.3373 - val_accuracy: 0.8855\n",
      "Epoch 82/100\n",
      "412/412 [==============================] - 1s 2ms/step - loss: 0.1978 - accuracy: 0.9152 - val_loss: 0.3415 - val_accuracy: 0.8859\n",
      "Epoch 83/100\n",
      "412/412 [==============================] - 1s 3ms/step - loss: 0.1987 - accuracy: 0.9169 - val_loss: 0.3373 - val_accuracy: 0.8862\n",
      "Epoch 84/100\n",
      "412/412 [==============================] - 1s 3ms/step - loss: 0.1982 - accuracy: 0.9144 - val_loss: 0.3468 - val_accuracy: 0.8821\n",
      "Epoch 85/100\n",
      "412/412 [==============================] - 2s 4ms/step - loss: 0.1965 - accuracy: 0.9160 - val_loss: 0.3460 - val_accuracy: 0.8825\n",
      "Epoch 86/100\n",
      "412/412 [==============================] - 1s 3ms/step - loss: 0.1955 - accuracy: 0.9164 - val_loss: 0.3488 - val_accuracy: 0.8841\n",
      "Epoch 87/100\n",
      "412/412 [==============================] - 1s 2ms/step - loss: 0.1962 - accuracy: 0.9164 - val_loss: 0.3517 - val_accuracy: 0.8825\n",
      "Epoch 88/100\n",
      "412/412 [==============================] - 1s 2ms/step - loss: 0.1947 - accuracy: 0.9155 - val_loss: 0.3542 - val_accuracy: 0.8836\n",
      "Epoch 89/100\n",
      "412/412 [==============================] - 1s 2ms/step - loss: 0.1968 - accuracy: 0.9143 - val_loss: 0.3479 - val_accuracy: 0.8843\n",
      "Epoch 90/100\n",
      "412/412 [==============================] - 1s 2ms/step - loss: 0.1938 - accuracy: 0.9166 - val_loss: 0.3576 - val_accuracy: 0.8797\n",
      "Epoch 91/100\n",
      "412/412 [==============================] - 1s 2ms/step - loss: 0.1942 - accuracy: 0.9159 - val_loss: 0.3564 - val_accuracy: 0.8788\n",
      "Epoch 92/100\n",
      "412/412 [==============================] - 1s 2ms/step - loss: 0.1935 - accuracy: 0.9171 - val_loss: 0.3585 - val_accuracy: 0.8790\n",
      "Epoch 93/100\n",
      "412/412 [==============================] - 1s 2ms/step - loss: 0.1934 - accuracy: 0.9172 - val_loss: 0.3506 - val_accuracy: 0.8846\n",
      "Epoch 94/100\n",
      "412/412 [==============================] - 1s 3ms/step - loss: 0.1923 - accuracy: 0.9150 - val_loss: 0.3593 - val_accuracy: 0.8797\n",
      "Epoch 95/100\n",
      "412/412 [==============================] - 1s 3ms/step - loss: 0.1921 - accuracy: 0.9157 - val_loss: 0.3596 - val_accuracy: 0.8834\n",
      "Epoch 96/100\n",
      "412/412 [==============================] - 2s 4ms/step - loss: 0.1932 - accuracy: 0.9167 - val_loss: 0.3551 - val_accuracy: 0.8852\n",
      "Epoch 97/100\n",
      "412/412 [==============================] - 1s 3ms/step - loss: 0.1914 - accuracy: 0.9182 - val_loss: 0.3681 - val_accuracy: 0.8798\n",
      "Epoch 98/100\n",
      "412/412 [==============================] - 1s 3ms/step - loss: 0.1912 - accuracy: 0.9179 - val_loss: 0.3596 - val_accuracy: 0.8836\n",
      "Epoch 99/100\n",
      "412/412 [==============================] - 1s 3ms/step - loss: 0.1899 - accuracy: 0.9165 - val_loss: 0.3566 - val_accuracy: 0.8804\n",
      "Epoch 100/100\n",
      "412/412 [==============================] - 1s 3ms/step - loss: 0.1910 - accuracy: 0.9172 - val_loss: 0.3663 - val_accuracy: 0.8829\n"
     ]
    },
    {
     "data": {
      "text/plain": [
       "<tensorflow.python.keras.callbacks.History at 0x2210a18ff48>"
      ]
     },
     "execution_count": 76,
     "metadata": {},
     "output_type": "execute_result"
    }
   ],
   "source": [
    "ann1 = Sequential()\n",
    "ann1.add(Dense(units= 32, activation = 'relu', input_dim= train.shape[1]))\n",
    "ann1.add(Dense(units= 16, activation = 'relu'))\n",
    "ann1.add(Dense(units= 4, activation = 'sigmoid'))\n",
    "ann1.compile(optimizer='adam', loss='categorical_crossentropy', metrics='accuracy')\n",
    "ann1.fit(train, y_train_2_n, validation_split=0.3, epochs=100)"
   ]
  },
  {
   "cell_type": "code",
   "execution_count": 274,
   "metadata": {},
   "outputs": [
    {
     "data": {
      "text/html": [
       "<div>\n",
       "<style scoped>\n",
       "    .dataframe tbody tr th:only-of-type {\n",
       "        vertical-align: middle;\n",
       "    }\n",
       "\n",
       "    .dataframe tbody tr th {\n",
       "        vertical-align: top;\n",
       "    }\n",
       "\n",
       "    .dataframe thead th {\n",
       "        text-align: right;\n",
       "    }\n",
       "</style>\n",
       "<table border=\"1\" class=\"dataframe\">\n",
       "  <thead>\n",
       "    <tr style=\"text-align: right;\">\n",
       "      <th></th>\n",
       "      <th>0</th>\n",
       "      <th>1</th>\n",
       "      <th>2</th>\n",
       "      <th>4</th>\n",
       "    </tr>\n",
       "  </thead>\n",
       "  <tbody>\n",
       "    <tr>\n",
       "      <td>0</td>\n",
       "      <td>0</td>\n",
       "      <td>1</td>\n",
       "      <td>0</td>\n",
       "      <td>0</td>\n",
       "    </tr>\n",
       "    <tr>\n",
       "      <td>1</td>\n",
       "      <td>0</td>\n",
       "      <td>0</td>\n",
       "      <td>1</td>\n",
       "      <td>0</td>\n",
       "    </tr>\n",
       "    <tr>\n",
       "      <td>2</td>\n",
       "      <td>0</td>\n",
       "      <td>0</td>\n",
       "      <td>0</td>\n",
       "      <td>1</td>\n",
       "    </tr>\n",
       "    <tr>\n",
       "      <td>3</td>\n",
       "      <td>0</td>\n",
       "      <td>0</td>\n",
       "      <td>1</td>\n",
       "      <td>0</td>\n",
       "    </tr>\n",
       "    <tr>\n",
       "      <td>4</td>\n",
       "      <td>0</td>\n",
       "      <td>1</td>\n",
       "      <td>0</td>\n",
       "      <td>0</td>\n",
       "    </tr>\n",
       "    <tr>\n",
       "      <td>...</td>\n",
       "      <td>...</td>\n",
       "      <td>...</td>\n",
       "      <td>...</td>\n",
       "      <td>...</td>\n",
       "    </tr>\n",
       "    <tr>\n",
       "      <td>18829</td>\n",
       "      <td>0</td>\n",
       "      <td>0</td>\n",
       "      <td>1</td>\n",
       "      <td>0</td>\n",
       "    </tr>\n",
       "    <tr>\n",
       "      <td>18830</td>\n",
       "      <td>0</td>\n",
       "      <td>0</td>\n",
       "      <td>0</td>\n",
       "      <td>1</td>\n",
       "    </tr>\n",
       "    <tr>\n",
       "      <td>18831</td>\n",
       "      <td>0</td>\n",
       "      <td>1</td>\n",
       "      <td>0</td>\n",
       "      <td>0</td>\n",
       "    </tr>\n",
       "    <tr>\n",
       "      <td>18832</td>\n",
       "      <td>0</td>\n",
       "      <td>0</td>\n",
       "      <td>1</td>\n",
       "      <td>0</td>\n",
       "    </tr>\n",
       "    <tr>\n",
       "      <td>18833</td>\n",
       "      <td>0</td>\n",
       "      <td>0</td>\n",
       "      <td>1</td>\n",
       "      <td>0</td>\n",
       "    </tr>\n",
       "  </tbody>\n",
       "</table>\n",
       "<p>18834 rows × 4 columns</p>\n",
       "</div>"
      ],
      "text/plain": [
       "       0  1  2  4\n",
       "0      0  1  0  0\n",
       "1      0  0  1  0\n",
       "2      0  0  0  1\n",
       "3      0  0  1  0\n",
       "4      0  1  0  0\n",
       "...   .. .. .. ..\n",
       "18829  0  0  1  0\n",
       "18830  0  0  0  1\n",
       "18831  0  1  0  0\n",
       "18832  0  0  1  0\n",
       "18833  0  0  1  0\n",
       "\n",
       "[18834 rows x 4 columns]"
      ]
     },
     "execution_count": 274,
     "metadata": {},
     "output_type": "execute_result"
    }
   ],
   "source": [
    "y_train_2_n"
   ]
  },
  {
   "cell_type": "markdown",
   "metadata": {},
   "source": [
    "#### Output file for Neuralnets"
   ]
  },
  {
   "cell_type": "code",
   "execution_count": 96,
   "metadata": {},
   "outputs": [],
   "source": [
    "y_pred_1 = tuned_model_1.predict(test)\n",
    "y_pred_1 = np.argmax(y_pred_1, axis=1)\n",
    "y_pred_2 = tuned_model_2.predict(test)\n",
    "y_pred_2 = np.argmax(y_pred_2, axis=1)\n",
    "y_pred_2[y_pred_2==3] =4\n",
    "output = pd.DataFrame({'pet_id': test_id,\n",
    "                     'breed_category': y_pred_1,\n",
    "                    'pet_category': y_pred_2})\n",
    "output.to_csv('submission2.csv', index=False)"
   ]
  },
  {
   "cell_type": "markdown",
   "metadata": {},
   "source": [
    "##### Output file for ML"
   ]
  },
  {
   "cell_type": "code",
   "execution_count": 102,
   "metadata": {
    "colab": {
     "base_uri": "https://localhost:8080/",
     "height": 544
    },
    "colab_type": "code",
    "id": "XfYoY81uL4zi",
    "outputId": "73bc049e-510c-41c0-9206-43a06e72c763"
   },
   "outputs": [],
   "source": [
    "y_test_1 = tune_1.predict(test)\n",
    "y_test_2 = tune_2.predict(test)\n",
    "output = pd.DataFrame({'pet_id': test_id,\n",
    "                     'breed_category': y_test_1,\n",
    "                    'pet_category': y_test_2})\n",
    "output.to_csv('submission4.csv', index=False)"
   ]
  },
  {
   "cell_type": "code",
   "execution_count": 125,
   "metadata": {},
   "outputs": [
    {
     "data": {
      "text/plain": [
       "(18834,)"
      ]
     },
     "execution_count": 125,
     "metadata": {},
     "output_type": "execute_result"
    }
   ],
   "source": [
    "test_id.shape"
   ]
  },
  {
   "cell_type": "code",
   "execution_count": null,
   "metadata": {
    "colab": {},
    "colab_type": "code",
    "id": "mBzdF5r5L4zt"
   },
   "outputs": [],
   "source": []
  },
  {
   "cell_type": "code",
   "execution_count": null,
   "metadata": {
    "colab": {},
    "colab_type": "code",
    "id": "D2SQOGtNL4z1"
   },
   "outputs": [],
   "source": []
  }
 ],
 "metadata": {
  "colab": {
   "collapsed_sections": [],
   "name": "Breed and pet classifier.ipynb",
   "provenance": []
  },
  "kernelspec": {
   "display_name": "Python 3",
   "language": "python",
   "name": "python3"
  },
  "language_info": {
   "codemirror_mode": {
    "name": "ipython",
    "version": 3
   },
   "file_extension": ".py",
   "mimetype": "text/x-python",
   "name": "python",
   "nbconvert_exporter": "python",
   "pygments_lexer": "ipython3",
   "version": "3.7.4"
  }
 },
 "nbformat": 4,
 "nbformat_minor": 1
}
